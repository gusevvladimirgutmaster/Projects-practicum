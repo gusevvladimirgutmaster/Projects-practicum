{
 "cells": [
  {
   "cell_type": "markdown",
   "metadata": {},
   "source": [
    "# Проект \"Принятие решений в бизнесе крупного интернет-магазина на основе данных\"\n"
   ]
  },
  {
   "cell_type": "markdown",
   "metadata": {},
   "source": [
    "\n",
    "Даннное иследование проводится на основе данных крупного интернет-магазина. \n",
    "Основной целью исследования является проанализировать список гипотез для увеличения выручки.\n",
    "Задачами исследования являются: \n",
    "1. приоритизация гипотез;\n",
    "2. запуск A/B-теста; \n",
    "3. проанализировать результаты."
   ]
  },
  {
   "cell_type": "markdown",
   "metadata": {},
   "source": [
    "### Загрузка данных и подготовка их к анализу"
   ]
  },
  {
   "cell_type": "markdown",
   "metadata": {},
   "source": [
    "#### Загрузка данных из файла в датафрейм."
   ]
  },
  {
   "cell_type": "code",
   "execution_count": 1,
   "metadata": {},
   "outputs": [],
   "source": [
    "import pandas as pd\n",
    "import scipy.stats as stats\n",
    "from datetime import datetime, timedelta\n",
    "import seaborn as sns\n",
    "from collections import Counter\n",
    "from scipy import stats as st\n",
    "import time\n",
    "from datetime import datetime\n",
    "from datetime import date, timedelta as td\n",
    "import datetime as dt\n",
    "import numpy as np\n",
    "import matplotlib.pyplot as plt\n",
    "from pandas.plotting import register_matplotlib_converters\n",
    "import warnings\n"
   ]
  },
  {
   "cell_type": "code",
   "execution_count": 2,
   "metadata": {},
   "outputs": [],
   "source": [
    "try:\n",
    "    hypothesi = pd.read_csv('/datasets/hypothesis.csv')\n",
    "except:\n",
    "    hypothesi = pd.read_csv('https://code.s3.yandex.net/datasets/hypothesis.csv') # гипотезы"
   ]
  },
  {
   "cell_type": "code",
   "execution_count": 3,
   "metadata": {},
   "outputs": [],
   "source": [
    "try:\n",
    "    orders = pd.read_csv('/datasets/orders.csv', sep=',')\n",
    "except:\n",
    "    orders = pd.read_csv('https://code.s3.yandex.net/datasets/orders.csv', sep=',')  # заказы"
   ]
  },
  {
   "cell_type": "code",
   "execution_count": 4,
   "metadata": {},
   "outputs": [],
   "source": [
    "try:\n",
    "    visitors = pd.read_csv('/datasets/visitors.csv', sep=',')\n",
    "except:\n",
    "    visitors = pd.read_csv('https://code.s3.yandex.net/datasets/visitors.csv', sep=',') # визиты"
   ]
  },
  {
   "cell_type": "markdown",
   "metadata": {},
   "source": [
    "#### Изучение общей информации о полученном датафрейме и  предобработка данных  "
   ]
  },
  {
   "cell_type": "code",
   "execution_count": 5,
   "metadata": {},
   "outputs": [
    {
     "data": {
      "text/plain": [
       "<bound method NDFrame.head of                                                                                                      Hypothesis  \\\n",
       "0  Добавить два новых канала привлечения трафика, что позволит привлекать на 30% больше пользователей             \n",
       "1  Запустить собственную службу доставки, что сократит срок доставки заказов                                      \n",
       "2  Добавить блоки рекомендаций товаров на сайт интернет магазина, чтобы повысить конверсию и средний чек заказа   \n",
       "3  Изменить структура категорий, что увеличит конверсию, т.к. пользователи быстрее найдут нужный товар            \n",
       "4  Изменить цвет фона главной страницы, чтобы увеличить вовлеченность пользователей                               \n",
       "5  Добавить страницу отзывов клиентов о магазине, что позволит увеличить количество заказов                       \n",
       "6  Показать на главной странице баннеры с актуальными акциями и распродажами, чтобы увеличить конверсию           \n",
       "7  Добавить форму подписки на все основные страницы, чтобы собрать базу клиентов для email-рассылок               \n",
       "8  Запустить акцию, дающую скидку на товар в день рождения                                                        \n",
       "\n",
       "   Reach  Impact  Confidence  Efforts  \n",
       "0  3      10      8           6        \n",
       "1  2      5       4           10       \n",
       "2  8      3       7           3        \n",
       "3  8      3       3           8        \n",
       "4  3      1       1           1        \n",
       "5  3      2       2           3        \n",
       "6  5      3       8           3        \n",
       "7  10     7       8           5        \n",
       "8  1      9       9           5        >"
      ]
     },
     "metadata": {},
     "output_type": "display_data"
    }
   ],
   "source": [
    "pd.set_option('display.max_colwidth', 0)\n",
    "display(hypothesi.head)"
   ]
  },
  {
   "cell_type": "code",
   "execution_count": 6,
   "metadata": {},
   "outputs": [
    {
     "name": "stdout",
     "output_type": "stream",
     "text": [
      "<class 'pandas.core.frame.DataFrame'>\n",
      "RangeIndex: 9 entries, 0 to 8\n",
      "Data columns (total 5 columns):\n",
      " #   Column      Non-Null Count  Dtype \n",
      "---  ------      --------------  ----- \n",
      " 0   Hypothesis  9 non-null      object\n",
      " 1   Reach       9 non-null      int64 \n",
      " 2   Impact      9 non-null      int64 \n",
      " 3   Confidence  9 non-null      int64 \n",
      " 4   Efforts     9 non-null      int64 \n",
      "dtypes: int64(4), object(1)\n",
      "memory usage: 492.0+ bytes\n"
     ]
    }
   ],
   "source": [
    "hypothesi.info()"
   ]
  },
  {
   "cell_type": "code",
   "execution_count": 7,
   "metadata": {},
   "outputs": [],
   "source": [
    "#Переименуем строки и приведём и к нижниму регистру.\n",
    "hypothesi.columns = [x.lower().replace(' ', '_') for x in hypothesi.columns.values]"
   ]
  },
  {
   "cell_type": "code",
   "execution_count": 8,
   "metadata": {},
   "outputs": [
    {
     "name": "stdout",
     "output_type": "stream",
     "text": [
      "<class 'pandas.core.frame.DataFrame'>\n",
      "RangeIndex: 9 entries, 0 to 8\n",
      "Data columns (total 5 columns):\n",
      " #   Column      Non-Null Count  Dtype \n",
      "---  ------      --------------  ----- \n",
      " 0   hypothesis  9 non-null      object\n",
      " 1   reach       9 non-null      int64 \n",
      " 2   impact      9 non-null      int64 \n",
      " 3   confidence  9 non-null      int64 \n",
      " 4   efforts     9 non-null      int64 \n",
      "dtypes: int64(4), object(1)\n",
      "memory usage: 492.0+ bytes\n"
     ]
    }
   ],
   "source": [
    "hypothesi.info()"
   ]
  },
  {
   "cell_type": "code",
   "execution_count": 9,
   "metadata": {},
   "outputs": [
    {
     "data": {
      "text/plain": [
       "0"
      ]
     },
     "execution_count": 9,
     "metadata": {},
     "output_type": "execute_result"
    }
   ],
   "source": [
    "#Проверим есть ли дубликаты.\n",
    "hypothesi.duplicated().sum()"
   ]
  },
  {
   "cell_type": "markdown",
   "metadata": {},
   "source": [
    "#### Изучение общей информации о полученном датафрейме и предобработка данных о заказах"
   ]
  },
  {
   "cell_type": "code",
   "execution_count": 10,
   "metadata": {},
   "outputs": [
    {
     "data": {
      "text/plain": [
       "<bound method NDFrame.head of       transactionId   visitorId        date  revenue group\n",
       "0     3667963787     3312258926  2019-08-15  1650     B   \n",
       "1     2804400009     3642806036  2019-08-15  730      B   \n",
       "2     2961555356     4069496402  2019-08-15  400      A   \n",
       "3     3797467345     1196621759  2019-08-15  9759     B   \n",
       "4     2282983706     2322279887  2019-08-15  2308     B   \n",
       "...          ...            ...         ...   ...    ..   \n",
       "1192  2662137336     3733762160  2019-08-14  6490     B   \n",
       "1193  2203539145     370388673   2019-08-14  3190     A   \n",
       "1194  1807773912     573423106   2019-08-14  10550    A   \n",
       "1195  1947021204     1614305549  2019-08-14  100      A   \n",
       "1196  3936777065     2108080724  2019-08-15  202740   B   \n",
       "\n",
       "[1197 rows x 5 columns]>"
      ]
     },
     "execution_count": 10,
     "metadata": {},
     "output_type": "execute_result"
    }
   ],
   "source": [
    "orders.head"
   ]
  },
  {
   "cell_type": "code",
   "execution_count": 11,
   "metadata": {},
   "outputs": [
    {
     "name": "stdout",
     "output_type": "stream",
     "text": [
      "<class 'pandas.core.frame.DataFrame'>\n",
      "RangeIndex: 1197 entries, 0 to 1196\n",
      "Data columns (total 5 columns):\n",
      " #   Column         Non-Null Count  Dtype \n",
      "---  ------         --------------  ----- \n",
      " 0   transactionId  1197 non-null   int64 \n",
      " 1   visitorId      1197 non-null   int64 \n",
      " 2   date           1197 non-null   object\n",
      " 3   revenue        1197 non-null   int64 \n",
      " 4   group          1197 non-null   object\n",
      "dtypes: int64(3), object(2)\n",
      "memory usage: 46.9+ KB\n"
     ]
    }
   ],
   "source": [
    "orders.info()"
   ]
  },
  {
   "cell_type": "code",
   "execution_count": 12,
   "metadata": {},
   "outputs": [],
   "source": [
    "# преобразуем данные о времени для дальнейших расчётов\n",
    "orders['date'] = orders['date'].map(lambda x: dt.datetime.strptime(x, '%Y-%m-%d'))"
   ]
  },
  {
   "cell_type": "code",
   "execution_count": 13,
   "metadata": {},
   "outputs": [],
   "source": [
    "#канал приведем к строковому типу\n",
    "orders['group'] = orders['group'].astype(str)"
   ]
  },
  {
   "cell_type": "code",
   "execution_count": 14,
   "metadata": {},
   "outputs": [
    {
     "data": {
      "text/plain": [
       "0"
      ]
     },
     "execution_count": 14,
     "metadata": {},
     "output_type": "execute_result"
    }
   ],
   "source": [
    "#Проверим есть ли дубликаты.\n",
    "orders.duplicated().sum()"
   ]
  },
  {
   "cell_type": "code",
   "execution_count": 15,
   "metadata": {},
   "outputs": [
    {
     "data": {
      "text/plain": [
       "3667963787    1\n",
       "4167421281    1\n",
       "2875229767    1\n",
       "504373597     1\n",
       "2017680897    1\n",
       "             ..\n",
       "1853288890    1\n",
       "2084190534    1\n",
       "2956594374    1\n",
       "3646798055    1\n",
       "3936777065    1\n",
       "Name: transactionId, Length: 1197, dtype: int64"
      ]
     },
     "execution_count": 15,
     "metadata": {},
     "output_type": "execute_result"
    }
   ],
   "source": [
    "# Изучем данные столбцов\n",
    "orders['transactionId'].value_counts()"
   ]
  },
  {
   "cell_type": "code",
   "execution_count": 16,
   "metadata": {},
   "outputs": [
    {
     "data": {
      "text/plain": [
       "4256040402    11\n",
       "2458001652    11\n",
       "2378935119    9 \n",
       "2038680547    8 \n",
       "199603092     5 \n",
       "             .. \n",
       "2524310328    1 \n",
       "2210805728    1 \n",
       "2274825520    1 \n",
       "1831227158    1 \n",
       "2108080724    1 \n",
       "Name: visitorId, Length: 1031, dtype: int64"
      ]
     },
     "execution_count": 16,
     "metadata": {},
     "output_type": "execute_result"
    }
   ],
   "source": [
    "orders['visitorId'].value_counts()"
   ]
  },
  {
   "cell_type": "markdown",
   "metadata": {},
   "source": [
    "Данные показывают 1031 уникального пользователя. Больше всего заказывает пользователи под номером 4256040402 и 245800165."
   ]
  },
  {
   "cell_type": "code",
   "execution_count": 17,
   "metadata": {},
   "outputs": [
    {
     "data": {
      "text/plain": [
       "count    1.197000e+03\n",
       "mean     8.348006e+03\n",
       "std      3.919113e+04\n",
       "min      5.000000e+01\n",
       "25%      1.220000e+03\n",
       "50%      2.978000e+03\n",
       "75%      8.290000e+03\n",
       "max      1.294500e+06\n",
       "Name: revenue, dtype: float64"
      ]
     },
     "execution_count": 17,
     "metadata": {},
     "output_type": "execute_result"
    }
   ],
   "source": [
    "orders['revenue'].describe()"
   ]
  },
  {
   "cell_type": "markdown",
   "metadata": {},
   "source": [
    "Из данных видно, что максимальный заказ составил 1,295 млн рублей, что вероятно является аномалией. Стоимость среднего заказа составляет 2978 рублей. "
   ]
  },
  {
   "cell_type": "code",
   "execution_count": 18,
   "metadata": {},
   "outputs": [
    {
     "name": "stdout",
     "output_type": "stream",
     "text": [
      "Количество заказов больше 1 млн. руб: 1\n"
     ]
    }
   ],
   "source": [
    "print('Количество заказов больше 1 млн. руб:', orders.query('revenue >1000000')['revenue'].count()) "
   ]
  },
  {
   "cell_type": "markdown",
   "metadata": {},
   "source": [
    "Если не будет влиять на результат анализа можно оставить."
   ]
  },
  {
   "cell_type": "code",
   "execution_count": 19,
   "metadata": {},
   "outputs": [
    {
     "data": {
      "text/plain": [
       "'Количество заказов больше 28000 руб:'"
      ]
     },
     "metadata": {},
     "output_type": "display_data"
    },
    {
     "data": {
      "text/plain": [
       "60"
      ]
     },
     "metadata": {},
     "output_type": "display_data"
    }
   ],
   "source": [
    "display('Количество заказов больше 28000 руб:', orders.query('revenue >28000')['revenue'].count()) "
   ]
  },
  {
   "cell_type": "markdown",
   "metadata": {},
   "source": [
    "#### Изучение общей информации о полученном датафрейме и предобработка данных о визитах"
   ]
  },
  {
   "cell_type": "code",
   "execution_count": 20,
   "metadata": {},
   "outputs": [
    {
     "data": {
      "text/html": [
       "<div>\n",
       "<style scoped>\n",
       "    .dataframe tbody tr th:only-of-type {\n",
       "        vertical-align: middle;\n",
       "    }\n",
       "\n",
       "    .dataframe tbody tr th {\n",
       "        vertical-align: top;\n",
       "    }\n",
       "\n",
       "    .dataframe thead th {\n",
       "        text-align: right;\n",
       "    }\n",
       "</style>\n",
       "<table border=\"1\" class=\"dataframe\">\n",
       "  <thead>\n",
       "    <tr style=\"text-align: right;\">\n",
       "      <th></th>\n",
       "      <th>date</th>\n",
       "      <th>group</th>\n",
       "      <th>visitors</th>\n",
       "    </tr>\n",
       "  </thead>\n",
       "  <tbody>\n",
       "    <tr>\n",
       "      <th>0</th>\n",
       "      <td>2019-08-01</td>\n",
       "      <td>A</td>\n",
       "      <td>719</td>\n",
       "    </tr>\n",
       "    <tr>\n",
       "      <th>1</th>\n",
       "      <td>2019-08-02</td>\n",
       "      <td>A</td>\n",
       "      <td>619</td>\n",
       "    </tr>\n",
       "    <tr>\n",
       "      <th>2</th>\n",
       "      <td>2019-08-03</td>\n",
       "      <td>A</td>\n",
       "      <td>507</td>\n",
       "    </tr>\n",
       "    <tr>\n",
       "      <th>3</th>\n",
       "      <td>2019-08-04</td>\n",
       "      <td>A</td>\n",
       "      <td>717</td>\n",
       "    </tr>\n",
       "    <tr>\n",
       "      <th>4</th>\n",
       "      <td>2019-08-05</td>\n",
       "      <td>A</td>\n",
       "      <td>756</td>\n",
       "    </tr>\n",
       "  </tbody>\n",
       "</table>\n",
       "</div>"
      ],
      "text/plain": [
       "         date group  visitors\n",
       "0  2019-08-01  A     719     \n",
       "1  2019-08-02  A     619     \n",
       "2  2019-08-03  A     507     \n",
       "3  2019-08-04  A     717     \n",
       "4  2019-08-05  A     756     "
      ]
     },
     "execution_count": 20,
     "metadata": {},
     "output_type": "execute_result"
    }
   ],
   "source": [
    "# Изучение данных\n",
    "visitors.head()"
   ]
  },
  {
   "cell_type": "code",
   "execution_count": 21,
   "metadata": {},
   "outputs": [
    {
     "name": "stdout",
     "output_type": "stream",
     "text": [
      "<class 'pandas.core.frame.DataFrame'>\n",
      "RangeIndex: 62 entries, 0 to 61\n",
      "Data columns (total 3 columns):\n",
      " #   Column    Non-Null Count  Dtype \n",
      "---  ------    --------------  ----- \n",
      " 0   date      62 non-null     object\n",
      " 1   group     62 non-null     object\n",
      " 2   visitors  62 non-null     int64 \n",
      "dtypes: int64(1), object(2)\n",
      "memory usage: 1.6+ KB\n"
     ]
    }
   ],
   "source": [
    "visitors.info()"
   ]
  },
  {
   "cell_type": "code",
   "execution_count": 22,
   "metadata": {},
   "outputs": [],
   "source": [
    "# преобразуем данные о времени для дальнейших расчётов\n",
    "visitors['date'] = visitors['date'].map(\n",
    "    lambda x: dt.datetime.strptime(x, '%Y-%m-%d')\n",
    ")"
   ]
  },
  {
   "cell_type": "code",
   "execution_count": 23,
   "metadata": {},
   "outputs": [
    {
     "data": {
      "text/plain": [
       "count    62                 \n",
       "mean     2019-08-16 00:00:00\n",
       "min      2019-08-01 00:00:00\n",
       "25%      2019-08-08 06:00:00\n",
       "50%      2019-08-16 00:00:00\n",
       "75%      2019-08-23 18:00:00\n",
       "max      2019-08-31 00:00:00\n",
       "Name: date, dtype: object"
      ]
     },
     "execution_count": 23,
     "metadata": {},
     "output_type": "execute_result"
    }
   ],
   "source": [
    "visitors['date'].describe(datetime_is_numeric=True)"
   ]
  },
  {
   "cell_type": "code",
   "execution_count": 24,
   "metadata": {},
   "outputs": [
    {
     "data": {
      "text/plain": [
       "0"
      ]
     },
     "execution_count": 24,
     "metadata": {},
     "output_type": "execute_result"
    }
   ],
   "source": [
    "#Проверим есть ли дубликаты.\n",
    "orders.duplicated().sum()"
   ]
  },
  {
   "cell_type": "markdown",
   "metadata": {},
   "source": [
    "#### Изучение состава групп"
   ]
  },
  {
   "cell_type": "markdown",
   "metadata": {},
   "source": [
    "Определим сколько пользователей участвует в тесте."
   ]
  },
  {
   "cell_type": "code",
   "execution_count": 25,
   "metadata": {},
   "outputs": [
    {
     "data": {
      "text/plain": [
       "1197"
      ]
     },
     "execution_count": 25,
     "metadata": {},
     "output_type": "execute_result"
    }
   ],
   "source": [
    "orders['visitorId'].count()"
   ]
  },
  {
   "cell_type": "markdown",
   "metadata": {},
   "source": [
    "Всего участвует в тесте 1197 пользователей. Рассмотрим сколько пользователей в каждой группе"
   ]
  },
  {
   "cell_type": "code",
   "execution_count": 26,
   "metadata": {},
   "outputs": [
    {
     "name": "stdout",
     "output_type": "stream",
     "text": [
      "Количество пользователей в группе А - 557\n"
     ]
    }
   ],
   "source": [
    "print('Количество пользователей в группе А -', orders.query('group == \"A\"')['visitorId'].count())"
   ]
  },
  {
   "cell_type": "code",
   "execution_count": 27,
   "metadata": {},
   "outputs": [
    {
     "name": "stdout",
     "output_type": "stream",
     "text": [
      "Количество пользователей в группе B - 640\n"
     ]
    }
   ],
   "source": [
    "print('Количество пользователей в группе B -', orders.query('group == \"B\"')['visitorId'].count())"
   ]
  },
  {
   "cell_type": "markdown",
   "metadata": {},
   "source": [
    " Определим сколько пользователей попали одновременно в обе группы"
   ]
  },
  {
   "cell_type": "code",
   "execution_count": 28,
   "metadata": {},
   "outputs": [
    {
     "data": {
      "text/plain": [
       "group    58\n",
       "dtype: int64"
      ]
     },
     "execution_count": 28,
     "metadata": {},
     "output_type": "execute_result"
    }
   ],
   "source": [
    "orders.groupby('visitorId').agg({'group' : 'nunique'}).query('group>1').count()"
   ]
  },
  {
   "cell_type": "markdown",
   "metadata": {},
   "source": [
    "В обе группы попали 58 пользователей. Заказы  пользователей попадают то в одну то в другую группу теста."
   ]
  },
  {
   "cell_type": "markdown",
   "metadata": {},
   "source": [
    "Далее создаем список этих 58 пользователей :"
   ]
  },
  {
   "cell_type": "code",
   "execution_count": 29,
   "metadata": {},
   "outputs": [
    {
     "data": {
      "text/plain": [
       "array([   8300375,  199603092,  232979603,  237748145,  276558944,\n",
       "        351125977,  393266494,  457167155,  471551937,  477780734,\n",
       "        818047933,  963407295, 1230306981, 1294878855, 1316129916,\n",
       "       1333886533, 1404934699, 1602967004, 1614305549, 1648269707,\n",
       "       1668030113, 1738359350, 1801183820, 1959144690, 2038680547,\n",
       "       2044997962, 2378935119, 2458001652, 2579882178, 2587333274,\n",
       "       2600415354, 2654030115, 2686716486, 2712142231, 2716752286,\n",
       "       2780786433, 2927087541, 2949041841, 2954449915, 3062433592,\n",
       "       3202540741, 3234906277, 3656415546, 3717692402, 3766097110,\n",
       "       3803269165, 3891541246, 3941795274, 3951559397, 3957174400,\n",
       "       3963646447, 3972127743, 3984495233, 4069496402, 4120364173,\n",
       "       4186807279, 4256040402, 4266935830], dtype=int64)"
      ]
     },
     "execution_count": 29,
     "metadata": {},
     "output_type": "execute_result"
    }
   ],
   "source": [
    "double_users = orders.groupby('visitorId').agg({'group' : 'nunique'}).reset_index().query('group>1')['visitorId'].unique()\n",
    "double_users"
   ]
  },
  {
   "cell_type": "code",
   "execution_count": 30,
   "metadata": {},
   "outputs": [
    {
     "data": {
      "text/html": [
       "<div>\n",
       "<style scoped>\n",
       "    .dataframe tbody tr th:only-of-type {\n",
       "        vertical-align: middle;\n",
       "    }\n",
       "\n",
       "    .dataframe tbody tr th {\n",
       "        vertical-align: top;\n",
       "    }\n",
       "\n",
       "    .dataframe thead th {\n",
       "        text-align: right;\n",
       "    }\n",
       "</style>\n",
       "<table border=\"1\" class=\"dataframe\">\n",
       "  <thead>\n",
       "    <tr style=\"text-align: right;\">\n",
       "      <th></th>\n",
       "      <th>transactionId</th>\n",
       "      <th>visitorId</th>\n",
       "      <th>date</th>\n",
       "      <th>revenue</th>\n",
       "      <th>group</th>\n",
       "    </tr>\n",
       "  </thead>\n",
       "  <tbody>\n",
       "    <tr>\n",
       "      <th>71</th>\n",
       "      <td>3679129301</td>\n",
       "      <td>8300375</td>\n",
       "      <td>2019-08-01</td>\n",
       "      <td>10510</td>\n",
       "      <td>B</td>\n",
       "    </tr>\n",
       "    <tr>\n",
       "      <th>703</th>\n",
       "      <td>4293855558</td>\n",
       "      <td>8300375</td>\n",
       "      <td>2019-08-07</td>\n",
       "      <td>1790</td>\n",
       "      <td>A</td>\n",
       "    </tr>\n",
       "  </tbody>\n",
       "</table>\n",
       "</div>"
      ],
      "text/plain": [
       "     transactionId  visitorId       date  revenue group\n",
       "71   3679129301     8300375   2019-08-01  10510    B   \n",
       "703  4293855558     8300375   2019-08-07  1790     A   "
      ]
     },
     "execution_count": 30,
     "metadata": {},
     "output_type": "execute_result"
    }
   ],
   "source": [
    "double_users_primer = orders.query('visitorId == 8300375')\n",
    "double_users_primer\n",
    "\n"
   ]
  },
  {
   "cell_type": "markdown",
   "metadata": {},
   "source": [
    "Удалять их не требуется. Так как их нельзя корректно удалить из таблицы visitors."
   ]
  },
  {
   "cell_type": "markdown",
   "metadata": {},
   "source": [
    "### Часть 1. Приоритизация гипотез.\n"
   ]
  },
  {
   "cell_type": "markdown",
   "metadata": {},
   "source": [
    "#### Применение фреймворка ICE для приоритизации гипотез. Сортировка их по убыванию приоритета.\n"
   ]
  },
  {
   "cell_type": "code",
   "execution_count": 31,
   "metadata": {},
   "outputs": [
    {
     "data": {
      "text/html": [
       "<div>\n",
       "<style scoped>\n",
       "    .dataframe tbody tr th:only-of-type {\n",
       "        vertical-align: middle;\n",
       "    }\n",
       "\n",
       "    .dataframe tbody tr th {\n",
       "        vertical-align: top;\n",
       "    }\n",
       "\n",
       "    .dataframe thead th {\n",
       "        text-align: right;\n",
       "    }\n",
       "</style>\n",
       "<table border=\"1\" class=\"dataframe\">\n",
       "  <thead>\n",
       "    <tr style=\"text-align: right;\">\n",
       "      <th></th>\n",
       "      <th>hypothesis</th>\n",
       "      <th>ICE</th>\n",
       "    </tr>\n",
       "  </thead>\n",
       "  <tbody>\n",
       "    <tr>\n",
       "      <th>8</th>\n",
       "      <td>Запустить акцию, дающую скидку на товар в день рождения</td>\n",
       "      <td>16.2</td>\n",
       "    </tr>\n",
       "    <tr>\n",
       "      <th>0</th>\n",
       "      <td>Добавить два новых канала привлечения трафика, что позволит привлекать на 30% больше пользователей</td>\n",
       "      <td>13.3</td>\n",
       "    </tr>\n",
       "    <tr>\n",
       "      <th>7</th>\n",
       "      <td>Добавить форму подписки на все основные страницы, чтобы собрать базу клиентов для email-рассылок</td>\n",
       "      <td>11.2</td>\n",
       "    </tr>\n",
       "    <tr>\n",
       "      <th>6</th>\n",
       "      <td>Показать на главной странице баннеры с актуальными акциями и распродажами, чтобы увеличить конверсию</td>\n",
       "      <td>8.0</td>\n",
       "    </tr>\n",
       "    <tr>\n",
       "      <th>2</th>\n",
       "      <td>Добавить блоки рекомендаций товаров на сайт интернет магазина, чтобы повысить конверсию и средний чек заказа</td>\n",
       "      <td>7.0</td>\n",
       "    </tr>\n",
       "    <tr>\n",
       "      <th>1</th>\n",
       "      <td>Запустить собственную службу доставки, что сократит срок доставки заказов</td>\n",
       "      <td>2.0</td>\n",
       "    </tr>\n",
       "    <tr>\n",
       "      <th>5</th>\n",
       "      <td>Добавить страницу отзывов клиентов о магазине, что позволит увеличить количество заказов</td>\n",
       "      <td>1.3</td>\n",
       "    </tr>\n",
       "    <tr>\n",
       "      <th>3</th>\n",
       "      <td>Изменить структура категорий, что увеличит конверсию, т.к. пользователи быстрее найдут нужный товар</td>\n",
       "      <td>1.1</td>\n",
       "    </tr>\n",
       "    <tr>\n",
       "      <th>4</th>\n",
       "      <td>Изменить цвет фона главной страницы, чтобы увеличить вовлеченность пользователей</td>\n",
       "      <td>1.0</td>\n",
       "    </tr>\n",
       "  </tbody>\n",
       "</table>\n",
       "</div>"
      ],
      "text/plain": [
       "                                                                                                     hypothesis  \\\n",
       "8  Запустить акцию, дающую скидку на товар в день рождения                                                        \n",
       "0  Добавить два новых канала привлечения трафика, что позволит привлекать на 30% больше пользователей             \n",
       "7  Добавить форму подписки на все основные страницы, чтобы собрать базу клиентов для email-рассылок               \n",
       "6  Показать на главной странице баннеры с актуальными акциями и распродажами, чтобы увеличить конверсию           \n",
       "2  Добавить блоки рекомендаций товаров на сайт интернет магазина, чтобы повысить конверсию и средний чек заказа   \n",
       "1  Запустить собственную службу доставки, что сократит срок доставки заказов                                      \n",
       "5  Добавить страницу отзывов клиентов о магазине, что позволит увеличить количество заказов                       \n",
       "3  Изменить структура категорий, что увеличит конверсию, т.к. пользователи быстрее найдут нужный товар            \n",
       "4  Изменить цвет фона главной страницы, чтобы увеличить вовлеченность пользователей                               \n",
       "\n",
       "    ICE  \n",
       "8  16.2  \n",
       "0  13.3  \n",
       "7  11.2  \n",
       "6  8.0   \n",
       "2  7.0   \n",
       "1  2.0   \n",
       "5  1.3   \n",
       "3  1.1   \n",
       "4  1.0   "
      ]
     },
     "metadata": {},
     "output_type": "display_data"
    }
   ],
   "source": [
    "\n",
    "hypothesi['ICE'] = (hypothesi['impact'] * hypothesi['confidence']) /hypothesi['efforts']\n",
    "hypothesi['ICE'] = hypothesi['ICE']\n",
    "pd.set_option('display.max_colwidth', 0)\n",
    "display(round(hypothesi[['hypothesis', 'ICE']].sort_values(by='ICE', ascending=False),1))\n",
    "\n"
   ]
  },
  {
   "cell_type": "markdown",
   "metadata": {},
   "source": [
    "8 гипотеза самая перспективная. Затем идут гипотезы  0,7 и 6."
   ]
  },
  {
   "cell_type": "markdown",
   "metadata": {},
   "source": [
    "#### Применение фреймворка  RICE для приоритизации гипотез. Сортировка их по убыванию приоритета."
   ]
  },
  {
   "cell_type": "code",
   "execution_count": 32,
   "metadata": {},
   "outputs": [
    {
     "data": {
      "text/html": [
       "<div>\n",
       "<style scoped>\n",
       "    .dataframe tbody tr th:only-of-type {\n",
       "        vertical-align: middle;\n",
       "    }\n",
       "\n",
       "    .dataframe tbody tr th {\n",
       "        vertical-align: top;\n",
       "    }\n",
       "\n",
       "    .dataframe thead th {\n",
       "        text-align: right;\n",
       "    }\n",
       "</style>\n",
       "<table border=\"1\" class=\"dataframe\">\n",
       "  <thead>\n",
       "    <tr style=\"text-align: right;\">\n",
       "      <th></th>\n",
       "      <th>hypothesis</th>\n",
       "      <th>RICE</th>\n",
       "    </tr>\n",
       "  </thead>\n",
       "  <tbody>\n",
       "    <tr>\n",
       "      <th>7</th>\n",
       "      <td>Добавить форму подписки на все основные страницы, чтобы собрать базу клиентов для email-рассылок</td>\n",
       "      <td>112.0</td>\n",
       "    </tr>\n",
       "    <tr>\n",
       "      <th>2</th>\n",
       "      <td>Добавить блоки рекомендаций товаров на сайт интернет магазина, чтобы повысить конверсию и средний чек заказа</td>\n",
       "      <td>56.0</td>\n",
       "    </tr>\n",
       "    <tr>\n",
       "      <th>0</th>\n",
       "      <td>Добавить два новых канала привлечения трафика, что позволит привлекать на 30% больше пользователей</td>\n",
       "      <td>40.0</td>\n",
       "    </tr>\n",
       "    <tr>\n",
       "      <th>6</th>\n",
       "      <td>Показать на главной странице баннеры с актуальными акциями и распродажами, чтобы увеличить конверсию</td>\n",
       "      <td>40.0</td>\n",
       "    </tr>\n",
       "    <tr>\n",
       "      <th>8</th>\n",
       "      <td>Запустить акцию, дающую скидку на товар в день рождения</td>\n",
       "      <td>16.2</td>\n",
       "    </tr>\n",
       "    <tr>\n",
       "      <th>3</th>\n",
       "      <td>Изменить структура категорий, что увеличит конверсию, т.к. пользователи быстрее найдут нужный товар</td>\n",
       "      <td>9.0</td>\n",
       "    </tr>\n",
       "    <tr>\n",
       "      <th>1</th>\n",
       "      <td>Запустить собственную службу доставки, что сократит срок доставки заказов</td>\n",
       "      <td>4.0</td>\n",
       "    </tr>\n",
       "    <tr>\n",
       "      <th>5</th>\n",
       "      <td>Добавить страницу отзывов клиентов о магазине, что позволит увеличить количество заказов</td>\n",
       "      <td>4.0</td>\n",
       "    </tr>\n",
       "    <tr>\n",
       "      <th>4</th>\n",
       "      <td>Изменить цвет фона главной страницы, чтобы увеличить вовлеченность пользователей</td>\n",
       "      <td>3.0</td>\n",
       "    </tr>\n",
       "  </tbody>\n",
       "</table>\n",
       "</div>"
      ],
      "text/plain": [
       "                                                                                                     hypothesis  \\\n",
       "7  Добавить форму подписки на все основные страницы, чтобы собрать базу клиентов для email-рассылок               \n",
       "2  Добавить блоки рекомендаций товаров на сайт интернет магазина, чтобы повысить конверсию и средний чек заказа   \n",
       "0  Добавить два новых канала привлечения трафика, что позволит привлекать на 30% больше пользователей             \n",
       "6  Показать на главной странице баннеры с актуальными акциями и распродажами, чтобы увеличить конверсию           \n",
       "8  Запустить акцию, дающую скидку на товар в день рождения                                                        \n",
       "3  Изменить структура категорий, что увеличит конверсию, т.к. пользователи быстрее найдут нужный товар            \n",
       "1  Запустить собственную службу доставки, что сократит срок доставки заказов                                      \n",
       "5  Добавить страницу отзывов клиентов о магазине, что позволит увеличить количество заказов                       \n",
       "4  Изменить цвет фона главной страницы, чтобы увеличить вовлеченность пользователей                               \n",
       "\n",
       "    RICE  \n",
       "7  112.0  \n",
       "2  56.0   \n",
       "0  40.0   \n",
       "6  40.0   \n",
       "8  16.2   \n",
       "3  9.0    \n",
       "1  4.0    \n",
       "5  4.0    \n",
       "4  3.0    "
      ]
     },
     "metadata": {},
     "output_type": "display_data"
    }
   ],
   "source": [
    "hypothesi['RICE'] = (hypothesi['reach'] *hypothesi['impact'] * hypothesi['confidence']) /hypothesi['efforts']\n",
    "hypothesi['RICE'] = hypothesi['RICE']\n",
    "\n",
    "pd.set_option('display.max_colwidth', 0)\n",
    "display(hypothesi[['hypothesis', 'RICE']].sort_values(by='RICE', ascending=False))\n"
   ]
  },
  {
   "cell_type": "markdown",
   "metadata": {},
   "source": [
    " 7 гипотеза самая перспективная. Затем идут гипотезы 2, 0 и 6."
   ]
  },
  {
   "cell_type": "markdown",
   "metadata": {},
   "source": [
    "#### Укажите, как изменилась приоритизация гипотез при применении RICE вместо ICE. Объясните, почему так произошло."
   ]
  },
  {
   "cell_type": "markdown",
   "metadata": {},
   "source": [
    "При применении RICE приоритетной гипотезой стала 7 вместо 8 при применении ICE. Так получилось потому что её параметр - охват пользователей по 10-балльной шкале равен 10, в то время у других гипотез он меньше."
   ]
  },
  {
   "cell_type": "markdown",
   "metadata": {},
   "source": [
    "\n",
    "### Часть 2. Анализ A/B-теста"
   ]
  },
  {
   "cell_type": "markdown",
   "metadata": {},
   "source": [
    "#### Построение графика кумулятивной выручки по группам.  Выводы и предположения."
   ]
  },
  {
   "cell_type": "code",
   "execution_count": 33,
   "metadata": {},
   "outputs": [
    {
     "data": {
      "image/png": "[encoded data removed]",
      "text/plain": [
       "<Figure size 1500x500 with 1 Axes>"
      ]
     },
     "metadata": {},
     "output_type": "display_data"
    }
   ],
   "source": [
    "plt.rcParams ['figure.figsize'] = [15, 5]\n",
    "# конвертеры, которые позволяют использовать типы pandas в matplotlib  \n",
    "register_matplotlib_converters()\n",
    "\n",
    "\n",
    "datesGroups = orders[['date', 'group']].drop_duplicates()\n",
    "\n",
    "ordersAggregated = datesGroups.apply(\n",
    "    lambda x: orders[\n",
    "        np.logical_and(\n",
    "            orders['date'] <= x['date'], orders['group'] == x['group']\n",
    "        )\n",
    "    ].agg(\n",
    "        {\n",
    "            'date': 'max',\n",
    "            'group': 'max',\n",
    "            'transactionId': 'nunique',\n",
    "            'visitorId': 'nunique',\n",
    "            'revenue': 'sum',\n",
    "        }\n",
    "    ),\n",
    "    axis=1,\n",
    ").sort_values(by=['date', 'group'])\n",
    "\n",
    "visitorsAggregated = datesGroups.apply(\n",
    "    lambda x: visitors[\n",
    "        np.logical_and(\n",
    "            visitors['date'] <= x['date'], visitors['group'] == x['group']\n",
    "        )\n",
    "    ].agg({'date': 'max', 'group': 'max', 'visitors': 'sum'}),\n",
    "    axis=1,\n",
    ").sort_values(by=['date', 'group'])\n",
    "\n",
    "cumulativeData = ordersAggregated.merge(\n",
    "    visitorsAggregated, left_on=['date', 'group'], right_on=['date', 'group']\n",
    ")\n",
    "cumulativeData.columns = [\n",
    "    'date',\n",
    "    'group',\n",
    "    'orders',\n",
    "    'buyers',\n",
    "    'revenue',\n",
    "    'visitors',\n",
    "]\n",
    "import matplotlib.pyplot as plt\n",
    "\n",
    "# датафрейм с кумулятивным количеством заказов и кумулятивной выручкой по дням в группе А\n",
    "cumulativeRevenueA = cumulativeData[cumulativeData['group']=='A'][['date','revenue', 'orders']]\n",
    "\n",
    "# датафрейм с кумулятивным количеством заказов и кумулятивной выручкой по дням в группе B\n",
    "cumulativeRevenueB = cumulativeData[cumulativeData['group']=='B'][['date','revenue', 'orders']]\n",
    "\n",
    "# Строим график выручки группы А\n",
    "plt.plot(cumulativeRevenueA['date'], cumulativeRevenueA['revenue'], label='A')\n",
    "\n",
    "# Строим график выручки группы B\n",
    "plt.plot(cumulativeRevenueB['date'], cumulativeRevenueB['revenue'], label='B')\n",
    "\n",
    "plt.legend() \n",
    "\n",
    "           \n",
    "\n",
    "plt.title('График кумулятивной выручки по группам')\n",
    "plt.xlabel('Дата')\n",
    "plt.ylabel('Выручка');"
   ]
  },
  {
   "cell_type": "markdown",
   "metadata": {},
   "source": [
    "Группа B практически всё время теста лидировала над группой А. Причём с середины заметно группа B вырвалась вперёд. Похоже аномально большие заказы всетки влияют на результаты. При заключительном анализе их нужно удалить."
   ]
  },
  {
   "cell_type": "markdown",
   "metadata": {},
   "source": [
    "#### Построение графика кумулятивного среднего чека по группам. Выводы и предположения"
   ]
  },
  {
   "cell_type": "code",
   "execution_count": 34,
   "metadata": {},
   "outputs": [
    {
     "data": {
      "image/png": "[encoded data removed]",
      "text/plain": [
       "<Figure size 1500x500 with 1 Axes>"
      ]
     },
     "metadata": {},
     "output_type": "display_data"
    }
   ],
   "source": [
    "\n",
    "\n",
    "cumulativeRevenueA = cumulativeData[cumulativeData['group'] == 'A'][\n",
    "    ['date', 'revenue', 'orders']\n",
    "]\n",
    "cumulativeRevenueB = cumulativeData[cumulativeData['group'] == 'B'][\n",
    "    ['date', 'revenue', 'orders']\n",
    "]\n",
    "plt.plot(cumulativeRevenueA['date'], cumulativeRevenueA['revenue']/cumulativeRevenueA['orders'], label='A')\n",
    "plt.plot(cumulativeRevenueB['date'], cumulativeRevenueB['revenue']/cumulativeRevenueB['orders'], label='B')\n",
    "plt.legend()\n",
    "plt.title('График кумулятивного среднего чека по группам')\n",
    "plt.xlabel('Дата')\n",
    "plt.ylabel(' Кумулятивное значение среднего чека   ');"
   ]
  },
  {
   "cell_type": "markdown",
   "metadata": {},
   "source": [
    "Кумулятивное значение среднего чека заметно растёт в процессе теста для группы B начиная с середины. Недоходя середины кумулятивное значение среднего чека по группе А заметно вырывается вперед и затем к середине угасает. "
   ]
  },
  {
   "cell_type": "markdown",
   "metadata": {},
   "source": [
    "#### Постройте график относительного изменения кумулятивного среднего чека группы B к группе A. Сделайте выводы и предположения."
   ]
  },
  {
   "cell_type": "code",
   "execution_count": 35,
   "metadata": {},
   "outputs": [
    {
     "data": {
      "image/png": "[encoded data removed]",
      "text/plain": [
       "<Figure size 1500x500 with 1 Axes>"
      ]
     },
     "metadata": {},
     "output_type": "display_data"
    }
   ],
   "source": [
    "\n",
    "# собираем данные в одном датафрейме\n",
    "mergedCumulativeRevenue = cumulativeRevenueA.merge(cumulativeRevenueB, left_on='date', right_on='date', how='left', suffixes=['A', 'B'])\n",
    "\n",
    "# cтроим отношение средних чеков\n",
    "plt.plot(mergedCumulativeRevenue['date'], (mergedCumulativeRevenue['revenueB']/mergedCumulativeRevenue['ordersB'])/(mergedCumulativeRevenue['revenueA']/mergedCumulativeRevenue['ordersA'])-1)\n",
    "\n",
    "# добавляем ось X\n",
    "plt.axhline(y=0, color='black', linestyle='--')\n",
    "plt.title('График относительного изменения кумулятивного среднего чека группы B к группе A')\n",
    "plt.xlabel('Дата')\n",
    "plt.ylabel(' Кумулятивное значение среднего чека   '); "
   ]
  },
  {
   "cell_type": "markdown",
   "metadata": {},
   "source": [
    "Результаты теста значительно менялись только в середине."
   ]
  },
  {
   "cell_type": "markdown",
   "metadata": {},
   "source": [
    "#### Построение графика кумулятивного среднего количества заказов на посетителя по группам. Сделайте выводы и предположения."
   ]
  },
  {
   "cell_type": "code",
   "execution_count": 36,
   "metadata": {},
   "outputs": [
    {
     "data": {
      "image/png": "[encoded data removed]",
      "text/plain": [
       "<Figure size 1500x500 with 1 Axes>"
      ]
     },
     "metadata": {},
     "output_type": "display_data"
    }
   ],
   "source": [
    "\n",
    "# считаем кумулятивное среднее количество заказов\n",
    "cumulativeData['conversion'] = cumulativeData['orders']/cumulativeData['visitors']\n",
    "\n",
    "# отделяем данные по группе A\n",
    "cumulativeDataA = cumulativeData[cumulativeData['group']=='A']\n",
    "\n",
    "# отделяем данные по группе B\n",
    "cumulativeDataB = cumulativeData[cumulativeData['group']=='B']\n",
    "\n",
    "# строим графики\n",
    "plt.plot(cumulativeDataA['date'], cumulativeDataA['conversion'], label='A')\n",
    "plt.plot(cumulativeDataB['date'], cumulativeDataB['conversion'], label='B')\n",
    "plt.legend()\n",
    "# задаем масштаб осей\n",
    "plt.axis([dt.datetime(2019, 8, 1), dt.datetime(2019, 8, 31), 0.029, 0.037])\n",
    "plt.title('График кумулятивного среднего количества заказов на посетителя по группам')\n",
    "plt.xlabel('Дата')\n",
    "plt.ylabel(' Кумулятивное среднее количество заказов на посетителя   ');"
   ]
  },
  {
   "cell_type": "markdown",
   "metadata": {},
   "source": [
    "Сначала группа А вырвалась вперед и затем просела и зафиксировалась.Затем кумулятивное среднее количество заказов на посетителя группы В вырвалось вперёд и тоже зафиксировалось."
   ]
  },
  {
   "cell_type": "markdown",
   "metadata": {},
   "source": [
    "#### Построение графика относительного изменения кумулятивного среднего количества заказов на посетителя группы B к группе A.  Выводы и предположения."
   ]
  },
  {
   "cell_type": "code",
   "execution_count": 37,
   "metadata": {},
   "outputs": [
    {
     "data": {
      "image/png": "[encoded data removed]",
      "text/plain": [
       "<Figure size 1500x500 with 1 Axes>"
      ]
     },
     "metadata": {},
     "output_type": "display_data"
    }
   ],
   "source": [
    "mergedCumulativeConversions = cumulativeDataA[['date','conversion']].merge(cumulativeDataB[['date','conversion']], left_on='date', right_on='date', how='left', suffixes=['A', 'B'])\n",
    "\n",
    "plt.plot(mergedCumulativeConversions['date'], mergedCumulativeConversions['conversionB']/mergedCumulativeConversions['conversionA']-1, label=\"Относительный прирост кумулятивного среднего количества заказов группы B относительно группы A\")\n",
    "plt.legend()\n",
    "\n",
    "plt.axhline(y=0, color='black', linestyle='--')\n",
    "plt.axhline(y=0.2, color='grey', linestyle='--')\n",
    "plt.axis([\"2019-08-01\", '2019-08-31', -0.5, 0.5])\n",
    "plt.title('График относительного изменения кумулятивного среднего количества заказов на посетителя группы B к группе A')\n",
    "plt.xlabel('Дата')\n",
    "plt.ylabel(' Процент относительного изменения   '); "
   ]
  },
  {
   "cell_type": "markdown",
   "metadata": {},
   "source": [
    "С самого начала теста группа B лидировала и завиксировалась на 15% относительно группы А."
   ]
  },
  {
   "cell_type": "markdown",
   "metadata": {},
   "source": [
    "#### Построение точечного графика количества заказов по пользователям. Выводы и предположения."
   ]
  },
  {
   "cell_type": "code",
   "execution_count": 38,
   "metadata": {
    "scrolled": false
   },
   "outputs": [
    {
     "data": {
      "image/png": "[encoded data removed]",
      "text/plain": [
       "<Figure size 1500x500 with 1 Axes>"
      ]
     },
     "metadata": {},
     "output_type": "display_data"
    }
   ],
   "source": [
    "ordersByUsers = (\n",
    "    orders.groupby('visitorId', as_index=False)\n",
    "    .agg({'transactionId': 'nunique'})\n",
    ")\n",
    "ordersByUsers.columns = ['visitorId', 'orders']\n",
    "\n",
    "\n",
    "# серия из чисел от 0 до количества наблюдений в ordersByUsers\n",
    "x_values = pd.Series(range(0, len(ordersByUsers)))\n",
    "\n",
    "\n",
    "\n",
    "plt.scatter(x_values, ordersByUsers['orders'])\n",
    "plt.title('Точечный график количества заказов по пользователям')\n",
    "plt.xlabel('Пользователи')\n",
    "plt.ylabel(' Количество заказов  '); "
   ]
  },
  {
   "cell_type": "markdown",
   "metadata": {},
   "source": [
    " Пользователи  в основном заказывают до 2 раз."
   ]
  },
  {
   "cell_type": "markdown",
   "metadata": {},
   "source": [
    "#### Расчёт 95-й и 99-й перцентили количества заказов на пользователя. Выбор границы для определения аномальных пользователей."
   ]
  },
  {
   "cell_type": "code",
   "execution_count": 39,
   "metadata": {},
   "outputs": [
    {
     "name": "stdout",
     "output_type": "stream",
     "text": [
      "       visitorId  orders\n",
      "1023  4256040402  11    \n",
      "591   2458001652  11    \n",
      "569   2378935119  9     \n",
      "487   2038680547  8     \n",
      "44    199603092   5     \n",
      "744   3062433592  5     \n",
      "55    237748145   5     \n",
      "917   3803269165  5     \n",
      "299   1230306981  5     \n",
      "897   3717692402  5     \n",
      "[2. 4.]\n"
     ]
    }
   ],
   "source": [
    "print(ordersByUsers.sort_values(by='orders', ascending=False).head(10))\n",
    "print(np.percentile(ordersByUsers['orders'], [95, 99])) "
   ]
  },
  {
   "cell_type": "markdown",
   "metadata": {},
   "source": [
    "Не более  5 % совершали более двух заказов. Также не более 1% сделали больше 4 заказов. В качестве границы для определения аномальных пользователей установим значение 2. "
   ]
  },
  {
   "cell_type": "markdown",
   "metadata": {},
   "source": [
    "#### Построение точечного графика стоимостей заказов. Выводы и предположения."
   ]
  },
  {
   "cell_type": "code",
   "execution_count": 40,
   "metadata": {},
   "outputs": [
    {
     "data": {
      "image/png": "[encoded data removed]",
      "text/plain": [
       "<Figure size 1500x500 with 1 Axes>"
      ]
     },
     "metadata": {},
     "output_type": "display_data"
    }
   ],
   "source": [
    "x_values = pd.Series(range(0, len(orders['revenue'])))\n",
    "plt.scatter(x_values, orders['revenue']) \n",
    "plt.title('Точечный график стоимостей заказов')\n",
    "plt.xlabel('Количество пользователей')\n",
    "plt.ylabel(' Стоимость заказов  ');"
   ]
  },
  {
   "cell_type": "markdown",
   "metadata": {},
   "source": [
    "Есть выбросы - заказ свыше 1,2 млн. руб и вероятно заказ выше 0,2 млн. руб. "
   ]
  },
  {
   "cell_type": "code",
   "execution_count": 41,
   "metadata": {},
   "outputs": [
    {
     "data": {
      "image/png": "[encoded data removed]",
      "text/plain": [
       "<Figure size 1500x500 with 1 Axes>"
      ]
     },
     "metadata": {},
     "output_type": "display_data"
    }
   ],
   "source": [
    "orders_bez_vbrosov = orders[orders['revenue']<=28000]['revenue']\n",
    "xn_values = pd.Series(range(0,len(orders_bez_vbrosov)))\n",
    "plt.figure(figsize=(15,5))\n",
    "plt.grid()\n",
    "plt.title('Точечный график стоимостей заказов без выбросов')\n",
    "plt.xlabel('Количество пользователей')\n",
    "plt.ylabel('Стоимость заказов')\n",
    "plt.scatter(xn_values, orders_bez_vbrosov);\n"
   ]
  },
  {
   "cell_type": "markdown",
   "metadata": {},
   "source": [
    "Заказы достаточно разнородны."
   ]
  },
  {
   "cell_type": "markdown",
   "metadata": {},
   "source": [
    "#### Расчёт 95-й и 99-й перцентили стоимости заказов. Выбор границы для определения аномальных заказов."
   ]
  },
  {
   "cell_type": "code",
   "execution_count": 42,
   "metadata": {},
   "outputs": [
    {
     "name": "stdout",
     "output_type": "stream",
     "text": [
      "   transactionId   visitorId       date  revenue group\n",
      "0  3667963787     3312258926 2019-08-15  1650     B   \n",
      "1  2804400009     3642806036 2019-08-15  730      B   \n",
      "2  2961555356     4069496402 2019-08-15  400      A   \n",
      "3  3797467345     1196621759 2019-08-15  9759     B   \n",
      "4  2282983706     2322279887 2019-08-15  2308     B   \n",
      "5  182168103      935554773  2019-08-15  2210     B   \n",
      "6  398296753      2900797465 2019-08-15  1860     B   \n",
      "7  2626614568     78758296   2019-08-15  1044     A   \n",
      "8  1576988021     295230930  2019-08-15  13710    A   \n",
      "9  1506739906     1882260405 2019-08-15  1855     B   \n",
      "[28000.  58233.2]\n"
     ]
    }
   ],
   "source": [
    "print(orders.head(10))\n",
    "print(np.percentile(orders['revenue'], [ 95, 99])) "
   ]
  },
  {
   "cell_type": "markdown",
   "metadata": {},
   "source": [
    "Лишь 5 процентов заказов имели стоимость выше 28000 и только 1 процент выше 58233,2 руб. В качестве границы для определения аномальных заказов установим значение 28000."
   ]
  },
  {
   "cell_type": "markdown",
   "metadata": {},
   "source": [
    "#### Расчёт статистической значимости различий в среднем количестве заказов на посетителя между группами по «сырым» данным. Выводы и предположения."
   ]
  },
  {
   "cell_type": "markdown",
   "metadata": {},
   "source": [
    "Сформулируем гипотезы для расчёта по «сырым» данным. Нулевая: различий в среднем количестве заказов между группами нет. Альтернативная: различия в среднем между группами есть. Применим к проверке критерий Манна-Уитни. Установим alpha = 0.05"
   ]
  },
  {
   "cell_type": "code",
   "execution_count": 43,
   "metadata": {},
   "outputs": [],
   "source": [
    "visitorsADaily = visitors[visitors['group'] == 'A'][['date', 'visitors']]\n",
    "visitorsADaily.columns = ['date', 'visitorsPerDateA']\n",
    "\n",
    "visitorsACummulative = visitorsADaily.apply(\n",
    "    lambda x: visitorsADaily[visitorsADaily['date'] <= x['date']].agg(\n",
    "        {'date': 'max', 'visitorsPerDateA': 'sum'}\n",
    "    ),\n",
    "    axis=1,\n",
    ")\n",
    "visitorsACummulative.columns = ['date', 'visitorsCummulativeA']\n",
    "\n",
    "visitorsBDaily = visitors[visitors['group'] == 'B'][['date', 'visitors']]\n",
    "visitorsBDaily.columns = ['date', 'visitorsPerDateB']\n",
    "\n",
    "visitorsBCummulative = visitorsBDaily.apply(\n",
    "    lambda x: visitorsBDaily[visitorsBDaily['date'] <= x['date']].agg(\n",
    "        {'date': 'max', 'visitorsPerDateB': 'sum'}\n",
    "    ),\n",
    "    axis=1,\n",
    ")\n",
    "visitorsBCummulative.columns = ['date', 'visitorsCummulativeB']\n",
    "\n",
    "ordersADaily = (\n",
    "    orders[orders['group'] == 'A'][['date', 'transactionId', 'visitorId', 'revenue']]\n",
    "    .groupby('date', as_index=False)\n",
    "    .agg({'transactionId': pd.Series.nunique, 'revenue': 'sum'})\n",
    ")\n",
    "ordersADaily.columns = ['date', 'ordersPerDateA', 'revenuePerDateA']\n",
    "\n",
    "ordersACummulative = ordersADaily.apply(\n",
    "    lambda x: ordersADaily[ordersADaily['date'] <= x['date']].agg(\n",
    "        {'date': 'max', 'ordersPerDateA': 'sum', 'revenuePerDateA': 'sum'}\n",
    "    ),\n",
    "    axis=1,\n",
    ").sort_values(by=['date'])\n",
    "ordersACummulative.columns = [\n",
    "    'date',\n",
    "    'ordersCummulativeA',\n",
    "    'revenueCummulativeA',\n",
    "]\n",
    "\n",
    "ordersBDaily = (\n",
    "    orders[orders['group'] == 'B'][['date', 'transactionId', 'visitorId', 'revenue']]\n",
    "    .groupby('date', as_index=False)\n",
    "    .agg({'transactionId': pd.Series.nunique, 'revenue': 'sum'})\n",
    ")\n",
    "ordersBDaily.columns = ['date', 'ordersPerDateB', 'revenuePerDateB']\n",
    "\n",
    "ordersBCummulative = ordersBDaily.apply(\n",
    "    lambda x: ordersBDaily[ordersBDaily['date'] <= x['date']].agg(\n",
    "        {'date': 'max', 'ordersPerDateB': 'sum', 'revenuePerDateB': 'sum'}\n",
    "    ),\n",
    "    axis=1,\n",
    ").sort_values(by=['date'])\n",
    "ordersBCummulative.columns = [\n",
    "    'date',\n",
    "    'ordersCummulativeB',\n",
    "    'revenueCummulativeB',\n",
    "]\n",
    "\n",
    " "
   ]
  },
  {
   "cell_type": "code",
   "execution_count": 44,
   "metadata": {},
   "outputs": [
    {
     "data": {
      "text/plain": [
       "'p-value = 0.01679'"
      ]
     },
     "metadata": {},
     "output_type": "display_data"
    },
    {
     "data": {
      "text/plain": [
       "'Относительный прирост среднего количества заказов группы В = 0.138'"
      ]
     },
     "metadata": {},
     "output_type": "display_data"
    }
   ],
   "source": [
    "ordersByUsersA = (\n",
    "    orders[orders['group'] == 'A']\n",
    "    .groupby('visitorId', as_index=False)\n",
    "    .agg({'transactionId': pd.Series.nunique})\n",
    ")\n",
    "ordersByUsersA.columns = ['visitorId', 'orders']\n",
    "\n",
    "ordersByUsersB = (\n",
    "    orders[orders['group'] == 'B']\n",
    "    .groupby('visitorId', as_index=False)\n",
    "    .agg({'transactionId': pd.Series.nunique})\n",
    ")\n",
    "ordersByUsersB.columns = ['visitorId', 'orders']\n",
    "\n",
    "sampleA = pd.concat(\n",
    "    [\n",
    "        ordersByUsersA['orders'],\n",
    "        pd.Series(\n",
    "            0,\n",
    "            index=np.arange(\n",
    "               visitors[visitors['group']=='A']['visitors'].sum() - len(ordersByUsersA['orders'])\n",
    "            ),\n",
    "            name='orders',\n",
    "        ),\n",
    "    ],\n",
    "    axis=0,\n",
    ")\n",
    "\n",
    "sampleB = pd.concat(\n",
    "    [\n",
    "        ordersByUsersB['orders'],\n",
    "        pd.Series(\n",
    "            0,\n",
    "            index=np.arange(\n",
    "               visitors[visitors['group']=='B']['visitors'].sum() - len(ordersByUsersB['orders'])\n",
    "            ),\n",
    "            name='orders',\n",
    "        ),\n",
    "    ],\n",
    "    axis=0,\n",
    ")\n",
    "\n",
    "display('p-value = {0:.5f}'.format(stats.mannwhitneyu(sampleA, sampleB)[1]))\n",
    "\n",
    "display('Относительный прирост среднего количества заказов группы В = {0:.3f}'.format(sampleB.mean() / sampleA.mean() - 1))\n",
    "\n",
    "\n"
   ]
  },
  {
   "cell_type": "markdown",
   "metadata": {},
   "source": [
    " p-value = 0.01679 меньше 0.05. Значит, нулевую гипотезу о том, что статистически значимых различий в среднем числе заказов между группами нет, отвергаем. Относительный прирост среднего группы B  к кумулятивному среднему количеству заказов группы А равен 13.8%.\n"
   ]
  },
  {
   "cell_type": "markdown",
   "metadata": {},
   "source": [
    " #### Расчёт статистической значимости различий в среднем чеке заказа между группами по «сырым» данным. Выводы и предположения."
   ]
  },
  {
   "cell_type": "markdown",
   "metadata": {},
   "source": [
    "Сформулируем гипотезы для расчёта по «сырым» данным. Нулевая гипотеза: различий в среднем чеке между группами нет. Альтернативная гипотеза: различия в среднем чеке между группами есть. Применим к проверке критерий Манна-Уитни. Установим alpha = 0.05\n",
    "\n"
   ]
  },
  {
   "cell_type": "code",
   "execution_count": 45,
   "metadata": {},
   "outputs": [
    {
     "name": "stdout",
     "output_type": "stream",
     "text": [
      "p-value = 0.729\n",
      "Относительное различие в среднем чеке между группами = 0.259\n"
     ]
    }
   ],
   "source": [
    "print('p-value = {0:.3f}'.format(stats.mannwhitneyu(orders[orders['group']=='A']['revenue'], orders[orders['group']=='B']['revenue'])[1]))\n",
    "print('Относительное различие в среднем чеке между группами = {0:.3f}'.format(orders[orders['group']=='B']['revenue'].mean()/orders[orders['group']=='A']['revenue'].mean()-1))"
   ]
  },
  {
   "cell_type": "markdown",
   "metadata": {},
   "source": [
    " p-value = 0.729, что больше 0,05 статистически значимых различий в среднем чеке между группами нет. Относительное различие в среднем чеке между группами 25.9 % "
   ]
  },
  {
   "cell_type": "markdown",
   "metadata": {},
   "source": [
    "#### Расчёт статистической значимости различий в среднем количестве заказов на посетителя между группами по «очищенным» данным. Выводы и предположения."
   ]
  },
  {
   "cell_type": "markdown",
   "metadata": {},
   "source": [
    "Сформулируем гипотезы для расчёта по «очищенным» данным. Нулевая: различий в среднем количестве заказов между группами нет. Альтернативная: различия в среднем между группами есть. Применим к проверке критерий Манна-Уитни. Установим alpha = 0.05"
   ]
  },
  {
   "cell_type": "code",
   "execution_count": 46,
   "metadata": {},
   "outputs": [],
   "source": [
    "usersWithManyOrders = pd.concat(\n",
    "    [\n",
    "        ordersByUsersA[ordersByUsersA['orders'] > 2]['visitorId'],\n",
    "        ordersByUsersB[ordersByUsersB['orders'] > 2]['visitorId'],\n",
    "    ],\n",
    "    axis=0,\n",
    ")\n",
    "usersWithExpensiveOrders = orders[orders['revenue'] > 28000]['visitorId']\n",
    "abnormalUsers = (\n",
    "    pd.concat([usersWithManyOrders, usersWithExpensiveOrders], axis=0)\n",
    "    .drop_duplicates()\n",
    "    .sort_values()\n",
    ")"
   ]
  },
  {
   "cell_type": "code",
   "execution_count": 47,
   "metadata": {},
   "outputs": [
    {
     "name": "stdout",
     "output_type": "stream",
     "text": [
      "p-value = 0.01304\n",
      "Относительный прирост среднего количества заказов группы В = 0.173\n"
     ]
    }
   ],
   "source": [
    "\n",
    "sampleAFiltered = pd.concat(\n",
    "    [\n",
    "        ordersByUsersA[\n",
    "            np.logical_not(ordersByUsersA['visitorId'].isin(abnormalUsers))\n",
    "        ]['orders'],\n",
    "        pd.Series(\n",
    "            0,\n",
    "            index=np.arange(\n",
    "                visitors[visitors['group']=='A']['visitors'].sum() - len(ordersByUsersA['orders'])\n",
    "            ),\n",
    "            name='orders',\n",
    "        ),\n",
    "    ],\n",
    "    axis=0,\n",
    ")\n",
    "\n",
    "sampleBFiltered = pd.concat(\n",
    "    [\n",
    "        ordersByUsersB[\n",
    "            np.logical_not(ordersByUsersB['visitorId'].isin(abnormalUsers))\n",
    "        ]['orders'],\n",
    "        pd.Series(\n",
    "            0,\n",
    "            index=np.arange(\n",
    "                visitors[visitors['group']=='B']['visitors'].sum() - len(ordersByUsersB['orders'])\n",
    "            ),\n",
    "            name='orders',\n",
    "        ),\n",
    "    ],\n",
    "    axis=0,\n",
    ")\n",
    "print('p-value = {0:.5f}'.format(stats.mannwhitneyu(sampleAFiltered, sampleBFiltered)[1]))\n",
    "print('Относительный прирост среднего количества заказов группы В = {0:.3f}'.format(sampleBFiltered.mean()/sampleAFiltered.mean()-1))"
   ]
  },
  {
   "cell_type": "markdown",
   "metadata": {},
   "source": [
    "Альтернативная гипотеза (различия в среднем числе заказов между группами есть) - подтвердилась. Статистическая значимость достигнута. Группа В значительно лучше группы А. Аналогичный результат был получен и по «сырым» данным.\n"
   ]
  },
  {
   "cell_type": "markdown",
   "metadata": {},
   "source": [
    "#### Расчёт статистической значимости различий в среднем чеке заказа между группами по «очищенным» данным. Выводы и предположения."
   ]
  },
  {
   "cell_type": "markdown",
   "metadata": {},
   "source": [
    "Сформулируем гипотезы для расчёта по «очищенным» данным. Нулевая гипотеза: различий в среднем чеке между группами нет. Альтернативная гипотеза: различия в среднем чеке между группами есть. Применим к проверке критерий Манна-Уитни. Установим alpha = 0.05"
   ]
  },
  {
   "cell_type": "code",
   "execution_count": 48,
   "metadata": {},
   "outputs": [
    {
     "name": "stdout",
     "output_type": "stream",
     "text": [
      " p-value = 0.738\n",
      " Относительное различие в среднем чеке между группами = -0.020\n"
     ]
    }
   ],
   "source": [
    "print(\n",
    "    ' p-value = {0:.3f}'.format(\n",
    "        stats.mannwhitneyu(\n",
    "            orders[\n",
    "                np.logical_and(\n",
    "                    orders['group'] == 'A',\n",
    "                    np.logical_not(orders['visitorId'].isin(abnormalUsers)),\n",
    "                )\n",
    "            ]['revenue'],\n",
    "            orders[\n",
    "                np.logical_and(\n",
    "                    orders['group'] == 'B',\n",
    "                    np.logical_not(orders['visitorId'].isin(abnormalUsers)),\n",
    "                )\n",
    "            ]['revenue'],\n",
    "        )[1]\n",
    "    )\n",
    ")\n",
    "\n",
    "print(\n",
    "    \" Относительное различие в среднем чеке между группами = {0:.3f}\".format(\n",
    "        orders[\n",
    "            np.logical_and(\n",
    "                orders['group'] == 'B',\n",
    "                np.logical_not(orders['visitorId'].isin(abnormalUsers)),\n",
    "            )\n",
    "        ]['revenue'].mean()\n",
    "        / orders[\n",
    "            np.logical_and(\n",
    "                orders['group'] == 'A',\n",
    "                np.logical_not(orders['visitorId'].isin(abnormalUsers)),\n",
    "            )\n",
    "        ]['revenue'].mean()\n",
    "        - 1\n",
    "    )\n",
    ")"
   ]
  },
  {
   "cell_type": "markdown",
   "metadata": {},
   "source": [
    "После удаления выбросов в данных стало меньше шума. P-value увеличилось. Разница между группами сократилась с 25.9% до 2 %. "
   ]
  },
  {
   "cell_type": "markdown",
   "metadata": {},
   "source": [
    "#### Решение по результатам теста с объяснением . "
   ]
  },
  {
   "cell_type": "markdown",
   "metadata": {},
   "source": [
    " По результатам решённых  задач можно сделать вывод:\n",
    "1.Есть статистически значимое различие в среднем числе заказов между группами как по сырым данным, так и после фильтрации аномалий.\n",
    "2. Как по сырым данным, так и после фильтрации аномалий подтвердилась нулевая гипотеза: различий в среднем чеке между группами нет. Относительное различие в среднем чеке после фильтрации аномалий, составляет всего 2%\n",
    "\n",
    "График  относительного изменения кумулятивного среднего количества заказов на посетителя  между группами сообщает, что результаты группы B лучше группы A: и зафиксировались чуть ниже среднего значения.\n",
    "\n",
    "Остановить тест, зафиксировать победу  группы B.\n",
    "Группа B статистически значимо лучше группы A по обеим метрикам, а график относительного изменения кумулятивного среднего количества заказов на посетителя говорит о фиксации результата.\n"
   ]
  }
 ],
 "metadata": {
  "ExecuteTimeLog": [
   {
    "duration": 1550,
    "start_time": "2023-04-10T09:07:51.906Z"
   },
   {
    "duration": 98,
    "start_time": "2023-04-10T09:14:32.451Z"
   },
   {
    "duration": 195,
    "start_time": "2023-04-10T09:18:30.727Z"
   },
   {
    "duration": 383,
    "start_time": "2023-04-10T09:20:12.275Z"
   },
   {
    "duration": 112,
    "start_time": "2023-04-10T09:20:33.132Z"
   },
   {
    "duration": 7,
    "start_time": "2023-04-10T09:23:16.522Z"
   },
   {
    "duration": 11,
    "start_time": "2023-04-10T09:23:59.663Z"
   },
   {
    "duration": 82,
    "start_time": "2023-04-10T09:24:08.397Z"
   },
   {
    "duration": 1438,
    "start_time": "2023-04-10T09:24:19.666Z"
   },
   {
    "duration": 104,
    "start_time": "2023-04-10T09:24:21.108Z"
   },
   {
    "duration": 18,
    "start_time": "2023-04-10T09:24:21.218Z"
   },
   {
    "duration": 316,
    "start_time": "2023-04-10T09:24:21.238Z"
   },
   {
    "duration": 12,
    "start_time": "2023-04-10T09:24:39.261Z"
   },
   {
    "duration": 3,
    "start_time": "2023-04-10T09:26:43.465Z"
   },
   {
    "duration": 3,
    "start_time": "2023-04-10T09:26:46.944Z"
   },
   {
    "duration": 11,
    "start_time": "2023-04-10T09:27:01.055Z"
   },
   {
    "duration": 8,
    "start_time": "2023-04-10T09:27:50.113Z"
   },
   {
    "duration": 5,
    "start_time": "2023-04-10T09:30:57.928Z"
   },
   {
    "duration": 6,
    "start_time": "2023-04-10T09:34:02.954Z"
   },
   {
    "duration": 11,
    "start_time": "2023-04-10T09:38:42.916Z"
   },
   {
    "duration": 11,
    "start_time": "2023-04-10T09:39:15.512Z"
   },
   {
    "duration": 5,
    "start_time": "2023-04-10T09:40:42.679Z"
   },
   {
    "duration": 12,
    "start_time": "2023-04-10T09:40:55.831Z"
   },
   {
    "duration": 7,
    "start_time": "2023-04-10T09:41:50.854Z"
   },
   {
    "duration": 7,
    "start_time": "2023-04-10T09:44:31.772Z"
   },
   {
    "duration": 4,
    "start_time": "2023-04-10T09:45:27.837Z"
   },
   {
    "duration": 6,
    "start_time": "2023-04-10T09:46:12.856Z"
   },
   {
    "duration": 11,
    "start_time": "2023-04-10T09:48:27.487Z"
   },
   {
    "duration": 126,
    "start_time": "2023-04-10T09:54:51.406Z"
   },
   {
    "duration": 10,
    "start_time": "2023-04-10T09:55:15.607Z"
   },
   {
    "duration": 11,
    "start_time": "2023-04-10T09:55:57.668Z"
   },
   {
    "duration": 4,
    "start_time": "2023-04-10T09:58:17.025Z"
   },
   {
    "duration": 15,
    "start_time": "2023-04-10T09:58:32.411Z"
   },
   {
    "duration": 9,
    "start_time": "2023-04-10T09:59:04.107Z"
   },
   {
    "duration": 2601,
    "start_time": "2023-04-10T10:04:32.372Z"
   },
   {
    "duration": 4,
    "start_time": "2023-04-10T10:05:02.942Z"
   },
   {
    "duration": 4,
    "start_time": "2023-04-10T10:05:06.430Z"
   },
   {
    "duration": 11,
    "start_time": "2023-04-10T10:05:14.780Z"
   },
   {
    "duration": 5,
    "start_time": "2023-04-10T10:05:31.620Z"
   },
   {
    "duration": 16,
    "start_time": "2023-04-10T10:05:34.956Z"
   },
   {
    "duration": 12,
    "start_time": "2023-04-10T10:23:25.762Z"
   },
   {
    "duration": 38,
    "start_time": "2023-04-10T10:26:13.812Z"
   },
   {
    "duration": 12,
    "start_time": "2023-04-10T10:36:19.744Z"
   },
   {
    "duration": 6,
    "start_time": "2023-04-10T12:39:47.527Z"
   },
   {
    "duration": 1371,
    "start_time": "2023-04-10T12:39:55.254Z"
   },
   {
    "duration": 77,
    "start_time": "2023-04-10T12:39:56.627Z"
   },
   {
    "duration": 12,
    "start_time": "2023-04-10T12:39:56.706Z"
   },
   {
    "duration": 31,
    "start_time": "2023-04-10T12:39:56.721Z"
   },
   {
    "duration": 14,
    "start_time": "2023-04-10T12:39:56.755Z"
   },
   {
    "duration": 17,
    "start_time": "2023-04-10T12:39:56.771Z"
   },
   {
    "duration": 50,
    "start_time": "2023-04-10T12:39:56.790Z"
   },
   {
    "duration": 15,
    "start_time": "2023-04-10T12:39:56.842Z"
   },
   {
    "duration": 22,
    "start_time": "2023-04-10T12:39:56.859Z"
   },
   {
    "duration": 22,
    "start_time": "2023-04-10T12:39:56.883Z"
   },
   {
    "duration": 17,
    "start_time": "2023-04-10T12:39:56.907Z"
   },
   {
    "duration": 13,
    "start_time": "2023-04-10T12:39:56.927Z"
   },
   {
    "duration": 14,
    "start_time": "2023-04-10T12:39:56.942Z"
   },
   {
    "duration": 10,
    "start_time": "2023-04-10T12:39:56.958Z"
   },
   {
    "duration": 20,
    "start_time": "2023-04-10T12:39:56.969Z"
   },
   {
    "duration": 24,
    "start_time": "2023-04-10T12:39:56.991Z"
   },
   {
    "duration": 24,
    "start_time": "2023-04-10T12:39:57.016Z"
   },
   {
    "duration": 171,
    "start_time": "2023-04-10T12:39:57.042Z"
   },
   {
    "duration": 22,
    "start_time": "2023-04-10T12:39:57.215Z"
   },
   {
    "duration": 10,
    "start_time": "2023-04-10T12:39:57.239Z"
   },
   {
    "duration": 493,
    "start_time": "2023-04-10T12:46:14.459Z"
   },
   {
    "duration": 86,
    "start_time": "2023-04-10T12:52:43.381Z"
   },
   {
    "duration": 1396,
    "start_time": "2023-04-10T12:52:49.604Z"
   },
   {
    "duration": 85,
    "start_time": "2023-04-10T12:52:51.004Z"
   },
   {
    "duration": 14,
    "start_time": "2023-04-10T12:52:51.092Z"
   },
   {
    "duration": 27,
    "start_time": "2023-04-10T12:52:51.109Z"
   },
   {
    "duration": 19,
    "start_time": "2023-04-10T12:52:51.139Z"
   },
   {
    "duration": 14,
    "start_time": "2023-04-10T12:52:51.161Z"
   },
   {
    "duration": 12,
    "start_time": "2023-04-10T12:52:51.177Z"
   },
   {
    "duration": 41,
    "start_time": "2023-04-10T12:52:51.198Z"
   },
   {
    "duration": 28,
    "start_time": "2023-04-10T12:52:51.241Z"
   },
   {
    "duration": 13,
    "start_time": "2023-04-10T12:52:51.271Z"
   },
   {
    "duration": 32,
    "start_time": "2023-04-10T12:52:51.285Z"
   },
   {
    "duration": 10,
    "start_time": "2023-04-10T12:52:51.319Z"
   },
   {
    "duration": 27,
    "start_time": "2023-04-10T12:52:51.331Z"
   },
   {
    "duration": 48,
    "start_time": "2023-04-10T12:52:51.361Z"
   },
   {
    "duration": 18,
    "start_time": "2023-04-10T12:52:51.411Z"
   },
   {
    "duration": 21,
    "start_time": "2023-04-10T12:52:51.431Z"
   },
   {
    "duration": 32,
    "start_time": "2023-04-10T12:52:51.454Z"
   },
   {
    "duration": 29,
    "start_time": "2023-04-10T12:52:51.489Z"
   },
   {
    "duration": 31,
    "start_time": "2023-04-10T12:52:51.520Z"
   },
   {
    "duration": 20,
    "start_time": "2023-04-10T12:52:51.554Z"
   },
   {
    "duration": 403,
    "start_time": "2023-04-10T12:52:51.577Z"
   },
   {
    "duration": 1277,
    "start_time": "2023-04-10T12:53:21.265Z"
   },
   {
    "duration": 86,
    "start_time": "2023-04-10T12:53:22.544Z"
   },
   {
    "duration": 9,
    "start_time": "2023-04-10T12:53:22.632Z"
   },
   {
    "duration": 21,
    "start_time": "2023-04-10T12:53:22.643Z"
   },
   {
    "duration": 16,
    "start_time": "2023-04-10T12:53:22.666Z"
   },
   {
    "duration": 36,
    "start_time": "2023-04-10T12:53:22.684Z"
   },
   {
    "duration": 9,
    "start_time": "2023-04-10T12:53:22.722Z"
   },
   {
    "duration": 15,
    "start_time": "2023-04-10T12:53:22.732Z"
   },
   {
    "duration": 23,
    "start_time": "2023-04-10T12:53:22.749Z"
   },
   {
    "duration": 12,
    "start_time": "2023-04-10T12:53:22.775Z"
   },
   {
    "duration": 22,
    "start_time": "2023-04-10T12:53:22.789Z"
   },
   {
    "duration": 27,
    "start_time": "2023-04-10T12:53:22.813Z"
   },
   {
    "duration": 14,
    "start_time": "2023-04-10T12:53:22.843Z"
   },
   {
    "duration": 13,
    "start_time": "2023-04-10T12:53:22.859Z"
   },
   {
    "duration": 13,
    "start_time": "2023-04-10T12:53:22.873Z"
   },
   {
    "duration": 18,
    "start_time": "2023-04-10T12:53:22.889Z"
   },
   {
    "duration": 27,
    "start_time": "2023-04-10T12:53:22.909Z"
   },
   {
    "duration": 20,
    "start_time": "2023-04-10T12:53:22.939Z"
   },
   {
    "duration": 11,
    "start_time": "2023-04-10T12:53:22.961Z"
   },
   {
    "duration": 457,
    "start_time": "2023-04-10T12:53:22.974Z"
   },
   {
    "duration": 1268,
    "start_time": "2023-04-10T12:54:10.644Z"
   },
   {
    "duration": 91,
    "start_time": "2023-04-10T12:54:11.915Z"
   },
   {
    "duration": 10,
    "start_time": "2023-04-10T12:54:12.007Z"
   },
   {
    "duration": 13,
    "start_time": "2023-04-10T12:54:12.020Z"
   },
   {
    "duration": 6,
    "start_time": "2023-04-10T12:54:12.035Z"
   },
   {
    "duration": 20,
    "start_time": "2023-04-10T12:54:12.044Z"
   },
   {
    "duration": 15,
    "start_time": "2023-04-10T12:54:12.066Z"
   },
   {
    "duration": 21,
    "start_time": "2023-04-10T12:54:12.087Z"
   },
   {
    "duration": 13,
    "start_time": "2023-04-10T12:54:12.110Z"
   },
   {
    "duration": 15,
    "start_time": "2023-04-10T12:54:12.127Z"
   },
   {
    "duration": 12,
    "start_time": "2023-04-10T12:54:12.144Z"
   },
   {
    "duration": 13,
    "start_time": "2023-04-10T12:54:12.158Z"
   },
   {
    "duration": 20,
    "start_time": "2023-04-10T12:54:12.173Z"
   },
   {
    "duration": 24,
    "start_time": "2023-04-10T12:54:12.195Z"
   },
   {
    "duration": 14,
    "start_time": "2023-04-10T12:54:12.222Z"
   },
   {
    "duration": 18,
    "start_time": "2023-04-10T12:54:12.238Z"
   },
   {
    "duration": 11,
    "start_time": "2023-04-10T12:54:12.258Z"
   },
   {
    "duration": 11,
    "start_time": "2023-04-10T12:54:12.271Z"
   },
   {
    "duration": 18,
    "start_time": "2023-04-10T12:54:12.284Z"
   },
   {
    "duration": 12,
    "start_time": "2023-04-10T12:54:12.303Z"
   },
   {
    "duration": 354,
    "start_time": "2023-04-10T12:54:12.317Z"
   },
   {
    "duration": 12,
    "start_time": "2023-04-10T13:22:38.498Z"
   },
   {
    "duration": 1401,
    "start_time": "2023-04-10T13:25:43.853Z"
   },
   {
    "duration": 7,
    "start_time": "2023-04-10T13:26:24.134Z"
   },
   {
    "duration": 3,
    "start_time": "2023-04-10T13:27:29.374Z"
   },
   {
    "duration": 12,
    "start_time": "2023-04-10T13:27:44.573Z"
   },
   {
    "duration": 1373,
    "start_time": "2023-04-10T13:28:09.965Z"
   },
   {
    "duration": 79,
    "start_time": "2023-04-10T13:28:11.340Z"
   },
   {
    "duration": 18,
    "start_time": "2023-04-10T13:28:11.422Z"
   },
   {
    "duration": 17,
    "start_time": "2023-04-10T13:28:11.443Z"
   },
   {
    "duration": 11,
    "start_time": "2023-04-10T13:28:11.462Z"
   },
   {
    "duration": 15,
    "start_time": "2023-04-10T13:28:11.475Z"
   },
   {
    "duration": 17,
    "start_time": "2023-04-10T13:28:11.492Z"
   },
   {
    "duration": 14,
    "start_time": "2023-04-10T13:28:11.511Z"
   },
   {
    "duration": 18,
    "start_time": "2023-04-10T13:28:11.527Z"
   },
   {
    "duration": 17,
    "start_time": "2023-04-10T13:28:11.547Z"
   },
   {
    "duration": 17,
    "start_time": "2023-04-10T13:28:11.566Z"
   },
   {
    "duration": 20,
    "start_time": "2023-04-10T13:28:11.584Z"
   },
   {
    "duration": 10,
    "start_time": "2023-04-10T13:28:11.606Z"
   },
   {
    "duration": 9,
    "start_time": "2023-04-10T13:28:11.618Z"
   },
   {
    "duration": 11,
    "start_time": "2023-04-10T13:28:11.629Z"
   },
   {
    "duration": 11,
    "start_time": "2023-04-10T13:28:11.641Z"
   },
   {
    "duration": 45,
    "start_time": "2023-04-10T13:28:11.654Z"
   },
   {
    "duration": 18,
    "start_time": "2023-04-10T13:28:11.702Z"
   },
   {
    "duration": 10,
    "start_time": "2023-04-10T13:28:11.723Z"
   },
   {
    "duration": 8,
    "start_time": "2023-04-10T13:28:11.735Z"
   },
   {
    "duration": 9,
    "start_time": "2023-04-10T13:28:11.745Z"
   },
   {
    "duration": 45,
    "start_time": "2023-04-10T13:28:11.756Z"
   },
   {
    "duration": 369,
    "start_time": "2023-04-10T13:28:11.803Z"
   },
   {
    "duration": 757,
    "start_time": "2023-04-10T13:37:42.633Z"
   },
   {
    "duration": 10,
    "start_time": "2023-04-10T13:40:22.566Z"
   },
   {
    "duration": 5,
    "start_time": "2023-04-10T13:41:46.025Z"
   },
   {
    "duration": 1529,
    "start_time": "2023-04-10T13:43:05.590Z"
   },
   {
    "duration": 76,
    "start_time": "2023-04-10T13:43:07.122Z"
   },
   {
    "duration": 16,
    "start_time": "2023-04-10T13:43:07.200Z"
   },
   {
    "duration": 22,
    "start_time": "2023-04-10T13:43:07.219Z"
   },
   {
    "duration": 10,
    "start_time": "2023-04-10T13:43:07.244Z"
   },
   {
    "duration": 21,
    "start_time": "2023-04-10T13:43:07.256Z"
   },
   {
    "duration": 14,
    "start_time": "2023-04-10T13:43:07.278Z"
   },
   {
    "duration": 50,
    "start_time": "2023-04-10T13:43:07.294Z"
   },
   {
    "duration": 544,
    "start_time": "2023-04-10T13:43:07.346Z"
   },
   {
    "duration": 19,
    "start_time": "2023-04-10T13:43:07.894Z"
   },
   {
    "duration": 39,
    "start_time": "2023-04-10T13:43:07.915Z"
   },
   {
    "duration": 38,
    "start_time": "2023-04-10T13:43:07.958Z"
   },
   {
    "duration": 31,
    "start_time": "2023-04-10T13:43:07.998Z"
   },
   {
    "duration": 30,
    "start_time": "2023-04-10T13:43:08.032Z"
   },
   {
    "duration": 17,
    "start_time": "2023-04-10T13:43:08.065Z"
   },
   {
    "duration": 352,
    "start_time": "2023-04-10T13:43:08.084Z"
   },
   {
    "duration": 0,
    "start_time": "2023-04-10T13:43:08.439Z"
   },
   {
    "duration": 0,
    "start_time": "2023-04-10T13:43:08.440Z"
   },
   {
    "duration": 0,
    "start_time": "2023-04-10T13:43:08.442Z"
   },
   {
    "duration": 0,
    "start_time": "2023-04-10T13:43:08.443Z"
   },
   {
    "duration": 0,
    "start_time": "2023-04-10T13:43:08.444Z"
   },
   {
    "duration": 0,
    "start_time": "2023-04-10T13:43:08.446Z"
   },
   {
    "duration": 0,
    "start_time": "2023-04-10T13:43:08.448Z"
   },
   {
    "duration": 0,
    "start_time": "2023-04-10T13:43:08.449Z"
   },
   {
    "duration": 0,
    "start_time": "2023-04-10T13:43:08.451Z"
   },
   {
    "duration": 0,
    "start_time": "2023-04-10T13:43:08.452Z"
   },
   {
    "duration": 1537,
    "start_time": "2023-04-10T13:44:44.945Z"
   },
   {
    "duration": 77,
    "start_time": "2023-04-10T13:44:46.484Z"
   },
   {
    "duration": 10,
    "start_time": "2023-04-10T13:44:46.563Z"
   },
   {
    "duration": 16,
    "start_time": "2023-04-10T13:44:46.575Z"
   },
   {
    "duration": 42,
    "start_time": "2023-04-10T13:44:46.593Z"
   },
   {
    "duration": 24,
    "start_time": "2023-04-10T13:44:46.637Z"
   },
   {
    "duration": 21,
    "start_time": "2023-04-10T13:44:46.663Z"
   },
   {
    "duration": 21,
    "start_time": "2023-04-10T13:44:46.685Z"
   },
   {
    "duration": 503,
    "start_time": "2023-04-10T13:44:46.708Z"
   },
   {
    "duration": 17,
    "start_time": "2023-04-10T13:44:47.215Z"
   },
   {
    "duration": 28,
    "start_time": "2023-04-10T13:44:47.235Z"
   },
   {
    "duration": 14,
    "start_time": "2023-04-10T13:44:47.266Z"
   },
   {
    "duration": 34,
    "start_time": "2023-04-10T13:44:47.282Z"
   },
   {
    "duration": 18,
    "start_time": "2023-04-10T13:44:47.318Z"
   },
   {
    "duration": 15,
    "start_time": "2023-04-10T13:44:47.338Z"
   },
   {
    "duration": 25,
    "start_time": "2023-04-10T13:44:47.354Z"
   },
   {
    "duration": 19,
    "start_time": "2023-04-10T13:44:47.381Z"
   },
   {
    "duration": 23,
    "start_time": "2023-04-10T13:44:47.404Z"
   },
   {
    "duration": 23,
    "start_time": "2023-04-10T13:44:47.429Z"
   },
   {
    "duration": 25,
    "start_time": "2023-04-10T13:44:47.455Z"
   },
   {
    "duration": 31,
    "start_time": "2023-04-10T13:44:47.482Z"
   },
   {
    "duration": 18,
    "start_time": "2023-04-10T13:44:47.516Z"
   },
   {
    "duration": 15,
    "start_time": "2023-04-10T13:44:47.536Z"
   },
   {
    "duration": 403,
    "start_time": "2023-04-10T13:44:47.553Z"
   },
   {
    "duration": 1270,
    "start_time": "2023-04-10T13:50:44.513Z"
   },
   {
    "duration": 78,
    "start_time": "2023-04-10T13:50:45.785Z"
   },
   {
    "duration": 10,
    "start_time": "2023-04-10T13:50:45.864Z"
   },
   {
    "duration": 20,
    "start_time": "2023-04-10T13:50:45.876Z"
   },
   {
    "duration": 17,
    "start_time": "2023-04-10T13:50:45.898Z"
   },
   {
    "duration": 33,
    "start_time": "2023-04-10T13:50:45.918Z"
   },
   {
    "duration": 39,
    "start_time": "2023-04-10T13:50:45.953Z"
   },
   {
    "duration": 18,
    "start_time": "2023-04-10T13:50:45.995Z"
   },
   {
    "duration": 28,
    "start_time": "2023-04-10T13:50:46.016Z"
   },
   {
    "duration": 469,
    "start_time": "2023-04-10T13:50:46.047Z"
   },
   {
    "duration": 0,
    "start_time": "2023-04-10T13:50:46.519Z"
   },
   {
    "duration": 0,
    "start_time": "2023-04-10T13:50:46.520Z"
   },
   {
    "duration": 0,
    "start_time": "2023-04-10T13:50:46.521Z"
   },
   {
    "duration": 0,
    "start_time": "2023-04-10T13:50:46.523Z"
   },
   {
    "duration": 0,
    "start_time": "2023-04-10T13:50:46.525Z"
   },
   {
    "duration": 0,
    "start_time": "2023-04-10T13:50:46.526Z"
   },
   {
    "duration": 0,
    "start_time": "2023-04-10T13:50:46.527Z"
   },
   {
    "duration": 0,
    "start_time": "2023-04-10T13:50:46.529Z"
   },
   {
    "duration": 0,
    "start_time": "2023-04-10T13:50:46.531Z"
   },
   {
    "duration": 0,
    "start_time": "2023-04-10T13:50:46.533Z"
   },
   {
    "duration": 0,
    "start_time": "2023-04-10T13:50:46.534Z"
   },
   {
    "duration": 0,
    "start_time": "2023-04-10T13:50:46.535Z"
   },
   {
    "duration": 0,
    "start_time": "2023-04-10T13:50:46.538Z"
   },
   {
    "duration": 18,
    "start_time": "2023-04-10T13:54:17.244Z"
   },
   {
    "duration": 1468,
    "start_time": "2023-04-10T13:54:27.258Z"
   },
   {
    "duration": 80,
    "start_time": "2023-04-10T13:54:28.729Z"
   },
   {
    "duration": 16,
    "start_time": "2023-04-10T13:54:28.811Z"
   },
   {
    "duration": 24,
    "start_time": "2023-04-10T13:54:28.830Z"
   },
   {
    "duration": 7,
    "start_time": "2023-04-10T13:54:28.856Z"
   },
   {
    "duration": 17,
    "start_time": "2023-04-10T13:54:28.865Z"
   },
   {
    "duration": 14,
    "start_time": "2023-04-10T13:54:28.885Z"
   },
   {
    "duration": 24,
    "start_time": "2023-04-10T13:54:28.902Z"
   },
   {
    "duration": 27,
    "start_time": "2023-04-10T13:54:28.928Z"
   },
   {
    "duration": 21,
    "start_time": "2023-04-10T13:54:28.958Z"
   },
   {
    "duration": 26,
    "start_time": "2023-04-10T13:54:28.981Z"
   },
   {
    "duration": 19,
    "start_time": "2023-04-10T13:54:29.010Z"
   },
   {
    "duration": 14,
    "start_time": "2023-04-10T13:54:29.031Z"
   },
   {
    "duration": 21,
    "start_time": "2023-04-10T13:54:29.048Z"
   },
   {
    "duration": 36,
    "start_time": "2023-04-10T13:54:29.071Z"
   },
   {
    "duration": 15,
    "start_time": "2023-04-10T13:54:29.109Z"
   },
   {
    "duration": 23,
    "start_time": "2023-04-10T13:54:29.125Z"
   },
   {
    "duration": 22,
    "start_time": "2023-04-10T13:54:29.151Z"
   },
   {
    "duration": 641,
    "start_time": "2023-04-10T13:54:29.175Z"
   },
   {
    "duration": 0,
    "start_time": "2023-04-10T13:54:29.819Z"
   },
   {
    "duration": 0,
    "start_time": "2023-04-10T13:54:29.821Z"
   },
   {
    "duration": 0,
    "start_time": "2023-04-10T13:54:29.824Z"
   },
   {
    "duration": 0,
    "start_time": "2023-04-10T13:54:29.826Z"
   },
   {
    "duration": 5,
    "start_time": "2023-04-10T13:54:54.159Z"
   },
   {
    "duration": 1319,
    "start_time": "2023-04-10T13:55:04.431Z"
   },
   {
    "duration": 80,
    "start_time": "2023-04-10T13:55:05.752Z"
   },
   {
    "duration": 11,
    "start_time": "2023-04-10T13:55:05.834Z"
   },
   {
    "duration": 70,
    "start_time": "2023-04-10T13:55:05.847Z"
   },
   {
    "duration": 39,
    "start_time": "2023-04-10T13:55:05.920Z"
   },
   {
    "duration": 40,
    "start_time": "2023-04-10T13:55:05.960Z"
   },
   {
    "duration": 34,
    "start_time": "2023-04-10T13:55:06.002Z"
   },
   {
    "duration": 32,
    "start_time": "2023-04-10T13:55:06.038Z"
   },
   {
    "duration": 35,
    "start_time": "2023-04-10T13:55:06.071Z"
   },
   {
    "duration": 27,
    "start_time": "2023-04-10T13:55:06.109Z"
   },
   {
    "duration": 40,
    "start_time": "2023-04-10T13:55:06.138Z"
   },
   {
    "duration": 50,
    "start_time": "2023-04-10T13:55:06.180Z"
   },
   {
    "duration": 44,
    "start_time": "2023-04-10T13:55:06.232Z"
   },
   {
    "duration": 26,
    "start_time": "2023-04-10T13:55:06.280Z"
   },
   {
    "duration": 12,
    "start_time": "2023-04-10T13:55:06.308Z"
   },
   {
    "duration": 32,
    "start_time": "2023-04-10T13:55:06.323Z"
   },
   {
    "duration": 28,
    "start_time": "2023-04-10T13:55:06.356Z"
   },
   {
    "duration": 28,
    "start_time": "2023-04-10T13:55:06.386Z"
   },
   {
    "duration": 14,
    "start_time": "2023-04-10T13:55:06.416Z"
   },
   {
    "duration": 37,
    "start_time": "2023-04-10T13:55:06.433Z"
   },
   {
    "duration": 26,
    "start_time": "2023-04-10T13:55:06.473Z"
   },
   {
    "duration": 17,
    "start_time": "2023-04-10T13:55:06.501Z"
   },
   {
    "duration": 161,
    "start_time": "2023-04-10T13:55:06.520Z"
   },
   {
    "duration": 584,
    "start_time": "2023-04-10T13:59:01.999Z"
   },
   {
    "duration": 563,
    "start_time": "2023-04-10T13:59:19.969Z"
   },
   {
    "duration": 45,
    "start_time": "2023-04-10T14:12:44.492Z"
   },
   {
    "duration": 648,
    "start_time": "2023-04-10T14:13:38.563Z"
   },
   {
    "duration": 545,
    "start_time": "2023-04-10T14:13:54.443Z"
   },
   {
    "duration": 58,
    "start_time": "2023-04-10T14:54:07.033Z"
   },
   {
    "duration": 1525,
    "start_time": "2023-04-10T14:55:11.423Z"
   },
   {
    "duration": 265,
    "start_time": "2023-04-10T14:55:12.951Z"
   },
   {
    "duration": 15,
    "start_time": "2023-04-10T14:55:13.219Z"
   },
   {
    "duration": 19,
    "start_time": "2023-04-10T14:55:13.238Z"
   },
   {
    "duration": 15,
    "start_time": "2023-04-10T14:55:13.259Z"
   },
   {
    "duration": 30,
    "start_time": "2023-04-10T14:55:13.276Z"
   },
   {
    "duration": 16,
    "start_time": "2023-04-10T14:55:13.308Z"
   },
   {
    "duration": 27,
    "start_time": "2023-04-10T14:55:13.326Z"
   },
   {
    "duration": 15,
    "start_time": "2023-04-10T14:55:13.356Z"
   },
   {
    "duration": 19,
    "start_time": "2023-04-10T14:55:13.375Z"
   },
   {
    "duration": 9,
    "start_time": "2023-04-10T14:55:13.395Z"
   },
   {
    "duration": 23,
    "start_time": "2023-04-10T14:55:13.406Z"
   },
   {
    "duration": 8,
    "start_time": "2023-04-10T14:55:13.441Z"
   },
   {
    "duration": 13,
    "start_time": "2023-04-10T14:55:13.452Z"
   },
   {
    "duration": 13,
    "start_time": "2023-04-10T14:55:13.467Z"
   },
   {
    "duration": 15,
    "start_time": "2023-04-10T14:55:13.482Z"
   },
   {
    "duration": 43,
    "start_time": "2023-04-10T14:55:13.499Z"
   },
   {
    "duration": 16,
    "start_time": "2023-04-10T14:55:13.545Z"
   },
   {
    "duration": 208,
    "start_time": "2023-04-10T14:55:13.563Z"
   },
   {
    "duration": 60,
    "start_time": "2023-04-10T14:55:13.773Z"
   },
   {
    "duration": 19,
    "start_time": "2023-04-10T14:55:13.836Z"
   },
   {
    "duration": 17,
    "start_time": "2023-04-10T14:55:13.858Z"
   },
   {
    "duration": 625,
    "start_time": "2023-04-10T14:55:13.879Z"
   },
   {
    "duration": 493,
    "start_time": "2023-04-10T14:55:14.505Z"
   },
   {
    "duration": 669,
    "start_time": "2023-04-10T14:55:15.001Z"
   },
   {
    "duration": 54,
    "start_time": "2023-04-11T02:50:15.281Z"
   },
   {
    "duration": 1289,
    "start_time": "2023-04-11T02:50:25.036Z"
   },
   {
    "duration": 195,
    "start_time": "2023-04-11T02:50:26.328Z"
   },
   {
    "duration": 11,
    "start_time": "2023-04-11T02:50:26.525Z"
   },
   {
    "duration": 12,
    "start_time": "2023-04-11T02:50:26.538Z"
   },
   {
    "duration": 5,
    "start_time": "2023-04-11T02:50:26.551Z"
   },
   {
    "duration": 13,
    "start_time": "2023-04-11T02:50:26.557Z"
   },
   {
    "duration": 15,
    "start_time": "2023-04-11T02:50:26.572Z"
   },
   {
    "duration": 8,
    "start_time": "2023-04-11T02:50:26.589Z"
   },
   {
    "duration": 10,
    "start_time": "2023-04-11T02:50:26.599Z"
   },
   {
    "duration": 13,
    "start_time": "2023-04-11T02:50:26.612Z"
   },
   {
    "duration": 4,
    "start_time": "2023-04-11T02:50:26.626Z"
   },
   {
    "duration": 12,
    "start_time": "2023-04-11T02:50:26.632Z"
   },
   {
    "duration": 5,
    "start_time": "2023-04-11T02:50:26.646Z"
   },
   {
    "duration": 6,
    "start_time": "2023-04-11T02:50:26.653Z"
   },
   {
    "duration": 7,
    "start_time": "2023-04-11T02:50:26.694Z"
   },
   {
    "duration": 10,
    "start_time": "2023-04-11T02:50:26.703Z"
   },
   {
    "duration": 10,
    "start_time": "2023-04-11T02:50:26.714Z"
   },
   {
    "duration": 12,
    "start_time": "2023-04-11T02:50:26.725Z"
   },
   {
    "duration": 5,
    "start_time": "2023-04-11T02:50:26.739Z"
   },
   {
    "duration": 16,
    "start_time": "2023-04-11T02:50:26.746Z"
   },
   {
    "duration": 36,
    "start_time": "2023-04-11T02:50:26.764Z"
   },
   {
    "duration": 9,
    "start_time": "2023-04-11T02:50:26.802Z"
   },
   {
    "duration": 583,
    "start_time": "2023-04-11T02:50:26.812Z"
   },
   {
    "duration": 470,
    "start_time": "2023-04-11T02:50:27.397Z"
   },
   {
    "duration": 671,
    "start_time": "2023-04-11T02:50:27.869Z"
   },
   {
    "duration": 467,
    "start_time": "2023-04-11T03:16:40.012Z"
   },
   {
    "duration": 504,
    "start_time": "2023-04-11T03:17:08.491Z"
   },
   {
    "duration": 9,
    "start_time": "2023-04-11T03:19:22.880Z"
   },
   {
    "duration": 94,
    "start_time": "2023-04-11T03:21:32.314Z"
   },
   {
    "duration": 10,
    "start_time": "2023-04-11T03:23:17.808Z"
   },
   {
    "duration": 523,
    "start_time": "2023-04-11T03:25:30.188Z"
   },
   {
    "duration": 492,
    "start_time": "2023-04-11T03:25:59.255Z"
   },
   {
    "duration": 485,
    "start_time": "2023-04-11T03:26:18.937Z"
   },
   {
    "duration": 567,
    "start_time": "2023-04-11T03:26:52.236Z"
   },
   {
    "duration": 474,
    "start_time": "2023-04-11T03:27:19.814Z"
   },
   {
    "duration": 496,
    "start_time": "2023-04-11T03:27:40.490Z"
   },
   {
    "duration": 502,
    "start_time": "2023-04-11T03:27:52.097Z"
   },
   {
    "duration": 495,
    "start_time": "2023-04-11T03:28:13.117Z"
   },
   {
    "duration": 493,
    "start_time": "2023-04-11T03:29:18.440Z"
   },
   {
    "duration": 493,
    "start_time": "2023-04-11T03:29:54.030Z"
   },
   {
    "duration": 491,
    "start_time": "2023-04-11T03:30:08.702Z"
   },
   {
    "duration": 59,
    "start_time": "2023-04-11T05:28:57.054Z"
   },
   {
    "duration": 1448,
    "start_time": "2023-04-11T05:33:26.233Z"
   },
   {
    "duration": 191,
    "start_time": "2023-04-11T05:33:27.685Z"
   },
   {
    "duration": 9,
    "start_time": "2023-04-11T05:33:27.878Z"
   },
   {
    "duration": 13,
    "start_time": "2023-04-11T05:33:27.889Z"
   },
   {
    "duration": 4,
    "start_time": "2023-04-11T05:33:27.904Z"
   },
   {
    "duration": 12,
    "start_time": "2023-04-11T05:33:27.910Z"
   },
   {
    "duration": 6,
    "start_time": "2023-04-11T05:33:27.924Z"
   },
   {
    "duration": 9,
    "start_time": "2023-04-11T05:33:27.932Z"
   },
   {
    "duration": 47,
    "start_time": "2023-04-11T05:33:27.943Z"
   },
   {
    "duration": 13,
    "start_time": "2023-04-11T05:33:27.993Z"
   },
   {
    "duration": 6,
    "start_time": "2023-04-11T05:33:28.007Z"
   },
   {
    "duration": 14,
    "start_time": "2023-04-11T05:33:28.014Z"
   },
   {
    "duration": 9,
    "start_time": "2023-04-11T05:33:28.030Z"
   },
   {
    "duration": 7,
    "start_time": "2023-04-11T05:33:28.041Z"
   },
   {
    "duration": 6,
    "start_time": "2023-04-11T05:33:28.086Z"
   },
   {
    "duration": 8,
    "start_time": "2023-04-11T05:33:28.094Z"
   },
   {
    "duration": 12,
    "start_time": "2023-04-11T05:33:28.104Z"
   },
   {
    "duration": 11,
    "start_time": "2023-04-11T05:33:28.118Z"
   },
   {
    "duration": 20,
    "start_time": "2023-04-11T05:33:28.130Z"
   },
   {
    "duration": 38,
    "start_time": "2023-04-11T05:33:28.152Z"
   },
   {
    "duration": 6,
    "start_time": "2023-04-11T05:33:28.192Z"
   },
   {
    "duration": 10,
    "start_time": "2023-04-11T05:33:28.200Z"
   },
   {
    "duration": 9,
    "start_time": "2023-04-11T05:33:28.212Z"
   },
   {
    "duration": 614,
    "start_time": "2023-04-11T05:33:28.222Z"
   },
   {
    "duration": 459,
    "start_time": "2023-04-11T05:33:28.838Z"
   },
   {
    "duration": 601,
    "start_time": "2023-04-11T05:33:29.299Z"
   },
   {
    "duration": 486,
    "start_time": "2023-04-11T05:33:29.901Z"
   },
   {
    "duration": 335,
    "start_time": "2023-04-11T05:33:30.390Z"
   },
   {
    "duration": 286,
    "start_time": "2023-04-11T05:35:28.487Z"
   },
   {
    "duration": 190,
    "start_time": "2023-04-11T05:36:22.531Z"
   },
   {
    "duration": 198,
    "start_time": "2023-04-11T05:36:30.891Z"
   },
   {
    "duration": 5,
    "start_time": "2023-04-11T05:37:06.265Z"
   },
   {
    "duration": 388,
    "start_time": "2023-04-11T05:37:13.828Z"
   },
   {
    "duration": 173,
    "start_time": "2023-04-11T05:38:02.545Z"
   },
   {
    "duration": 1137,
    "start_time": "2023-04-11T05:38:14.904Z"
   },
   {
    "duration": 60,
    "start_time": "2023-04-11T05:38:16.043Z"
   },
   {
    "duration": 9,
    "start_time": "2023-04-11T05:38:16.105Z"
   },
   {
    "duration": 12,
    "start_time": "2023-04-11T05:38:16.115Z"
   },
   {
    "duration": 4,
    "start_time": "2023-04-11T05:38:16.128Z"
   },
   {
    "duration": 11,
    "start_time": "2023-04-11T05:38:16.133Z"
   },
   {
    "duration": 5,
    "start_time": "2023-04-11T05:38:16.145Z"
   },
   {
    "duration": 34,
    "start_time": "2023-04-11T05:38:16.152Z"
   },
   {
    "duration": 10,
    "start_time": "2023-04-11T05:38:16.188Z"
   },
   {
    "duration": 12,
    "start_time": "2023-04-11T05:38:16.201Z"
   },
   {
    "duration": 4,
    "start_time": "2023-04-11T05:38:16.214Z"
   },
   {
    "duration": 11,
    "start_time": "2023-04-11T05:38:16.219Z"
   },
   {
    "duration": 7,
    "start_time": "2023-04-11T05:38:16.232Z"
   },
   {
    "duration": 46,
    "start_time": "2023-04-11T05:38:16.240Z"
   },
   {
    "duration": 6,
    "start_time": "2023-04-11T05:38:16.287Z"
   },
   {
    "duration": 9,
    "start_time": "2023-04-11T05:38:16.295Z"
   },
   {
    "duration": 7,
    "start_time": "2023-04-11T05:38:16.305Z"
   },
   {
    "duration": 12,
    "start_time": "2023-04-11T05:38:16.314Z"
   },
   {
    "duration": 4,
    "start_time": "2023-04-11T05:38:16.328Z"
   },
   {
    "duration": 53,
    "start_time": "2023-04-11T05:38:16.333Z"
   },
   {
    "duration": 6,
    "start_time": "2023-04-11T05:38:16.388Z"
   },
   {
    "duration": 10,
    "start_time": "2023-04-11T05:38:16.395Z"
   },
   {
    "duration": 8,
    "start_time": "2023-04-11T05:38:16.406Z"
   },
   {
    "duration": 588,
    "start_time": "2023-04-11T05:38:16.416Z"
   },
   {
    "duration": 183,
    "start_time": "2023-04-11T05:38:17.005Z"
   },
   {
    "duration": 277,
    "start_time": "2023-04-11T05:38:17.190Z"
   },
   {
    "duration": 205,
    "start_time": "2023-04-11T05:38:17.469Z"
   },
   {
    "duration": 285,
    "start_time": "2023-04-11T05:38:17.684Z"
   },
   {
    "duration": 294,
    "start_time": "2023-04-11T05:51:41.062Z"
   },
   {
    "duration": 3,
    "start_time": "2023-04-11T05:54:33.463Z"
   },
   {
    "duration": 142,
    "start_time": "2023-04-11T05:56:30.891Z"
   },
   {
    "duration": 9,
    "start_time": "2023-04-11T06:00:00.397Z"
   },
   {
    "duration": 10,
    "start_time": "2023-04-11T06:01:28.625Z"
   },
   {
    "duration": 119,
    "start_time": "2023-04-11T06:03:42.854Z"
   },
   {
    "duration": 1282,
    "start_time": "2023-04-11T09:12:36.871Z"
   },
   {
    "duration": 66,
    "start_time": "2023-04-11T09:12:38.155Z"
   },
   {
    "duration": 8,
    "start_time": "2023-04-11T09:12:38.223Z"
   },
   {
    "duration": 18,
    "start_time": "2023-04-11T09:12:38.233Z"
   },
   {
    "duration": 8,
    "start_time": "2023-04-11T09:12:38.253Z"
   },
   {
    "duration": 16,
    "start_time": "2023-04-11T09:12:38.262Z"
   },
   {
    "duration": 7,
    "start_time": "2023-04-11T09:12:38.280Z"
   },
   {
    "duration": 15,
    "start_time": "2023-04-11T09:12:38.291Z"
   },
   {
    "duration": 17,
    "start_time": "2023-04-11T09:12:38.308Z"
   },
   {
    "duration": 13,
    "start_time": "2023-04-11T09:12:38.328Z"
   },
   {
    "duration": 4,
    "start_time": "2023-04-11T09:12:38.342Z"
   },
   {
    "duration": 39,
    "start_time": "2023-04-11T09:12:38.348Z"
   },
   {
    "duration": 14,
    "start_time": "2023-04-11T09:12:38.390Z"
   },
   {
    "duration": 8,
    "start_time": "2023-04-11T09:12:38.406Z"
   },
   {
    "duration": 8,
    "start_time": "2023-04-11T09:12:38.415Z"
   },
   {
    "duration": 10,
    "start_time": "2023-04-11T09:12:38.424Z"
   },
   {
    "duration": 12,
    "start_time": "2023-04-11T09:12:38.435Z"
   },
   {
    "duration": 41,
    "start_time": "2023-04-11T09:12:38.449Z"
   },
   {
    "duration": 9,
    "start_time": "2023-04-11T09:12:38.495Z"
   },
   {
    "duration": 9,
    "start_time": "2023-04-11T09:12:38.506Z"
   },
   {
    "duration": 6,
    "start_time": "2023-04-11T09:12:38.517Z"
   },
   {
    "duration": 9,
    "start_time": "2023-04-11T09:12:38.524Z"
   },
   {
    "duration": 10,
    "start_time": "2023-04-11T09:12:38.535Z"
   },
   {
    "duration": 624,
    "start_time": "2023-04-11T09:12:38.548Z"
   },
   {
    "duration": 197,
    "start_time": "2023-04-11T09:12:39.174Z"
   },
   {
    "duration": 304,
    "start_time": "2023-04-11T09:12:39.375Z"
   },
   {
    "duration": 221,
    "start_time": "2023-04-11T09:12:39.688Z"
   },
   {
    "duration": 287,
    "start_time": "2023-04-11T09:12:39.912Z"
   },
   {
    "duration": 126,
    "start_time": "2023-04-11T09:12:40.201Z"
   },
   {
    "duration": 7,
    "start_time": "2023-04-11T09:21:24.980Z"
   },
   {
    "duration": 6,
    "start_time": "2023-04-11T09:21:45.931Z"
   },
   {
    "duration": 8,
    "start_time": "2023-04-11T09:22:17.347Z"
   },
   {
    "duration": 6,
    "start_time": "2023-04-11T09:22:38.911Z"
   },
   {
    "duration": 129,
    "start_time": "2023-04-11T09:40:43.021Z"
   },
   {
    "duration": 130,
    "start_time": "2023-04-11T09:45:41.948Z"
   },
   {
    "duration": 7,
    "start_time": "2023-04-11T09:48:46.167Z"
   },
   {
    "duration": 8,
    "start_time": "2023-04-11T09:48:58.134Z"
   },
   {
    "duration": 184,
    "start_time": "2023-04-11T10:13:13.123Z"
   },
   {
    "duration": 1283,
    "start_time": "2023-04-11T10:15:49.309Z"
   },
   {
    "duration": 110,
    "start_time": "2023-04-11T10:23:00.512Z"
   },
   {
    "duration": 105,
    "start_time": "2023-04-11T10:23:24.243Z"
   },
   {
    "duration": 101,
    "start_time": "2023-04-11T10:23:34.239Z"
   },
   {
    "duration": 231,
    "start_time": "2023-04-11T10:27:20.060Z"
   },
   {
    "duration": 1271,
    "start_time": "2023-04-11T10:27:26.709Z"
   },
   {
    "duration": 1173,
    "start_time": "2023-04-11T10:28:00.807Z"
   },
   {
    "duration": 65,
    "start_time": "2023-04-11T10:28:01.981Z"
   },
   {
    "duration": 10,
    "start_time": "2023-04-11T10:28:02.048Z"
   },
   {
    "duration": 34,
    "start_time": "2023-04-11T10:28:02.060Z"
   },
   {
    "duration": 8,
    "start_time": "2023-04-11T10:28:02.096Z"
   },
   {
    "duration": 25,
    "start_time": "2023-04-11T10:28:02.106Z"
   },
   {
    "duration": 8,
    "start_time": "2023-04-11T10:28:02.133Z"
   },
   {
    "duration": 12,
    "start_time": "2023-04-11T10:28:02.143Z"
   },
   {
    "duration": 12,
    "start_time": "2023-04-11T10:28:02.157Z"
   },
   {
    "duration": 11,
    "start_time": "2023-04-11T10:28:02.185Z"
   },
   {
    "duration": 11,
    "start_time": "2023-04-11T10:28:02.198Z"
   },
   {
    "duration": 14,
    "start_time": "2023-04-11T10:28:02.210Z"
   },
   {
    "duration": 6,
    "start_time": "2023-04-11T10:28:02.225Z"
   },
   {
    "duration": 9,
    "start_time": "2023-04-11T10:28:02.233Z"
   },
   {
    "duration": 7,
    "start_time": "2023-04-11T10:28:02.244Z"
   },
   {
    "duration": 39,
    "start_time": "2023-04-11T10:28:02.254Z"
   },
   {
    "duration": 9,
    "start_time": "2023-04-11T10:28:02.295Z"
   },
   {
    "duration": 22,
    "start_time": "2023-04-11T10:28:02.306Z"
   },
   {
    "duration": 6,
    "start_time": "2023-04-11T10:28:02.329Z"
   },
   {
    "duration": 10,
    "start_time": "2023-04-11T10:28:02.336Z"
   },
   {
    "duration": 6,
    "start_time": "2023-04-11T10:28:02.348Z"
   },
   {
    "duration": 10,
    "start_time": "2023-04-11T10:28:02.385Z"
   },
   {
    "duration": 9,
    "start_time": "2023-04-11T10:28:02.397Z"
   },
   {
    "duration": 573,
    "start_time": "2023-04-11T10:28:02.409Z"
   },
   {
    "duration": 192,
    "start_time": "2023-04-11T10:28:02.984Z"
   },
   {
    "duration": 289,
    "start_time": "2023-04-11T10:28:03.178Z"
   },
   {
    "duration": 207,
    "start_time": "2023-04-11T10:28:03.468Z"
   },
   {
    "duration": 283,
    "start_time": "2023-04-11T10:28:03.685Z"
   },
   {
    "duration": 138,
    "start_time": "2023-04-11T10:28:03.970Z"
   },
   {
    "duration": 8,
    "start_time": "2023-04-11T10:28:04.109Z"
   },
   {
    "duration": 183,
    "start_time": "2023-04-11T10:28:04.119Z"
   },
   {
    "duration": 7,
    "start_time": "2023-04-11T10:28:04.303Z"
   },
   {
    "duration": 227,
    "start_time": "2023-04-11T10:28:04.312Z"
   },
   {
    "duration": 1435,
    "start_time": "2023-04-11T10:28:04.540Z"
   },
   {
    "duration": 233,
    "start_time": "2023-04-11T10:30:32.409Z"
   },
   {
    "duration": 136,
    "start_time": "2023-04-11T10:33:22.160Z"
   },
   {
    "duration": 1241,
    "start_time": "2023-04-11T10:34:49.551Z"
   },
   {
    "duration": 58,
    "start_time": "2023-04-11T10:34:50.794Z"
   },
   {
    "duration": 11,
    "start_time": "2023-04-11T10:34:50.853Z"
   },
   {
    "duration": 17,
    "start_time": "2023-04-11T10:34:50.866Z"
   },
   {
    "duration": 12,
    "start_time": "2023-04-11T10:34:50.886Z"
   },
   {
    "duration": 36,
    "start_time": "2023-04-11T10:34:50.900Z"
   },
   {
    "duration": 14,
    "start_time": "2023-04-11T10:34:50.938Z"
   },
   {
    "duration": 23,
    "start_time": "2023-04-11T10:34:50.954Z"
   },
   {
    "duration": 26,
    "start_time": "2023-04-11T10:34:50.979Z"
   },
   {
    "duration": 15,
    "start_time": "2023-04-11T10:34:51.008Z"
   },
   {
    "duration": 13,
    "start_time": "2023-04-11T10:34:51.025Z"
   },
   {
    "duration": 22,
    "start_time": "2023-04-11T10:34:51.040Z"
   },
   {
    "duration": 11,
    "start_time": "2023-04-11T10:34:51.064Z"
   },
   {
    "duration": 7,
    "start_time": "2023-04-11T10:34:51.077Z"
   },
   {
    "duration": 13,
    "start_time": "2023-04-11T10:34:51.085Z"
   },
   {
    "duration": 22,
    "start_time": "2023-04-11T10:34:51.100Z"
   },
   {
    "duration": 16,
    "start_time": "2023-04-11T10:34:51.123Z"
   },
   {
    "duration": 15,
    "start_time": "2023-04-11T10:34:51.140Z"
   },
   {
    "duration": 7,
    "start_time": "2023-04-11T10:34:51.156Z"
   },
   {
    "duration": 22,
    "start_time": "2023-04-11T10:34:51.164Z"
   },
   {
    "duration": 15,
    "start_time": "2023-04-11T10:34:51.188Z"
   },
   {
    "duration": 13,
    "start_time": "2023-04-11T10:34:51.205Z"
   },
   {
    "duration": 9,
    "start_time": "2023-04-11T10:34:51.220Z"
   },
   {
    "duration": 583,
    "start_time": "2023-04-11T10:34:51.230Z"
   },
   {
    "duration": 182,
    "start_time": "2023-04-11T10:34:51.814Z"
   },
   {
    "duration": 275,
    "start_time": "2023-04-11T10:34:51.998Z"
   },
   {
    "duration": 216,
    "start_time": "2023-04-11T10:34:52.275Z"
   },
   {
    "duration": 297,
    "start_time": "2023-04-11T10:34:52.495Z"
   },
   {
    "duration": 127,
    "start_time": "2023-04-11T10:34:52.794Z"
   },
   {
    "duration": 8,
    "start_time": "2023-04-11T10:34:52.923Z"
   },
   {
    "duration": 138,
    "start_time": "2023-04-11T10:34:52.933Z"
   },
   {
    "duration": 15,
    "start_time": "2023-04-11T10:34:53.073Z"
   },
   {
    "duration": 229,
    "start_time": "2023-04-11T10:34:53.090Z"
   },
   {
    "duration": 160,
    "start_time": "2023-04-11T10:34:53.321Z"
   },
   {
    "duration": 12,
    "start_time": "2023-04-11T11:19:48.973Z"
   },
   {
    "duration": 106,
    "start_time": "2023-04-11T11:32:31.474Z"
   },
   {
    "duration": 10,
    "start_time": "2023-04-11T11:33:31.275Z"
   },
   {
    "duration": 7,
    "start_time": "2023-04-11T11:35:18.118Z"
   },
   {
    "duration": 29,
    "start_time": "2023-04-11T11:35:25.618Z"
   },
   {
    "duration": 8,
    "start_time": "2023-04-11T11:36:40.930Z"
   },
   {
    "duration": 41,
    "start_time": "2023-04-11T11:36:45.869Z"
   },
   {
    "duration": 1320,
    "start_time": "2023-04-11T11:42:34.641Z"
   },
   {
    "duration": 16,
    "start_time": "2023-04-11T11:43:39.976Z"
   },
   {
    "duration": 176,
    "start_time": "2023-04-11T12:27:01.356Z"
   },
   {
    "duration": 122,
    "start_time": "2023-04-11T12:27:17.236Z"
   },
   {
    "duration": 236,
    "start_time": "2023-04-11T12:27:26.008Z"
   },
   {
    "duration": 163,
    "start_time": "2023-04-11T12:27:52.597Z"
   },
   {
    "duration": 184,
    "start_time": "2023-04-11T12:28:00.246Z"
   },
   {
    "duration": 208,
    "start_time": "2023-04-11T12:28:14.340Z"
   },
   {
    "duration": 196,
    "start_time": "2023-04-11T12:28:27.818Z"
   },
   {
    "duration": 176,
    "start_time": "2023-04-11T12:33:43.709Z"
   },
   {
    "duration": 194,
    "start_time": "2023-04-11T12:34:09.643Z"
   },
   {
    "duration": 197,
    "start_time": "2023-04-11T12:36:08.027Z"
   },
   {
    "duration": 176,
    "start_time": "2023-04-11T12:36:21.635Z"
   },
   {
    "duration": 185,
    "start_time": "2023-04-11T12:36:47.755Z"
   },
   {
    "duration": 231,
    "start_time": "2023-04-11T12:37:24.040Z"
   },
   {
    "duration": 176,
    "start_time": "2023-04-11T12:37:39.230Z"
   },
   {
    "duration": 184,
    "start_time": "2023-04-11T12:38:30.293Z"
   },
   {
    "duration": 192,
    "start_time": "2023-04-11T12:40:37.115Z"
   },
   {
    "duration": 204,
    "start_time": "2023-04-11T12:40:57.237Z"
   },
   {
    "duration": 199,
    "start_time": "2023-04-11T12:41:05.391Z"
   },
   {
    "duration": 203,
    "start_time": "2023-04-11T12:41:14.542Z"
   },
   {
    "duration": 203,
    "start_time": "2023-04-11T12:41:25.737Z"
   },
   {
    "duration": 202,
    "start_time": "2023-04-11T12:41:32.343Z"
   },
   {
    "duration": 201,
    "start_time": "2023-04-11T12:41:44.217Z"
   },
   {
    "duration": 183,
    "start_time": "2023-04-11T12:42:11.776Z"
   },
   {
    "duration": 211,
    "start_time": "2023-04-11T12:42:22.472Z"
   },
   {
    "duration": 198,
    "start_time": "2023-04-11T12:42:33.942Z"
   },
   {
    "duration": 197,
    "start_time": "2023-04-11T12:42:40.172Z"
   },
   {
    "duration": 202,
    "start_time": "2023-04-11T12:42:50.700Z"
   },
   {
    "duration": 197,
    "start_time": "2023-04-11T12:43:17.995Z"
   },
   {
    "duration": 234,
    "start_time": "2023-04-11T12:43:29.471Z"
   },
   {
    "duration": 296,
    "start_time": "2023-04-11T12:43:42.192Z"
   },
   {
    "duration": 1206,
    "start_time": "2023-04-11T12:44:04.082Z"
   },
   {
    "duration": 60,
    "start_time": "2023-04-11T12:44:05.290Z"
   },
   {
    "duration": 10,
    "start_time": "2023-04-11T12:44:05.352Z"
   },
   {
    "duration": 13,
    "start_time": "2023-04-11T12:44:05.364Z"
   },
   {
    "duration": 7,
    "start_time": "2023-04-11T12:44:05.379Z"
   },
   {
    "duration": 12,
    "start_time": "2023-04-11T12:44:05.387Z"
   },
   {
    "duration": 10,
    "start_time": "2023-04-11T12:44:05.401Z"
   },
   {
    "duration": 11,
    "start_time": "2023-04-11T12:44:05.413Z"
   },
   {
    "duration": 11,
    "start_time": "2023-04-11T12:44:05.426Z"
   },
   {
    "duration": 20,
    "start_time": "2023-04-11T12:44:05.440Z"
   },
   {
    "duration": 25,
    "start_time": "2023-04-11T12:44:05.462Z"
   },
   {
    "duration": 7,
    "start_time": "2023-04-11T12:44:05.489Z"
   },
   {
    "duration": 6,
    "start_time": "2023-04-11T12:44:05.498Z"
   },
   {
    "duration": 29,
    "start_time": "2023-04-11T12:44:05.506Z"
   },
   {
    "duration": 24,
    "start_time": "2023-04-11T12:44:05.537Z"
   },
   {
    "duration": 9,
    "start_time": "2023-04-11T12:44:05.564Z"
   },
   {
    "duration": 12,
    "start_time": "2023-04-11T12:44:05.575Z"
   },
   {
    "duration": 9,
    "start_time": "2023-04-11T12:44:05.589Z"
   },
   {
    "duration": 10,
    "start_time": "2023-04-11T12:44:05.600Z"
   },
   {
    "duration": 25,
    "start_time": "2023-04-11T12:44:05.612Z"
   },
   {
    "duration": 13,
    "start_time": "2023-04-11T12:44:05.638Z"
   },
   {
    "duration": 11,
    "start_time": "2023-04-11T12:44:05.653Z"
   },
   {
    "duration": 529,
    "start_time": "2023-04-11T12:44:05.666Z"
   },
   {
    "duration": 183,
    "start_time": "2023-04-11T12:44:06.197Z"
   },
   {
    "duration": 285,
    "start_time": "2023-04-11T12:44:06.384Z"
   },
   {
    "duration": 198,
    "start_time": "2023-04-11T12:44:06.671Z"
   },
   {
    "duration": 292,
    "start_time": "2023-04-11T12:44:06.870Z"
   },
   {
    "duration": 123,
    "start_time": "2023-04-11T12:44:07.165Z"
   },
   {
    "duration": 7,
    "start_time": "2023-04-11T12:44:07.290Z"
   },
   {
    "duration": 136,
    "start_time": "2023-04-11T12:44:07.298Z"
   },
   {
    "duration": 7,
    "start_time": "2023-04-11T12:44:07.436Z"
   },
   {
    "duration": 235,
    "start_time": "2023-04-11T12:44:07.445Z"
   },
   {
    "duration": 182,
    "start_time": "2023-04-11T12:44:07.681Z"
   },
   {
    "duration": 24,
    "start_time": "2023-04-11T12:44:07.865Z"
   },
   {
    "duration": 14,
    "start_time": "2023-04-11T12:44:07.891Z"
   },
   {
    "duration": 28,
    "start_time": "2023-04-11T12:44:07.906Z"
   },
   {
    "duration": 13,
    "start_time": "2023-04-11T12:44:07.936Z"
   },
   {
    "duration": 272,
    "start_time": "2023-04-11T12:44:46.337Z"
   },
   {
    "duration": 172,
    "start_time": "2023-04-11T12:45:02.058Z"
   },
   {
    "duration": 1138,
    "start_time": "2023-04-11T12:45:12.311Z"
   },
   {
    "duration": 55,
    "start_time": "2023-04-11T12:45:13.451Z"
   },
   {
    "duration": 9,
    "start_time": "2023-04-11T12:45:13.508Z"
   },
   {
    "duration": 11,
    "start_time": "2023-04-11T12:45:13.520Z"
   },
   {
    "duration": 15,
    "start_time": "2023-04-11T12:45:13.532Z"
   },
   {
    "duration": 11,
    "start_time": "2023-04-11T12:45:13.549Z"
   },
   {
    "duration": 5,
    "start_time": "2023-04-11T12:45:13.561Z"
   },
   {
    "duration": 9,
    "start_time": "2023-04-11T12:45:13.568Z"
   },
   {
    "duration": 12,
    "start_time": "2023-04-11T12:45:13.578Z"
   },
   {
    "duration": 14,
    "start_time": "2023-04-11T12:45:13.592Z"
   },
   {
    "duration": 3,
    "start_time": "2023-04-11T12:45:13.607Z"
   },
   {
    "duration": 7,
    "start_time": "2023-04-11T12:45:13.611Z"
   },
   {
    "duration": 12,
    "start_time": "2023-04-11T12:45:13.620Z"
   },
   {
    "duration": 7,
    "start_time": "2023-04-11T12:45:13.633Z"
   },
   {
    "duration": 8,
    "start_time": "2023-04-11T12:45:13.641Z"
   },
   {
    "duration": 39,
    "start_time": "2023-04-11T12:45:13.651Z"
   },
   {
    "duration": 29,
    "start_time": "2023-04-11T12:45:13.692Z"
   },
   {
    "duration": 19,
    "start_time": "2023-04-11T12:45:13.723Z"
   },
   {
    "duration": 22,
    "start_time": "2023-04-11T12:45:13.744Z"
   },
   {
    "duration": 7,
    "start_time": "2023-04-11T12:45:13.767Z"
   },
   {
    "duration": 12,
    "start_time": "2023-04-11T12:45:13.775Z"
   },
   {
    "duration": 9,
    "start_time": "2023-04-11T12:45:13.789Z"
   },
   {
    "duration": 618,
    "start_time": "2023-04-11T12:45:13.800Z"
   },
   {
    "duration": 193,
    "start_time": "2023-04-11T12:45:14.420Z"
   },
   {
    "duration": 254,
    "start_time": "2023-04-11T12:45:14.615Z"
   },
   {
    "duration": 203,
    "start_time": "2023-04-11T12:45:14.871Z"
   },
   {
    "duration": 289,
    "start_time": "2023-04-11T12:45:15.076Z"
   },
   {
    "duration": 117,
    "start_time": "2023-04-11T12:45:15.368Z"
   },
   {
    "duration": 7,
    "start_time": "2023-04-11T12:45:15.486Z"
   },
   {
    "duration": 134,
    "start_time": "2023-04-11T12:45:15.494Z"
   },
   {
    "duration": 9,
    "start_time": "2023-04-11T12:45:15.635Z"
   },
   {
    "duration": 229,
    "start_time": "2023-04-11T12:45:15.646Z"
   },
   {
    "duration": 172,
    "start_time": "2023-04-11T12:45:15.877Z"
   },
   {
    "duration": 10,
    "start_time": "2023-04-11T12:45:16.051Z"
   },
   {
    "duration": 24,
    "start_time": "2023-04-11T12:45:16.063Z"
   },
   {
    "duration": 47,
    "start_time": "2023-04-11T12:45:16.089Z"
   },
   {
    "duration": 13,
    "start_time": "2023-04-11T12:45:16.138Z"
   },
   {
    "duration": 257,
    "start_time": "2023-04-11T12:45:56.805Z"
   },
   {
    "duration": 185,
    "start_time": "2023-04-11T12:47:00.164Z"
   },
   {
    "duration": 1118,
    "start_time": "2023-04-11T12:47:07.238Z"
   },
   {
    "duration": 56,
    "start_time": "2023-04-11T12:47:08.358Z"
   },
   {
    "duration": 9,
    "start_time": "2023-04-11T12:47:08.416Z"
   },
   {
    "duration": 13,
    "start_time": "2023-04-11T12:47:08.428Z"
   },
   {
    "duration": 3,
    "start_time": "2023-04-11T12:47:08.443Z"
   },
   {
    "duration": 10,
    "start_time": "2023-04-11T12:47:08.448Z"
   },
   {
    "duration": 5,
    "start_time": "2023-04-11T12:47:08.460Z"
   },
   {
    "duration": 10,
    "start_time": "2023-04-11T12:47:08.466Z"
   },
   {
    "duration": 13,
    "start_time": "2023-04-11T12:47:08.477Z"
   },
   {
    "duration": 11,
    "start_time": "2023-04-11T12:47:08.493Z"
   },
   {
    "duration": 6,
    "start_time": "2023-04-11T12:47:08.506Z"
   },
   {
    "duration": 20,
    "start_time": "2023-04-11T12:47:08.514Z"
   },
   {
    "duration": 6,
    "start_time": "2023-04-11T12:47:08.536Z"
   },
   {
    "duration": 7,
    "start_time": "2023-04-11T12:47:08.543Z"
   },
   {
    "duration": 8,
    "start_time": "2023-04-11T12:47:08.552Z"
   },
   {
    "duration": 29,
    "start_time": "2023-04-11T12:47:08.562Z"
   },
   {
    "duration": 11,
    "start_time": "2023-04-11T12:47:08.592Z"
   },
   {
    "duration": 4,
    "start_time": "2023-04-11T12:47:08.605Z"
   },
   {
    "duration": 10,
    "start_time": "2023-04-11T12:47:08.611Z"
   },
   {
    "duration": 5,
    "start_time": "2023-04-11T12:47:08.623Z"
   },
   {
    "duration": 9,
    "start_time": "2023-04-11T12:47:08.630Z"
   },
   {
    "duration": 45,
    "start_time": "2023-04-11T12:47:08.640Z"
   },
   {
    "duration": 534,
    "start_time": "2023-04-11T12:47:08.687Z"
   },
   {
    "duration": 177,
    "start_time": "2023-04-11T12:47:09.223Z"
   },
   {
    "duration": 274,
    "start_time": "2023-04-11T12:47:09.401Z"
   },
   {
    "duration": 200,
    "start_time": "2023-04-11T12:47:09.676Z"
   },
   {
    "duration": 290,
    "start_time": "2023-04-11T12:47:09.878Z"
   },
   {
    "duration": 126,
    "start_time": "2023-04-11T12:47:10.173Z"
   },
   {
    "duration": 8,
    "start_time": "2023-04-11T12:47:10.301Z"
   },
   {
    "duration": 150,
    "start_time": "2023-04-11T12:47:10.311Z"
   },
   {
    "duration": 6,
    "start_time": "2023-04-11T12:47:10.464Z"
   },
   {
    "duration": 225,
    "start_time": "2023-04-11T12:47:10.472Z"
   },
   {
    "duration": 180,
    "start_time": "2023-04-11T12:47:10.698Z"
   },
   {
    "duration": 15,
    "start_time": "2023-04-11T12:47:10.879Z"
   },
   {
    "duration": 10,
    "start_time": "2023-04-11T12:47:10.896Z"
   },
   {
    "duration": 42,
    "start_time": "2023-04-11T12:47:10.907Z"
   },
   {
    "duration": 41,
    "start_time": "2023-04-11T12:47:10.951Z"
   },
   {
    "duration": 562,
    "start_time": "2023-04-11T12:47:55.693Z"
   },
   {
    "duration": 1194,
    "start_time": "2023-04-11T12:48:14.251Z"
   },
   {
    "duration": 56,
    "start_time": "2023-04-11T12:48:15.447Z"
   },
   {
    "duration": 10,
    "start_time": "2023-04-11T12:48:15.505Z"
   },
   {
    "duration": 11,
    "start_time": "2023-04-11T12:48:15.517Z"
   },
   {
    "duration": 4,
    "start_time": "2023-04-11T12:48:15.530Z"
   },
   {
    "duration": 12,
    "start_time": "2023-04-11T12:48:15.536Z"
   },
   {
    "duration": 11,
    "start_time": "2023-04-11T12:48:15.550Z"
   },
   {
    "duration": 23,
    "start_time": "2023-04-11T12:48:15.563Z"
   },
   {
    "duration": 10,
    "start_time": "2023-04-11T12:48:15.587Z"
   },
   {
    "duration": 12,
    "start_time": "2023-04-11T12:48:15.601Z"
   },
   {
    "duration": 6,
    "start_time": "2023-04-11T12:48:15.614Z"
   },
   {
    "duration": 7,
    "start_time": "2023-04-11T12:48:15.622Z"
   },
   {
    "duration": 6,
    "start_time": "2023-04-11T12:48:15.630Z"
   },
   {
    "duration": 6,
    "start_time": "2023-04-11T12:48:15.638Z"
   },
   {
    "duration": 41,
    "start_time": "2023-04-11T12:48:15.645Z"
   },
   {
    "duration": 13,
    "start_time": "2023-04-11T12:48:15.689Z"
   },
   {
    "duration": 17,
    "start_time": "2023-04-11T12:48:15.703Z"
   },
   {
    "duration": 6,
    "start_time": "2023-04-11T12:48:15.721Z"
   },
   {
    "duration": 10,
    "start_time": "2023-04-11T12:48:15.728Z"
   },
   {
    "duration": 6,
    "start_time": "2023-04-11T12:48:15.740Z"
   },
   {
    "duration": 9,
    "start_time": "2023-04-11T12:48:15.747Z"
   },
   {
    "duration": 35,
    "start_time": "2023-04-11T12:48:15.758Z"
   },
   {
    "duration": 537,
    "start_time": "2023-04-11T12:48:15.795Z"
   },
   {
    "duration": 193,
    "start_time": "2023-04-11T12:48:16.334Z"
   },
   {
    "duration": 256,
    "start_time": "2023-04-11T12:48:16.529Z"
   },
   {
    "duration": 191,
    "start_time": "2023-04-11T12:48:16.787Z"
   },
   {
    "duration": 284,
    "start_time": "2023-04-11T12:48:16.984Z"
   },
   {
    "duration": 127,
    "start_time": "2023-04-11T12:48:17.270Z"
   },
   {
    "duration": 7,
    "start_time": "2023-04-11T12:48:17.398Z"
   },
   {
    "duration": 156,
    "start_time": "2023-04-11T12:48:17.407Z"
   },
   {
    "duration": 7,
    "start_time": "2023-04-11T12:48:17.564Z"
   },
   {
    "duration": 241,
    "start_time": "2023-04-11T12:48:17.585Z"
   },
   {
    "duration": 157,
    "start_time": "2023-04-11T12:48:17.828Z"
   },
   {
    "duration": 11,
    "start_time": "2023-04-11T12:48:17.986Z"
   },
   {
    "duration": 12,
    "start_time": "2023-04-11T12:48:17.998Z"
   },
   {
    "duration": 33,
    "start_time": "2023-04-11T12:48:18.011Z"
   },
   {
    "duration": 16,
    "start_time": "2023-04-11T12:48:18.047Z"
   },
   {
    "duration": 1199,
    "start_time": "2023-04-11T12:49:17.946Z"
   },
   {
    "duration": 56,
    "start_time": "2023-04-11T12:49:19.148Z"
   },
   {
    "duration": 8,
    "start_time": "2023-04-11T12:49:19.206Z"
   },
   {
    "duration": 13,
    "start_time": "2023-04-11T12:49:19.216Z"
   },
   {
    "duration": 17,
    "start_time": "2023-04-11T12:49:19.231Z"
   },
   {
    "duration": 16,
    "start_time": "2023-04-11T12:49:19.250Z"
   },
   {
    "duration": 11,
    "start_time": "2023-04-11T12:49:19.268Z"
   },
   {
    "duration": 11,
    "start_time": "2023-04-11T12:49:19.280Z"
   },
   {
    "duration": 14,
    "start_time": "2023-04-11T12:49:19.292Z"
   },
   {
    "duration": 16,
    "start_time": "2023-04-11T12:49:19.308Z"
   },
   {
    "duration": 5,
    "start_time": "2023-04-11T12:49:19.326Z"
   },
   {
    "duration": 8,
    "start_time": "2023-04-11T12:49:19.333Z"
   },
   {
    "duration": 13,
    "start_time": "2023-04-11T12:49:19.342Z"
   },
   {
    "duration": 5,
    "start_time": "2023-04-11T12:49:19.357Z"
   },
   {
    "duration": 22,
    "start_time": "2023-04-11T12:49:19.364Z"
   },
   {
    "duration": 17,
    "start_time": "2023-04-11T12:49:19.387Z"
   },
   {
    "duration": 10,
    "start_time": "2023-04-11T12:49:19.405Z"
   },
   {
    "duration": 8,
    "start_time": "2023-04-11T12:49:19.417Z"
   },
   {
    "duration": 8,
    "start_time": "2023-04-11T12:49:19.426Z"
   },
   {
    "duration": 12,
    "start_time": "2023-04-11T12:49:19.436Z"
   },
   {
    "duration": 11,
    "start_time": "2023-04-11T12:49:19.449Z"
   },
   {
    "duration": 25,
    "start_time": "2023-04-11T12:49:19.462Z"
   },
   {
    "duration": 558,
    "start_time": "2023-04-11T12:49:19.489Z"
   },
   {
    "duration": 207,
    "start_time": "2023-04-11T12:49:20.049Z"
   },
   {
    "duration": 305,
    "start_time": "2023-04-11T12:49:20.258Z"
   },
   {
    "duration": 220,
    "start_time": "2023-04-11T12:49:20.565Z"
   },
   {
    "duration": 296,
    "start_time": "2023-04-11T12:49:20.787Z"
   },
   {
    "duration": 133,
    "start_time": "2023-04-11T12:49:21.088Z"
   },
   {
    "duration": 8,
    "start_time": "2023-04-11T12:49:21.223Z"
   },
   {
    "duration": 155,
    "start_time": "2023-04-11T12:49:21.232Z"
   },
   {
    "duration": 6,
    "start_time": "2023-04-11T12:49:21.389Z"
   },
   {
    "duration": 222,
    "start_time": "2023-04-11T12:49:21.397Z"
   },
   {
    "duration": 162,
    "start_time": "2023-04-11T12:49:21.621Z"
   },
   {
    "duration": 10,
    "start_time": "2023-04-11T12:49:21.785Z"
   },
   {
    "duration": 8,
    "start_time": "2023-04-11T12:49:21.796Z"
   },
   {
    "duration": 27,
    "start_time": "2023-04-11T12:49:21.806Z"
   },
   {
    "duration": 14,
    "start_time": "2023-04-11T12:49:21.835Z"
   },
   {
    "duration": 325,
    "start_time": "2023-04-11T13:35:09.755Z"
   },
   {
    "duration": 169,
    "start_time": "2023-04-11T13:36:02.729Z"
   },
   {
    "duration": 167,
    "start_time": "2023-04-11T13:36:30.712Z"
   },
   {
    "duration": 6,
    "start_time": "2023-04-11T13:37:44.701Z"
   },
   {
    "duration": 129,
    "start_time": "2023-04-11T13:50:24.820Z"
   },
   {
    "duration": 7,
    "start_time": "2023-04-11T14:10:33.668Z"
   },
   {
    "duration": 1303,
    "start_time": "2023-04-11T14:37:43.211Z"
   },
   {
    "duration": 57,
    "start_time": "2023-04-11T14:37:44.516Z"
   },
   {
    "duration": 10,
    "start_time": "2023-04-11T14:37:44.574Z"
   },
   {
    "duration": 25,
    "start_time": "2023-04-11T14:37:44.585Z"
   },
   {
    "duration": 10,
    "start_time": "2023-04-11T14:37:44.613Z"
   },
   {
    "duration": 38,
    "start_time": "2023-04-11T14:37:44.624Z"
   },
   {
    "duration": 20,
    "start_time": "2023-04-11T14:37:44.663Z"
   },
   {
    "duration": 22,
    "start_time": "2023-04-11T14:37:44.684Z"
   },
   {
    "duration": 21,
    "start_time": "2023-04-11T14:37:44.708Z"
   },
   {
    "duration": 13,
    "start_time": "2023-04-11T14:37:44.730Z"
   },
   {
    "duration": 13,
    "start_time": "2023-04-11T14:37:44.744Z"
   },
   {
    "duration": 17,
    "start_time": "2023-04-11T14:37:44.759Z"
   },
   {
    "duration": 25,
    "start_time": "2023-04-11T14:37:44.778Z"
   },
   {
    "duration": 17,
    "start_time": "2023-04-11T14:37:44.806Z"
   },
   {
    "duration": 10,
    "start_time": "2023-04-11T14:37:44.825Z"
   },
   {
    "duration": 23,
    "start_time": "2023-04-11T14:37:44.837Z"
   },
   {
    "duration": 10,
    "start_time": "2023-04-11T14:37:44.862Z"
   },
   {
    "duration": 19,
    "start_time": "2023-04-11T14:37:44.873Z"
   },
   {
    "duration": 13,
    "start_time": "2023-04-11T14:37:44.893Z"
   },
   {
    "duration": 7,
    "start_time": "2023-04-11T14:37:44.908Z"
   },
   {
    "duration": 20,
    "start_time": "2023-04-11T14:37:44.917Z"
   },
   {
    "duration": 12,
    "start_time": "2023-04-11T14:37:44.939Z"
   },
   {
    "duration": 23,
    "start_time": "2023-04-11T14:37:44.953Z"
   },
   {
    "duration": 19,
    "start_time": "2023-04-11T14:37:44.978Z"
   },
   {
    "duration": 607,
    "start_time": "2023-04-11T14:37:44.999Z"
   },
   {
    "duration": 212,
    "start_time": "2023-04-11T14:37:45.607Z"
   },
   {
    "duration": 294,
    "start_time": "2023-04-11T14:37:45.821Z"
   },
   {
    "duration": 220,
    "start_time": "2023-04-11T14:37:46.117Z"
   },
   {
    "duration": 307,
    "start_time": "2023-04-11T14:37:46.339Z"
   },
   {
    "duration": 139,
    "start_time": "2023-04-11T14:37:46.648Z"
   },
   {
    "duration": 8,
    "start_time": "2023-04-11T14:37:46.789Z"
   },
   {
    "duration": 155,
    "start_time": "2023-04-11T14:37:46.799Z"
   },
   {
    "duration": 8,
    "start_time": "2023-04-11T14:37:46.956Z"
   },
   {
    "duration": 244,
    "start_time": "2023-04-11T14:37:46.966Z"
   },
   {
    "duration": 178,
    "start_time": "2023-04-11T14:37:47.212Z"
   },
   {
    "duration": 11,
    "start_time": "2023-04-11T14:37:47.393Z"
   },
   {
    "duration": 7,
    "start_time": "2023-04-11T14:37:47.406Z"
   },
   {
    "duration": 31,
    "start_time": "2023-04-11T14:37:47.415Z"
   },
   {
    "duration": 41,
    "start_time": "2023-04-11T14:37:47.448Z"
   },
   {
    "duration": 8,
    "start_time": "2023-04-11T14:43:27.773Z"
   },
   {
    "duration": 7,
    "start_time": "2023-04-11T14:44:53.377Z"
   },
   {
    "duration": 7,
    "start_time": "2023-04-11T14:46:36.773Z"
   },
   {
    "duration": 7,
    "start_time": "2023-04-11T14:48:07.206Z"
   },
   {
    "duration": 28,
    "start_time": "2023-04-11T14:48:11.986Z"
   },
   {
    "duration": 15,
    "start_time": "2023-04-11T14:48:39.125Z"
   },
   {
    "duration": 1208,
    "start_time": "2023-04-11T14:57:25.670Z"
   },
   {
    "duration": 58,
    "start_time": "2023-04-11T14:57:26.880Z"
   },
   {
    "duration": 9,
    "start_time": "2023-04-11T14:57:26.940Z"
   },
   {
    "duration": 14,
    "start_time": "2023-04-11T14:57:26.951Z"
   },
   {
    "duration": 6,
    "start_time": "2023-04-11T14:57:26.967Z"
   },
   {
    "duration": 23,
    "start_time": "2023-04-11T14:57:26.974Z"
   },
   {
    "duration": 11,
    "start_time": "2023-04-11T14:57:27.000Z"
   },
   {
    "duration": 14,
    "start_time": "2023-04-11T14:57:27.013Z"
   },
   {
    "duration": 18,
    "start_time": "2023-04-11T14:57:27.029Z"
   },
   {
    "duration": 19,
    "start_time": "2023-04-11T14:57:27.050Z"
   },
   {
    "duration": 4,
    "start_time": "2023-04-11T14:57:27.085Z"
   },
   {
    "duration": 9,
    "start_time": "2023-04-11T14:57:27.091Z"
   },
   {
    "duration": 7,
    "start_time": "2023-04-11T14:57:27.102Z"
   },
   {
    "duration": 8,
    "start_time": "2023-04-11T14:57:27.111Z"
   },
   {
    "duration": 10,
    "start_time": "2023-04-11T14:57:27.121Z"
   },
   {
    "duration": 10,
    "start_time": "2023-04-11T14:57:27.133Z"
   },
   {
    "duration": 47,
    "start_time": "2023-04-11T14:57:27.145Z"
   },
   {
    "duration": 11,
    "start_time": "2023-04-11T14:57:27.194Z"
   },
   {
    "duration": 13,
    "start_time": "2023-04-11T14:57:27.207Z"
   },
   {
    "duration": 4,
    "start_time": "2023-04-11T14:57:27.222Z"
   },
   {
    "duration": 9,
    "start_time": "2023-04-11T14:57:27.228Z"
   },
   {
    "duration": 5,
    "start_time": "2023-04-11T14:57:27.239Z"
   },
   {
    "duration": 43,
    "start_time": "2023-04-11T14:57:27.246Z"
   },
   {
    "duration": 10,
    "start_time": "2023-04-11T14:57:27.290Z"
   },
   {
    "duration": 595,
    "start_time": "2023-04-11T14:57:27.302Z"
   },
   {
    "duration": 225,
    "start_time": "2023-04-11T14:57:27.899Z"
   },
   {
    "duration": 298,
    "start_time": "2023-04-11T14:57:28.126Z"
   },
   {
    "duration": 232,
    "start_time": "2023-04-11T14:57:28.429Z"
   },
   {
    "duration": 329,
    "start_time": "2023-04-11T14:57:28.663Z"
   },
   {
    "duration": 137,
    "start_time": "2023-04-11T14:57:28.994Z"
   },
   {
    "duration": 7,
    "start_time": "2023-04-11T14:57:29.134Z"
   },
   {
    "duration": 164,
    "start_time": "2023-04-11T14:57:29.143Z"
   },
   {
    "duration": 8,
    "start_time": "2023-04-11T14:57:29.309Z"
   },
   {
    "duration": 238,
    "start_time": "2023-04-11T14:57:29.318Z"
   },
   {
    "duration": 170,
    "start_time": "2023-04-11T14:57:29.558Z"
   },
   {
    "duration": 13,
    "start_time": "2023-04-11T14:57:29.730Z"
   },
   {
    "duration": 9,
    "start_time": "2023-04-11T14:57:29.745Z"
   },
   {
    "duration": 52,
    "start_time": "2023-04-11T14:57:29.756Z"
   },
   {
    "duration": 15,
    "start_time": "2023-04-11T14:57:29.809Z"
   },
   {
    "duration": 1237,
    "start_time": "2023-04-11T16:23:18.431Z"
   },
   {
    "duration": 68,
    "start_time": "2023-04-11T16:23:19.670Z"
   },
   {
    "duration": 9,
    "start_time": "2023-04-11T16:23:19.740Z"
   },
   {
    "duration": 12,
    "start_time": "2023-04-11T16:23:19.751Z"
   },
   {
    "duration": 12,
    "start_time": "2023-04-11T16:23:19.764Z"
   },
   {
    "duration": 25,
    "start_time": "2023-04-11T16:23:19.778Z"
   },
   {
    "duration": 7,
    "start_time": "2023-04-11T16:23:19.805Z"
   },
   {
    "duration": 9,
    "start_time": "2023-04-11T16:23:19.814Z"
   },
   {
    "duration": 12,
    "start_time": "2023-04-11T16:23:19.825Z"
   },
   {
    "duration": 15,
    "start_time": "2023-04-11T16:23:19.841Z"
   },
   {
    "duration": 28,
    "start_time": "2023-04-11T16:23:19.857Z"
   },
   {
    "duration": 8,
    "start_time": "2023-04-11T16:23:19.887Z"
   },
   {
    "duration": 7,
    "start_time": "2023-04-11T16:23:19.897Z"
   },
   {
    "duration": 6,
    "start_time": "2023-04-11T16:23:19.906Z"
   },
   {
    "duration": 10,
    "start_time": "2023-04-11T16:23:19.914Z"
   },
   {
    "duration": 8,
    "start_time": "2023-04-11T16:23:19.926Z"
   },
   {
    "duration": 6,
    "start_time": "2023-04-11T16:23:19.936Z"
   },
   {
    "duration": 49,
    "start_time": "2023-04-11T16:23:19.943Z"
   },
   {
    "duration": 11,
    "start_time": "2023-04-11T16:23:19.994Z"
   },
   {
    "duration": 19,
    "start_time": "2023-04-11T16:23:20.007Z"
   },
   {
    "duration": 19,
    "start_time": "2023-04-11T16:23:20.028Z"
   },
   {
    "duration": 13,
    "start_time": "2023-04-11T16:23:20.049Z"
   },
   {
    "duration": 41,
    "start_time": "2023-04-11T16:23:20.064Z"
   },
   {
    "duration": 18,
    "start_time": "2023-04-11T16:23:20.107Z"
   },
   {
    "duration": 598,
    "start_time": "2023-04-11T16:23:20.128Z"
   },
   {
    "duration": 206,
    "start_time": "2023-04-11T16:23:20.728Z"
   },
   {
    "duration": 292,
    "start_time": "2023-04-11T16:23:20.936Z"
   },
   {
    "duration": 209,
    "start_time": "2023-04-11T16:23:21.232Z"
   },
   {
    "duration": 303,
    "start_time": "2023-04-11T16:23:21.443Z"
   },
   {
    "duration": 134,
    "start_time": "2023-04-11T16:23:21.748Z"
   },
   {
    "duration": 8,
    "start_time": "2023-04-11T16:23:21.884Z"
   },
   {
    "duration": 155,
    "start_time": "2023-04-11T16:23:21.893Z"
   },
   {
    "duration": 8,
    "start_time": "2023-04-11T16:23:22.050Z"
   },
   {
    "duration": 234,
    "start_time": "2023-04-11T16:23:22.060Z"
   },
   {
    "duration": 180,
    "start_time": "2023-04-11T16:23:22.296Z"
   },
   {
    "duration": 15,
    "start_time": "2023-04-11T16:23:22.478Z"
   },
   {
    "duration": 8,
    "start_time": "2023-04-11T16:23:22.495Z"
   },
   {
    "duration": 36,
    "start_time": "2023-04-11T16:23:22.504Z"
   },
   {
    "duration": 15,
    "start_time": "2023-04-11T16:23:22.542Z"
   },
   {
    "duration": 1319,
    "start_time": "2023-04-11T16:32:00.439Z"
   },
   {
    "duration": 99,
    "start_time": "2023-04-11T16:32:01.763Z"
   },
   {
    "duration": 9,
    "start_time": "2023-04-11T16:32:01.864Z"
   },
   {
    "duration": 68,
    "start_time": "2023-04-11T16:32:01.874Z"
   },
   {
    "duration": 5,
    "start_time": "2023-04-11T16:32:01.960Z"
   },
   {
    "duration": 19,
    "start_time": "2023-04-11T16:32:01.967Z"
   },
   {
    "duration": 7,
    "start_time": "2023-04-11T16:32:01.988Z"
   },
   {
    "duration": 13,
    "start_time": "2023-04-11T16:32:01.997Z"
   },
   {
    "duration": 38,
    "start_time": "2023-04-11T16:32:02.012Z"
   },
   {
    "duration": 28,
    "start_time": "2023-04-11T16:32:02.051Z"
   },
   {
    "duration": 10,
    "start_time": "2023-04-11T16:32:02.080Z"
   },
   {
    "duration": 9,
    "start_time": "2023-04-11T16:32:02.092Z"
   },
   {
    "duration": 36,
    "start_time": "2023-04-11T16:32:02.102Z"
   },
   {
    "duration": 14,
    "start_time": "2023-04-11T16:32:02.153Z"
   },
   {
    "duration": 18,
    "start_time": "2023-04-11T16:32:02.169Z"
   },
   {
    "duration": 41,
    "start_time": "2023-04-11T16:32:02.189Z"
   },
   {
    "duration": 23,
    "start_time": "2023-04-11T16:32:02.231Z"
   },
   {
    "duration": 10,
    "start_time": "2023-04-11T16:32:02.258Z"
   },
   {
    "duration": 14,
    "start_time": "2023-04-11T16:32:02.270Z"
   },
   {
    "duration": 19,
    "start_time": "2023-04-11T16:32:02.285Z"
   },
   {
    "duration": 9,
    "start_time": "2023-04-11T16:32:02.305Z"
   },
   {
    "duration": 31,
    "start_time": "2023-04-11T16:32:02.315Z"
   },
   {
    "duration": 8,
    "start_time": "2023-04-11T16:32:02.361Z"
   },
   {
    "duration": 8,
    "start_time": "2023-04-11T16:32:02.371Z"
   },
   {
    "duration": 602,
    "start_time": "2023-04-11T16:32:02.381Z"
   },
   {
    "duration": 262,
    "start_time": "2023-04-11T16:32:02.984Z"
   },
   {
    "duration": 269,
    "start_time": "2023-04-11T16:32:03.272Z"
   },
   {
    "duration": 239,
    "start_time": "2023-04-11T16:32:03.542Z"
   },
   {
    "duration": 379,
    "start_time": "2023-04-11T16:32:03.783Z"
   },
   {
    "duration": 140,
    "start_time": "2023-04-11T16:32:04.164Z"
   },
   {
    "duration": 6,
    "start_time": "2023-04-11T16:32:04.306Z"
   },
   {
    "duration": 175,
    "start_time": "2023-04-11T16:32:04.314Z"
   },
   {
    "duration": 6,
    "start_time": "2023-04-11T16:32:04.491Z"
   },
   {
    "duration": 259,
    "start_time": "2023-04-11T16:32:04.499Z"
   },
   {
    "duration": 196,
    "start_time": "2023-04-11T16:32:04.769Z"
   },
   {
    "duration": 11,
    "start_time": "2023-04-11T16:32:04.967Z"
   },
   {
    "duration": 6,
    "start_time": "2023-04-11T16:32:04.980Z"
   },
   {
    "duration": 50,
    "start_time": "2023-04-11T16:32:04.988Z"
   },
   {
    "duration": 29,
    "start_time": "2023-04-11T16:32:05.040Z"
   },
   {
    "duration": 88,
    "start_time": "2023-04-12T03:05:18.715Z"
   },
   {
    "duration": 1487,
    "start_time": "2023-04-12T03:05:26.940Z"
   },
   {
    "duration": 263,
    "start_time": "2023-04-12T03:05:28.429Z"
   },
   {
    "duration": 13,
    "start_time": "2023-04-12T03:05:28.694Z"
   },
   {
    "duration": 13,
    "start_time": "2023-04-12T03:05:28.710Z"
   },
   {
    "duration": 5,
    "start_time": "2023-04-12T03:05:28.725Z"
   },
   {
    "duration": 23,
    "start_time": "2023-04-12T03:05:28.732Z"
   },
   {
    "duration": 8,
    "start_time": "2023-04-12T03:05:28.757Z"
   },
   {
    "duration": 35,
    "start_time": "2023-04-12T03:05:28.767Z"
   },
   {
    "duration": 19,
    "start_time": "2023-04-12T03:05:28.805Z"
   },
   {
    "duration": 17,
    "start_time": "2023-04-12T03:05:28.827Z"
   },
   {
    "duration": 23,
    "start_time": "2023-04-12T03:05:28.846Z"
   },
   {
    "duration": 13,
    "start_time": "2023-04-12T03:05:28.871Z"
   },
   {
    "duration": 19,
    "start_time": "2023-04-12T03:05:28.886Z"
   },
   {
    "duration": 7,
    "start_time": "2023-04-12T03:05:28.908Z"
   },
   {
    "duration": 10,
    "start_time": "2023-04-12T03:05:28.917Z"
   },
   {
    "duration": 12,
    "start_time": "2023-04-12T03:05:28.929Z"
   },
   {
    "duration": 14,
    "start_time": "2023-04-12T03:05:28.942Z"
   },
   {
    "duration": 19,
    "start_time": "2023-04-12T03:05:28.957Z"
   },
   {
    "duration": 22,
    "start_time": "2023-04-12T03:05:28.978Z"
   },
   {
    "duration": 13,
    "start_time": "2023-04-12T03:05:29.001Z"
   },
   {
    "duration": 13,
    "start_time": "2023-04-12T03:05:29.016Z"
   },
   {
    "duration": 7,
    "start_time": "2023-04-12T03:05:29.031Z"
   },
   {
    "duration": 4,
    "start_time": "2023-04-12T03:05:29.040Z"
   },
   {
    "duration": 10,
    "start_time": "2023-04-12T03:05:29.046Z"
   },
   {
    "duration": 39,
    "start_time": "2023-04-12T03:05:29.058Z"
   },
   {
    "duration": 610,
    "start_time": "2023-04-12T03:05:29.107Z"
   },
   {
    "duration": 231,
    "start_time": "2023-04-12T03:05:29.719Z"
   },
   {
    "duration": 392,
    "start_time": "2023-04-12T03:05:29.953Z"
   },
   {
    "duration": 277,
    "start_time": "2023-04-12T03:05:30.347Z"
   },
   {
    "duration": 305,
    "start_time": "2023-04-12T03:05:30.627Z"
   },
   {
    "duration": 170,
    "start_time": "2023-04-12T03:05:30.934Z"
   },
   {
    "duration": 10,
    "start_time": "2023-04-12T03:05:31.105Z"
   },
   {
    "duration": 243,
    "start_time": "2023-04-12T03:05:31.117Z"
   },
   {
    "duration": 9,
    "start_time": "2023-04-12T03:05:31.362Z"
   },
   {
    "duration": 327,
    "start_time": "2023-04-12T03:05:31.373Z"
   },
   {
    "duration": 223,
    "start_time": "2023-04-12T03:05:31.702Z"
   },
   {
    "duration": 25,
    "start_time": "2023-04-12T03:05:31.927Z"
   },
   {
    "duration": 13,
    "start_time": "2023-04-12T03:05:31.954Z"
   },
   {
    "duration": 48,
    "start_time": "2023-04-12T03:05:31.969Z"
   },
   {
    "duration": 16,
    "start_time": "2023-04-12T03:05:32.018Z"
   },
   {
    "duration": 67,
    "start_time": "2023-04-12T03:06:20.307Z"
   },
   {
    "duration": 157,
    "start_time": "2023-04-12T03:06:45.460Z"
   },
   {
    "duration": 96,
    "start_time": "2023-04-12T03:07:20.728Z"
   },
   {
    "duration": 9,
    "start_time": "2023-04-12T03:13:53.130Z"
   },
   {
    "duration": 7,
    "start_time": "2023-04-12T03:14:57.538Z"
   },
   {
    "duration": 6,
    "start_time": "2023-04-12T03:16:04.009Z"
   },
   {
    "duration": 14,
    "start_time": "2023-04-12T03:19:13.619Z"
   },
   {
    "duration": 10,
    "start_time": "2023-04-12T03:19:52.170Z"
   },
   {
    "duration": 68,
    "start_time": "2023-04-12T03:23:00.161Z"
   },
   {
    "duration": 18,
    "start_time": "2023-04-12T03:25:17.982Z"
   },
   {
    "duration": 8,
    "start_time": "2023-04-12T03:25:26.345Z"
   },
   {
    "duration": 17,
    "start_time": "2023-04-12T03:25:54.413Z"
   },
   {
    "duration": 50,
    "start_time": "2023-04-12T07:12:08.758Z"
   },
   {
    "duration": 1407,
    "start_time": "2023-04-12T07:21:14.611Z"
   },
   {
    "duration": 169,
    "start_time": "2023-04-12T07:21:16.020Z"
   },
   {
    "duration": 10,
    "start_time": "2023-04-12T07:21:16.190Z"
   },
   {
    "duration": 17,
    "start_time": "2023-04-12T07:21:16.202Z"
   },
   {
    "duration": 10,
    "start_time": "2023-04-12T07:21:16.222Z"
   },
   {
    "duration": 13,
    "start_time": "2023-04-12T07:21:16.234Z"
   },
   {
    "duration": 7,
    "start_time": "2023-04-12T07:21:16.249Z"
   },
   {
    "duration": 32,
    "start_time": "2023-04-12T07:21:16.258Z"
   },
   {
    "duration": 14,
    "start_time": "2023-04-12T07:21:16.292Z"
   },
   {
    "duration": 14,
    "start_time": "2023-04-12T07:21:16.309Z"
   },
   {
    "duration": 8,
    "start_time": "2023-04-12T07:21:16.325Z"
   },
   {
    "duration": 8,
    "start_time": "2023-04-12T07:21:16.335Z"
   },
   {
    "duration": 7,
    "start_time": "2023-04-12T07:21:16.344Z"
   },
   {
    "duration": 6,
    "start_time": "2023-04-12T07:21:16.352Z"
   },
   {
    "duration": 10,
    "start_time": "2023-04-12T07:21:16.389Z"
   },
   {
    "duration": 9,
    "start_time": "2023-04-12T07:21:16.400Z"
   },
   {
    "duration": 6,
    "start_time": "2023-04-12T07:21:16.410Z"
   },
   {
    "duration": 10,
    "start_time": "2023-04-12T07:21:16.418Z"
   },
   {
    "duration": 15,
    "start_time": "2023-04-12T07:21:16.429Z"
   },
   {
    "duration": 13,
    "start_time": "2023-04-12T07:21:16.446Z"
   },
   {
    "duration": 41,
    "start_time": "2023-04-12T07:21:16.461Z"
   },
   {
    "duration": 7,
    "start_time": "2023-04-12T07:21:16.503Z"
   },
   {
    "duration": 86,
    "start_time": "2023-04-12T07:21:16.511Z"
   },
   {
    "duration": 0,
    "start_time": "2023-04-12T07:21:16.599Z"
   },
   {
    "duration": 0,
    "start_time": "2023-04-12T07:21:16.601Z"
   },
   {
    "duration": 0,
    "start_time": "2023-04-12T07:21:16.602Z"
   },
   {
    "duration": 0,
    "start_time": "2023-04-12T07:21:16.603Z"
   },
   {
    "duration": 0,
    "start_time": "2023-04-12T07:21:16.605Z"
   },
   {
    "duration": 0,
    "start_time": "2023-04-12T07:21:16.606Z"
   },
   {
    "duration": 0,
    "start_time": "2023-04-12T07:21:16.607Z"
   },
   {
    "duration": 0,
    "start_time": "2023-04-12T07:21:16.609Z"
   },
   {
    "duration": 0,
    "start_time": "2023-04-12T07:21:16.610Z"
   },
   {
    "duration": 0,
    "start_time": "2023-04-12T07:21:16.611Z"
   },
   {
    "duration": 0,
    "start_time": "2023-04-12T07:21:16.612Z"
   },
   {
    "duration": 0,
    "start_time": "2023-04-12T07:21:16.613Z"
   },
   {
    "duration": 0,
    "start_time": "2023-04-12T07:21:16.614Z"
   },
   {
    "duration": 0,
    "start_time": "2023-04-12T07:21:16.615Z"
   },
   {
    "duration": 0,
    "start_time": "2023-04-12T07:21:16.617Z"
   },
   {
    "duration": 0,
    "start_time": "2023-04-12T07:21:16.618Z"
   },
   {
    "duration": 0,
    "start_time": "2023-04-12T07:21:16.619Z"
   },
   {
    "duration": 0,
    "start_time": "2023-04-12T07:21:16.620Z"
   },
   {
    "duration": 0,
    "start_time": "2023-04-12T07:21:16.621Z"
   },
   {
    "duration": 0,
    "start_time": "2023-04-12T07:21:16.622Z"
   },
   {
    "duration": 0,
    "start_time": "2023-04-12T07:21:16.623Z"
   },
   {
    "duration": 0,
    "start_time": "2023-04-12T07:21:16.624Z"
   },
   {
    "duration": 0,
    "start_time": "2023-04-12T07:21:16.625Z"
   },
   {
    "duration": 5,
    "start_time": "2023-04-12T07:22:39.535Z"
   },
   {
    "duration": 9,
    "start_time": "2023-04-12T07:22:42.547Z"
   },
   {
    "duration": 6,
    "start_time": "2023-04-12T07:22:45.549Z"
   },
   {
    "duration": 6,
    "start_time": "2023-04-12T07:22:56.751Z"
   },
   {
    "duration": 8,
    "start_time": "2023-04-12T07:23:00.013Z"
   },
   {
    "duration": 11,
    "start_time": "2023-04-12T07:23:02.932Z"
   },
   {
    "duration": 12,
    "start_time": "2023-04-12T07:23:09.327Z"
   },
   {
    "duration": 6,
    "start_time": "2023-04-12T07:23:17.299Z"
   },
   {
    "duration": 7,
    "start_time": "2023-04-12T07:24:15.398Z"
   },
   {
    "duration": 13,
    "start_time": "2023-04-12T07:24:25.730Z"
   },
   {
    "duration": 9,
    "start_time": "2023-04-12T07:25:11.826Z"
   },
   {
    "duration": 15,
    "start_time": "2023-04-12T07:25:51.895Z"
   },
   {
    "duration": 13,
    "start_time": "2023-04-12T07:41:37.983Z"
   },
   {
    "duration": 9,
    "start_time": "2023-04-12T07:42:40.424Z"
   },
   {
    "duration": 6,
    "start_time": "2023-04-12T07:42:43.854Z"
   },
   {
    "duration": 10,
    "start_time": "2023-04-12T07:51:26.166Z"
   },
   {
    "duration": 11,
    "start_time": "2023-04-12T07:52:13.811Z"
   },
   {
    "duration": 85,
    "start_time": "2023-04-12T07:52:53.963Z"
   },
   {
    "duration": 11,
    "start_time": "2023-04-12T07:53:34.458Z"
   },
   {
    "duration": 7,
    "start_time": "2023-04-12T07:54:54.110Z"
   },
   {
    "duration": 12,
    "start_time": "2023-04-12T08:00:19.090Z"
   },
   {
    "duration": 13,
    "start_time": "2023-04-12T08:09:49.088Z"
   },
   {
    "duration": 133,
    "start_time": "2023-04-12T08:10:02.018Z"
   },
   {
    "duration": 12,
    "start_time": "2023-04-12T08:23:34.593Z"
   },
   {
    "duration": 12,
    "start_time": "2023-04-12T08:27:09.262Z"
   },
   {
    "duration": 15,
    "start_time": "2023-04-12T08:27:31.696Z"
   },
   {
    "duration": 13,
    "start_time": "2023-04-12T08:51:30.484Z"
   },
   {
    "duration": 1229,
    "start_time": "2023-04-12T08:52:57.660Z"
   },
   {
    "duration": 60,
    "start_time": "2023-04-12T08:52:58.891Z"
   },
   {
    "duration": 12,
    "start_time": "2023-04-12T08:52:58.953Z"
   },
   {
    "duration": 33,
    "start_time": "2023-04-12T08:52:58.968Z"
   },
   {
    "duration": 16,
    "start_time": "2023-04-12T08:52:59.004Z"
   },
   {
    "duration": 25,
    "start_time": "2023-04-12T08:52:59.022Z"
   },
   {
    "duration": 26,
    "start_time": "2023-04-12T08:52:59.048Z"
   },
   {
    "duration": 26,
    "start_time": "2023-04-12T08:52:59.075Z"
   },
   {
    "duration": 19,
    "start_time": "2023-04-12T08:52:59.103Z"
   },
   {
    "duration": 21,
    "start_time": "2023-04-12T08:52:59.125Z"
   },
   {
    "duration": 15,
    "start_time": "2023-04-12T08:52:59.148Z"
   },
   {
    "duration": 27,
    "start_time": "2023-04-12T08:52:59.165Z"
   },
   {
    "duration": 26,
    "start_time": "2023-04-12T08:52:59.194Z"
   },
   {
    "duration": 17,
    "start_time": "2023-04-12T08:52:59.221Z"
   },
   {
    "duration": 28,
    "start_time": "2023-04-12T08:52:59.240Z"
   },
   {
    "duration": 21,
    "start_time": "2023-04-12T08:52:59.269Z"
   },
   {
    "duration": 29,
    "start_time": "2023-04-12T08:52:59.292Z"
   },
   {
    "duration": 21,
    "start_time": "2023-04-12T08:52:59.323Z"
   },
   {
    "duration": 38,
    "start_time": "2023-04-12T08:52:59.345Z"
   },
   {
    "duration": 23,
    "start_time": "2023-04-12T08:52:59.385Z"
   },
   {
    "duration": 34,
    "start_time": "2023-04-12T08:52:59.410Z"
   },
   {
    "duration": 22,
    "start_time": "2023-04-12T08:52:59.446Z"
   },
   {
    "duration": 29,
    "start_time": "2023-04-12T08:52:59.470Z"
   },
   {
    "duration": 29,
    "start_time": "2023-04-12T08:52:59.500Z"
   },
   {
    "duration": 22,
    "start_time": "2023-04-12T08:52:59.531Z"
   },
   {
    "duration": 34,
    "start_time": "2023-04-12T08:52:59.555Z"
   },
   {
    "duration": 18,
    "start_time": "2023-04-12T08:52:59.590Z"
   },
   {
    "duration": 18,
    "start_time": "2023-04-12T08:52:59.611Z"
   },
   {
    "duration": 32,
    "start_time": "2023-04-12T08:52:59.631Z"
   },
   {
    "duration": 35,
    "start_time": "2023-04-12T08:52:59.664Z"
   },
   {
    "duration": 670,
    "start_time": "2023-04-12T08:52:59.701Z"
   },
   {
    "duration": 291,
    "start_time": "2023-04-12T08:53:00.374Z"
   },
   {
    "duration": 356,
    "start_time": "2023-04-12T08:53:00.668Z"
   },
   {
    "duration": 235,
    "start_time": "2023-04-12T08:53:01.026Z"
   },
   {
    "duration": 339,
    "start_time": "2023-04-12T08:53:01.263Z"
   },
   {
    "duration": 163,
    "start_time": "2023-04-12T08:53:01.604Z"
   },
   {
    "duration": 9,
    "start_time": "2023-04-12T08:53:01.769Z"
   },
   {
    "duration": 166,
    "start_time": "2023-04-12T08:53:01.789Z"
   },
   {
    "duration": 8,
    "start_time": "2023-04-12T08:53:01.957Z"
   },
   {
    "duration": 268,
    "start_time": "2023-04-12T08:53:01.967Z"
   },
   {
    "duration": 210,
    "start_time": "2023-04-12T08:53:02.237Z"
   },
   {
    "duration": 12,
    "start_time": "2023-04-12T08:53:02.449Z"
   },
   {
    "duration": 28,
    "start_time": "2023-04-12T08:53:02.463Z"
   },
   {
    "duration": 32,
    "start_time": "2023-04-12T08:53:02.493Z"
   },
   {
    "duration": 16,
    "start_time": "2023-04-12T08:53:02.527Z"
   },
   {
    "duration": 14,
    "start_time": "2023-04-12T08:54:35.660Z"
   },
   {
    "duration": 14,
    "start_time": "2023-04-12T08:54:50.980Z"
   },
   {
    "duration": 79,
    "start_time": "2023-04-12T08:59:42.591Z"
   },
   {
    "duration": 81,
    "start_time": "2023-04-12T09:00:00.149Z"
   },
   {
    "duration": 600,
    "start_time": "2023-04-12T09:00:14.334Z"
   },
   {
    "duration": 274,
    "start_time": "2023-04-12T09:03:01.945Z"
   },
   {
    "duration": 555,
    "start_time": "2023-04-12T09:03:52.542Z"
   },
   {
    "duration": 541,
    "start_time": "2023-04-12T09:04:17.187Z"
   },
   {
    "duration": 239,
    "start_time": "2023-04-12T09:05:52.406Z"
   },
   {
    "duration": 239,
    "start_time": "2023-04-12T09:07:08.139Z"
   },
   {
    "duration": 228,
    "start_time": "2023-04-12T09:07:26.497Z"
   },
   {
    "duration": 364,
    "start_time": "2023-04-12T09:08:13.288Z"
   },
   {
    "duration": 320,
    "start_time": "2023-04-12T09:10:09.409Z"
   },
   {
    "duration": 242,
    "start_time": "2023-04-12T09:11:12.887Z"
   },
   {
    "duration": 259,
    "start_time": "2023-04-12T09:12:08.276Z"
   },
   {
    "duration": 330,
    "start_time": "2023-04-12T09:13:26.608Z"
   },
   {
    "duration": 358,
    "start_time": "2023-04-12T09:18:04.849Z"
   },
   {
    "duration": 342,
    "start_time": "2023-04-12T09:19:07.198Z"
   },
   {
    "duration": 350,
    "start_time": "2023-04-12T09:22:33.474Z"
   },
   {
    "duration": 168,
    "start_time": "2023-04-12T09:23:34.626Z"
   },
   {
    "duration": 155,
    "start_time": "2023-04-12T09:24:49.761Z"
   },
   {
    "duration": 162,
    "start_time": "2023-04-12T09:27:06.546Z"
   },
   {
    "duration": 159,
    "start_time": "2023-04-12T09:28:15.232Z"
   },
   {
    "duration": 196,
    "start_time": "2023-04-12T09:30:44.745Z"
   },
   {
    "duration": 350,
    "start_time": "2023-04-12T10:00:29.857Z"
   },
   {
    "duration": 77,
    "start_time": "2023-04-12T10:10:49.756Z"
   },
   {
    "duration": 250,
    "start_time": "2023-04-12T10:22:25.657Z"
   },
   {
    "duration": 6,
    "start_time": "2023-04-12T10:22:51.582Z"
   },
   {
    "duration": 8,
    "start_time": "2023-04-12T10:22:55.083Z"
   },
   {
    "duration": 175,
    "start_time": "2023-04-12T10:23:21.426Z"
   },
   {
    "duration": 1443,
    "start_time": "2023-04-12T10:23:44.561Z"
   },
   {
    "duration": 1143,
    "start_time": "2023-04-12T10:24:07.932Z"
   },
   {
    "duration": 345,
    "start_time": "2023-04-12T10:24:19.674Z"
   },
   {
    "duration": 76,
    "start_time": "2023-04-12T10:27:18.771Z"
   },
   {
    "duration": 293,
    "start_time": "2023-04-12T10:27:34.870Z"
   },
   {
    "duration": 156,
    "start_time": "2023-04-12T10:30:25.130Z"
   },
   {
    "duration": 184,
    "start_time": "2023-04-12T10:30:32.438Z"
   },
   {
    "duration": 198,
    "start_time": "2023-04-12T10:31:24.073Z"
   },
   {
    "duration": 179,
    "start_time": "2023-04-12T10:31:34.347Z"
   },
   {
    "duration": 183,
    "start_time": "2023-04-12T10:31:44.435Z"
   },
   {
    "duration": 188,
    "start_time": "2023-04-12T10:31:52.980Z"
   },
   {
    "duration": 174,
    "start_time": "2023-04-12T10:34:05.033Z"
   },
   {
    "duration": 272,
    "start_time": "2023-04-12T10:35:12.285Z"
   },
   {
    "duration": 175,
    "start_time": "2023-04-12T10:35:15.612Z"
   },
   {
    "duration": 173,
    "start_time": "2023-04-12T10:42:14.932Z"
   },
   {
    "duration": 102,
    "start_time": "2023-04-12T11:09:36.855Z"
   },
   {
    "duration": 176,
    "start_time": "2023-04-12T11:14:18.437Z"
   },
   {
    "duration": 169,
    "start_time": "2023-04-12T11:14:35.521Z"
   },
   {
    "duration": 222,
    "start_time": "2023-04-12T11:14:49.386Z"
   },
   {
    "duration": 196,
    "start_time": "2023-04-12T11:15:00.779Z"
   },
   {
    "duration": 12,
    "start_time": "2023-04-12T11:16:30.412Z"
   },
   {
    "duration": 196,
    "start_time": "2023-04-12T11:17:05.295Z"
   },
   {
    "duration": 32,
    "start_time": "2023-04-12T11:19:00.768Z"
   },
   {
    "duration": 16,
    "start_time": "2023-04-12T11:21:35.791Z"
   },
   {
    "duration": 99,
    "start_time": "2023-04-12T12:08:48.058Z"
   },
   {
    "duration": 1331,
    "start_time": "2023-04-12T12:09:11.311Z"
   },
   {
    "duration": 65,
    "start_time": "2023-04-12T12:09:12.644Z"
   },
   {
    "duration": 13,
    "start_time": "2023-04-12T12:09:12.711Z"
   },
   {
    "duration": 13,
    "start_time": "2023-04-12T12:09:12.728Z"
   },
   {
    "duration": 7,
    "start_time": "2023-04-12T12:09:12.743Z"
   },
   {
    "duration": 16,
    "start_time": "2023-04-12T12:09:12.752Z"
   },
   {
    "duration": 29,
    "start_time": "2023-04-12T12:09:12.769Z"
   },
   {
    "duration": 23,
    "start_time": "2023-04-12T12:09:12.800Z"
   },
   {
    "duration": 13,
    "start_time": "2023-04-12T12:09:12.825Z"
   },
   {
    "duration": 23,
    "start_time": "2023-04-12T12:09:12.840Z"
   },
   {
    "duration": 9,
    "start_time": "2023-04-12T12:09:12.865Z"
   },
   {
    "duration": 18,
    "start_time": "2023-04-12T12:09:12.876Z"
   },
   {
    "duration": 7,
    "start_time": "2023-04-12T12:09:12.896Z"
   },
   {
    "duration": 12,
    "start_time": "2023-04-12T12:09:12.905Z"
   },
   {
    "duration": 23,
    "start_time": "2023-04-12T12:09:12.920Z"
   },
   {
    "duration": 15,
    "start_time": "2023-04-12T12:09:12.945Z"
   },
   {
    "duration": 28,
    "start_time": "2023-04-12T12:09:12.962Z"
   },
   {
    "duration": 12,
    "start_time": "2023-04-12T12:09:12.992Z"
   },
   {
    "duration": 25,
    "start_time": "2023-04-12T12:09:13.006Z"
   },
   {
    "duration": 16,
    "start_time": "2023-04-12T12:09:13.034Z"
   },
   {
    "duration": 10,
    "start_time": "2023-04-12T12:09:13.053Z"
   },
   {
    "duration": 25,
    "start_time": "2023-04-12T12:09:13.066Z"
   },
   {
    "duration": 6,
    "start_time": "2023-04-12T12:09:13.094Z"
   },
   {
    "duration": 10,
    "start_time": "2023-04-12T12:09:13.102Z"
   },
   {
    "duration": 29,
    "start_time": "2023-04-12T12:09:13.114Z"
   },
   {
    "duration": 17,
    "start_time": "2023-04-12T12:09:13.145Z"
   },
   {
    "duration": 11,
    "start_time": "2023-04-12T12:09:13.164Z"
   },
   {
    "duration": 13,
    "start_time": "2023-04-12T12:09:13.189Z"
   },
   {
    "duration": 29,
    "start_time": "2023-04-12T12:09:13.204Z"
   },
   {
    "duration": 18,
    "start_time": "2023-04-12T12:09:13.236Z"
   },
   {
    "duration": 639,
    "start_time": "2023-04-12T12:09:13.256Z"
   },
   {
    "duration": 250,
    "start_time": "2023-04-12T12:09:13.897Z"
   },
   {
    "duration": 388,
    "start_time": "2023-04-12T12:09:14.149Z"
   },
   {
    "duration": 321,
    "start_time": "2023-04-12T12:09:14.539Z"
   },
   {
    "duration": 368,
    "start_time": "2023-04-12T12:09:14.862Z"
   },
   {
    "duration": 171,
    "start_time": "2023-04-12T12:09:15.232Z"
   },
   {
    "duration": 9,
    "start_time": "2023-04-12T12:09:15.405Z"
   },
   {
    "duration": 206,
    "start_time": "2023-04-12T12:09:15.416Z"
   },
   {
    "duration": 198,
    "start_time": "2023-04-12T12:09:15.624Z"
   },
   {
    "duration": 20,
    "start_time": "2023-04-12T12:09:15.824Z"
   },
   {
    "duration": 319,
    "start_time": "2023-04-12T12:09:15.847Z"
   },
   {
    "duration": 285,
    "start_time": "2023-04-12T12:09:16.168Z"
   },
   {
    "duration": 0,
    "start_time": "2023-04-12T12:09:16.455Z"
   },
   {
    "duration": 0,
    "start_time": "2023-04-12T12:09:16.457Z"
   },
   {
    "duration": 0,
    "start_time": "2023-04-12T12:09:16.458Z"
   },
   {
    "duration": 0,
    "start_time": "2023-04-12T12:09:16.459Z"
   },
   {
    "duration": 8,
    "start_time": "2023-04-12T12:10:12.552Z"
   },
   {
    "duration": 10,
    "start_time": "2023-04-12T12:10:26.114Z"
   },
   {
    "duration": 9,
    "start_time": "2023-04-12T12:10:58.433Z"
   },
   {
    "duration": 5,
    "start_time": "2023-04-12T12:11:19.017Z"
   },
   {
    "duration": 1364,
    "start_time": "2023-04-12T12:17:54.366Z"
   },
   {
    "duration": 237,
    "start_time": "2023-04-12T12:19:52.446Z"
   },
   {
    "duration": 174,
    "start_time": "2023-04-12T12:20:14.697Z"
   },
   {
    "duration": 1349,
    "start_time": "2023-04-12T12:20:22.763Z"
   },
   {
    "duration": 62,
    "start_time": "2023-04-12T12:20:24.114Z"
   },
   {
    "duration": 10,
    "start_time": "2023-04-12T12:20:24.178Z"
   },
   {
    "duration": 18,
    "start_time": "2023-04-12T12:20:24.191Z"
   },
   {
    "duration": 11,
    "start_time": "2023-04-12T12:20:24.211Z"
   },
   {
    "duration": 35,
    "start_time": "2023-04-12T12:20:24.224Z"
   },
   {
    "duration": 8,
    "start_time": "2023-04-12T12:20:24.261Z"
   },
   {
    "duration": 19,
    "start_time": "2023-04-12T12:20:24.271Z"
   },
   {
    "duration": 22,
    "start_time": "2023-04-12T12:20:24.292Z"
   },
   {
    "duration": 13,
    "start_time": "2023-04-12T12:20:24.317Z"
   },
   {
    "duration": 13,
    "start_time": "2023-04-12T12:20:24.332Z"
   },
   {
    "duration": 9,
    "start_time": "2023-04-12T12:20:24.346Z"
   },
   {
    "duration": 14,
    "start_time": "2023-04-12T12:20:24.357Z"
   },
   {
    "duration": 14,
    "start_time": "2023-04-12T12:20:24.372Z"
   },
   {
    "duration": 25,
    "start_time": "2023-04-12T12:20:24.387Z"
   },
   {
    "duration": 8,
    "start_time": "2023-04-12T12:20:24.413Z"
   },
   {
    "duration": 8,
    "start_time": "2023-04-12T12:20:24.423Z"
   },
   {
    "duration": 10,
    "start_time": "2023-04-12T12:20:24.433Z"
   },
   {
    "duration": 11,
    "start_time": "2023-04-12T12:20:24.445Z"
   },
   {
    "duration": 8,
    "start_time": "2023-04-12T12:20:24.459Z"
   },
   {
    "duration": 27,
    "start_time": "2023-04-12T12:20:24.469Z"
   },
   {
    "duration": 8,
    "start_time": "2023-04-12T12:20:24.498Z"
   },
   {
    "duration": 7,
    "start_time": "2023-04-12T12:20:24.508Z"
   },
   {
    "duration": 24,
    "start_time": "2023-04-12T12:20:24.517Z"
   },
   {
    "duration": 14,
    "start_time": "2023-04-12T12:20:24.543Z"
   },
   {
    "duration": 15,
    "start_time": "2023-04-12T12:20:24.559Z"
   },
   {
    "duration": 22,
    "start_time": "2023-04-12T12:20:24.576Z"
   },
   {
    "duration": 29,
    "start_time": "2023-04-12T12:20:24.603Z"
   },
   {
    "duration": 17,
    "start_time": "2023-04-12T12:20:24.634Z"
   },
   {
    "duration": 14,
    "start_time": "2023-04-12T12:20:24.653Z"
   },
   {
    "duration": 664,
    "start_time": "2023-04-12T12:20:24.669Z"
   },
   {
    "duration": 241,
    "start_time": "2023-04-12T12:20:25.335Z"
   },
   {
    "duration": 357,
    "start_time": "2023-04-12T12:20:25.578Z"
   },
   {
    "duration": 261,
    "start_time": "2023-04-12T12:20:25.937Z"
   },
   {
    "duration": 339,
    "start_time": "2023-04-12T12:20:26.200Z"
   },
   {
    "duration": 169,
    "start_time": "2023-04-12T12:20:26.540Z"
   },
   {
    "duration": 8,
    "start_time": "2023-04-12T12:20:26.710Z"
   },
   {
    "duration": 197,
    "start_time": "2023-04-12T12:20:26.720Z"
   },
   {
    "duration": 198,
    "start_time": "2023-04-12T12:20:26.919Z"
   },
   {
    "duration": 8,
    "start_time": "2023-04-12T12:20:27.119Z"
   },
   {
    "duration": 346,
    "start_time": "2023-04-12T12:20:27.129Z"
   },
   {
    "duration": 183,
    "start_time": "2023-04-12T12:20:27.477Z"
   },
   {
    "duration": 11,
    "start_time": "2023-04-12T12:20:27.662Z"
   },
   {
    "duration": 8,
    "start_time": "2023-04-12T12:20:27.689Z"
   },
   {
    "duration": 30,
    "start_time": "2023-04-12T12:20:27.699Z"
   },
   {
    "duration": 17,
    "start_time": "2023-04-12T12:20:27.731Z"
   },
   {
    "duration": 9,
    "start_time": "2023-04-12T12:24:15.608Z"
   },
   {
    "duration": 1277,
    "start_time": "2023-04-12T12:24:24.380Z"
   },
   {
    "duration": 63,
    "start_time": "2023-04-12T12:24:25.659Z"
   },
   {
    "duration": 11,
    "start_time": "2023-04-12T12:24:25.723Z"
   },
   {
    "duration": 14,
    "start_time": "2023-04-12T12:24:25.737Z"
   },
   {
    "duration": 5,
    "start_time": "2023-04-12T12:24:25.753Z"
   },
   {
    "duration": 14,
    "start_time": "2023-04-12T12:24:25.760Z"
   },
   {
    "duration": 11,
    "start_time": "2023-04-12T12:24:25.775Z"
   },
   {
    "duration": 13,
    "start_time": "2023-04-12T12:24:25.788Z"
   },
   {
    "duration": 11,
    "start_time": "2023-04-12T12:24:25.803Z"
   },
   {
    "duration": 21,
    "start_time": "2023-04-12T12:24:25.817Z"
   },
   {
    "duration": 4,
    "start_time": "2023-04-12T12:24:25.840Z"
   },
   {
    "duration": 7,
    "start_time": "2023-04-12T12:24:25.846Z"
   },
   {
    "duration": 15,
    "start_time": "2023-04-12T12:24:25.855Z"
   },
   {
    "duration": 22,
    "start_time": "2023-04-12T12:24:25.872Z"
   },
   {
    "duration": 9,
    "start_time": "2023-04-12T12:24:25.896Z"
   },
   {
    "duration": 8,
    "start_time": "2023-04-12T12:24:25.907Z"
   },
   {
    "duration": 8,
    "start_time": "2023-04-12T12:24:25.917Z"
   },
   {
    "duration": 10,
    "start_time": "2023-04-12T12:24:25.934Z"
   },
   {
    "duration": 51,
    "start_time": "2023-04-12T12:24:25.947Z"
   },
   {
    "duration": 10,
    "start_time": "2023-04-12T12:24:26.001Z"
   },
   {
    "duration": 14,
    "start_time": "2023-04-12T12:24:26.013Z"
   },
   {
    "duration": 17,
    "start_time": "2023-04-12T12:24:26.029Z"
   },
   {
    "duration": 6,
    "start_time": "2023-04-12T12:24:26.048Z"
   },
   {
    "duration": 27,
    "start_time": "2023-04-12T12:24:26.056Z"
   },
   {
    "duration": 21,
    "start_time": "2023-04-12T12:24:26.085Z"
   },
   {
    "duration": 20,
    "start_time": "2023-04-12T12:24:26.107Z"
   },
   {
    "duration": 16,
    "start_time": "2023-04-12T12:24:26.129Z"
   },
   {
    "duration": 11,
    "start_time": "2023-04-12T12:24:26.149Z"
   },
   {
    "duration": 26,
    "start_time": "2023-04-12T12:24:26.162Z"
   },
   {
    "duration": 14,
    "start_time": "2023-04-12T12:24:26.190Z"
   },
   {
    "duration": 658,
    "start_time": "2023-04-12T12:24:26.206Z"
   },
   {
    "duration": 250,
    "start_time": "2023-04-12T12:24:26.866Z"
   },
   {
    "duration": 320,
    "start_time": "2023-04-12T12:24:27.118Z"
   },
   {
    "duration": 258,
    "start_time": "2023-04-12T12:24:27.440Z"
   },
   {
    "duration": 351,
    "start_time": "2023-04-12T12:24:27.700Z"
   },
   {
    "duration": 172,
    "start_time": "2023-04-12T12:24:28.053Z"
   },
   {
    "duration": 8,
    "start_time": "2023-04-12T12:24:28.227Z"
   },
   {
    "duration": 199,
    "start_time": "2023-04-12T12:24:28.237Z"
   },
   {
    "duration": 202,
    "start_time": "2023-04-12T12:24:28.438Z"
   },
   {
    "duration": 9,
    "start_time": "2023-04-12T12:24:28.642Z"
   },
   {
    "duration": 371,
    "start_time": "2023-04-12T12:24:28.654Z"
   },
   {
    "duration": 189,
    "start_time": "2023-04-12T12:24:29.027Z"
   },
   {
    "duration": 16,
    "start_time": "2023-04-12T12:24:29.218Z"
   },
   {
    "duration": 10,
    "start_time": "2023-04-12T12:24:29.236Z"
   },
   {
    "duration": 55,
    "start_time": "2023-04-12T12:24:29.248Z"
   },
   {
    "duration": 22,
    "start_time": "2023-04-12T12:24:29.305Z"
   },
   {
    "duration": 1252,
    "start_time": "2023-04-12T12:28:18.540Z"
   },
   {
    "duration": 62,
    "start_time": "2023-04-12T12:28:19.794Z"
   },
   {
    "duration": 9,
    "start_time": "2023-04-12T12:28:19.858Z"
   },
   {
    "duration": 15,
    "start_time": "2023-04-12T12:28:19.869Z"
   },
   {
    "duration": 11,
    "start_time": "2023-04-12T12:28:19.885Z"
   },
   {
    "duration": 34,
    "start_time": "2023-04-12T12:28:19.898Z"
   },
   {
    "duration": 20,
    "start_time": "2023-04-12T12:28:19.934Z"
   },
   {
    "duration": 31,
    "start_time": "2023-04-12T12:28:19.956Z"
   },
   {
    "duration": 36,
    "start_time": "2023-04-12T12:28:19.989Z"
   },
   {
    "duration": 39,
    "start_time": "2023-04-12T12:28:20.028Z"
   },
   {
    "duration": 14,
    "start_time": "2023-04-12T12:28:20.069Z"
   },
   {
    "duration": 26,
    "start_time": "2023-04-12T12:28:20.085Z"
   },
   {
    "duration": 8,
    "start_time": "2023-04-12T12:28:20.112Z"
   },
   {
    "duration": 35,
    "start_time": "2023-04-12T12:28:20.122Z"
   },
   {
    "duration": 14,
    "start_time": "2023-04-12T12:28:20.158Z"
   },
   {
    "duration": 10,
    "start_time": "2023-04-12T12:28:20.174Z"
   },
   {
    "duration": 8,
    "start_time": "2023-04-12T12:28:20.186Z"
   },
   {
    "duration": 13,
    "start_time": "2023-04-12T12:28:20.196Z"
   },
   {
    "duration": 17,
    "start_time": "2023-04-12T12:28:20.211Z"
   },
   {
    "duration": 15,
    "start_time": "2023-04-12T12:28:20.231Z"
   },
   {
    "duration": 11,
    "start_time": "2023-04-12T12:28:20.249Z"
   },
   {
    "duration": 34,
    "start_time": "2023-04-12T12:28:20.263Z"
   },
   {
    "duration": 5,
    "start_time": "2023-04-12T12:28:20.299Z"
   },
   {
    "duration": 11,
    "start_time": "2023-04-12T12:28:20.307Z"
   },
   {
    "duration": 9,
    "start_time": "2023-04-12T12:28:20.320Z"
   },
   {
    "duration": 14,
    "start_time": "2023-04-12T12:28:20.331Z"
   },
   {
    "duration": 13,
    "start_time": "2023-04-12T12:28:20.389Z"
   },
   {
    "duration": 15,
    "start_time": "2023-04-12T12:28:20.406Z"
   },
   {
    "duration": 23,
    "start_time": "2023-04-12T12:28:20.423Z"
   },
   {
    "duration": 41,
    "start_time": "2023-04-12T12:28:20.448Z"
   },
   {
    "duration": 631,
    "start_time": "2023-04-12T12:28:20.492Z"
   },
   {
    "duration": 250,
    "start_time": "2023-04-12T12:28:21.125Z"
   },
   {
    "duration": 367,
    "start_time": "2023-04-12T12:28:21.376Z"
   },
   {
    "duration": 263,
    "start_time": "2023-04-12T12:28:21.745Z"
   },
   {
    "duration": 340,
    "start_time": "2023-04-12T12:28:22.010Z"
   },
   {
    "duration": 162,
    "start_time": "2023-04-12T12:28:22.352Z"
   },
   {
    "duration": 7,
    "start_time": "2023-04-12T12:28:22.516Z"
   },
   {
    "duration": 201,
    "start_time": "2023-04-12T12:28:22.525Z"
   },
   {
    "duration": 209,
    "start_time": "2023-04-12T12:28:22.730Z"
   },
   {
    "duration": 8,
    "start_time": "2023-04-12T12:28:22.941Z"
   },
   {
    "duration": 342,
    "start_time": "2023-04-12T12:28:22.951Z"
   },
   {
    "duration": 170,
    "start_time": "2023-04-12T12:28:23.295Z"
   },
   {
    "duration": 10,
    "start_time": "2023-04-12T12:28:23.467Z"
   },
   {
    "duration": 8,
    "start_time": "2023-04-12T12:28:23.489Z"
   },
   {
    "duration": 39,
    "start_time": "2023-04-12T12:28:23.499Z"
   },
   {
    "duration": 14,
    "start_time": "2023-04-12T12:28:23.540Z"
   },
   {
    "duration": 52,
    "start_time": "2023-04-13T13:30:19.339Z"
   },
   {
    "duration": 1322,
    "start_time": "2023-04-13T13:41:07.030Z"
   },
   {
    "duration": 198,
    "start_time": "2023-04-13T13:41:08.354Z"
   },
   {
    "duration": 10,
    "start_time": "2023-04-13T13:41:08.554Z"
   },
   {
    "duration": 13,
    "start_time": "2023-04-13T13:41:08.565Z"
   },
   {
    "duration": 4,
    "start_time": "2023-04-13T13:41:08.580Z"
   },
   {
    "duration": 23,
    "start_time": "2023-04-13T13:41:08.586Z"
   },
   {
    "duration": 5,
    "start_time": "2023-04-13T13:41:08.611Z"
   },
   {
    "duration": 9,
    "start_time": "2023-04-13T13:41:08.617Z"
   },
   {
    "duration": 23,
    "start_time": "2023-04-13T13:41:08.628Z"
   },
   {
    "duration": 13,
    "start_time": "2023-04-13T13:41:08.654Z"
   },
   {
    "duration": 6,
    "start_time": "2023-04-13T13:41:08.669Z"
   },
   {
    "duration": 16,
    "start_time": "2023-04-13T13:41:08.677Z"
   },
   {
    "duration": 7,
    "start_time": "2023-04-13T13:41:08.695Z"
   },
   {
    "duration": 5,
    "start_time": "2023-04-13T13:41:08.705Z"
   },
   {
    "duration": 8,
    "start_time": "2023-04-13T13:41:08.711Z"
   },
   {
    "duration": 7,
    "start_time": "2023-04-13T13:41:08.721Z"
   },
   {
    "duration": 7,
    "start_time": "2023-04-13T13:41:08.730Z"
   },
   {
    "duration": 8,
    "start_time": "2023-04-13T13:41:08.739Z"
   },
   {
    "duration": 50,
    "start_time": "2023-04-13T13:41:08.749Z"
   },
   {
    "duration": 4,
    "start_time": "2023-04-13T13:41:08.801Z"
   },
   {
    "duration": 10,
    "start_time": "2023-04-13T13:41:08.807Z"
   },
   {
    "duration": 7,
    "start_time": "2023-04-13T13:41:08.819Z"
   },
   {
    "duration": 4,
    "start_time": "2023-04-13T13:41:08.828Z"
   },
   {
    "duration": 5,
    "start_time": "2023-04-13T13:41:08.834Z"
   },
   {
    "duration": 7,
    "start_time": "2023-04-13T13:41:08.841Z"
   },
   {
    "duration": 49,
    "start_time": "2023-04-13T13:41:08.849Z"
   },
   {
    "duration": 10,
    "start_time": "2023-04-13T13:41:08.899Z"
   },
   {
    "duration": 10,
    "start_time": "2023-04-13T13:41:08.910Z"
   },
   {
    "duration": 21,
    "start_time": "2023-04-13T13:41:08.922Z"
   },
   {
    "duration": 12,
    "start_time": "2023-04-13T13:41:08.945Z"
   },
   {
    "duration": 623,
    "start_time": "2023-04-13T13:41:08.958Z"
   },
   {
    "duration": 237,
    "start_time": "2023-04-13T13:41:09.582Z"
   },
   {
    "duration": 354,
    "start_time": "2023-04-13T13:41:09.821Z"
   },
   {
    "duration": 240,
    "start_time": "2023-04-13T13:41:10.176Z"
   },
   {
    "duration": 330,
    "start_time": "2023-04-13T13:41:10.418Z"
   },
   {
    "duration": 166,
    "start_time": "2023-04-13T13:41:10.750Z"
   },
   {
    "duration": 7,
    "start_time": "2023-04-13T13:41:10.918Z"
   },
   {
    "duration": 188,
    "start_time": "2023-04-13T13:41:10.926Z"
   },
   {
    "duration": 193,
    "start_time": "2023-04-13T13:41:11.116Z"
   },
   {
    "duration": 7,
    "start_time": "2023-04-13T13:41:11.311Z"
   },
   {
    "duration": 324,
    "start_time": "2023-04-13T13:41:11.322Z"
   },
   {
    "duration": 203,
    "start_time": "2023-04-13T13:41:11.648Z"
   },
   {
    "duration": 13,
    "start_time": "2023-04-13T13:41:11.853Z"
   },
   {
    "duration": 28,
    "start_time": "2023-04-13T13:41:11.869Z"
   },
   {
    "duration": 35,
    "start_time": "2023-04-13T13:41:11.899Z"
   },
   {
    "duration": 19,
    "start_time": "2023-04-13T13:41:11.936Z"
   },
   {
    "duration": 32,
    "start_time": "2023-04-13T13:43:12.255Z"
   },
   {
    "duration": 1159,
    "start_time": "2023-04-13T13:43:53.024Z"
   },
   {
    "duration": 62,
    "start_time": "2023-04-13T13:43:54.185Z"
   },
   {
    "duration": 8,
    "start_time": "2023-04-13T13:43:54.249Z"
   },
   {
    "duration": 16,
    "start_time": "2023-04-13T13:43:54.259Z"
   },
   {
    "duration": 5,
    "start_time": "2023-04-13T13:43:54.276Z"
   },
   {
    "duration": 17,
    "start_time": "2023-04-13T13:43:54.283Z"
   },
   {
    "duration": 12,
    "start_time": "2023-04-13T13:43:54.302Z"
   },
   {
    "duration": 11,
    "start_time": "2023-04-13T13:43:54.316Z"
   },
   {
    "duration": 16,
    "start_time": "2023-04-13T13:43:54.329Z"
   },
   {
    "duration": 13,
    "start_time": "2023-04-13T13:43:54.347Z"
   },
   {
    "duration": 16,
    "start_time": "2023-04-13T13:43:54.362Z"
   },
   {
    "duration": 8,
    "start_time": "2023-04-13T13:43:54.379Z"
   },
   {
    "duration": 10,
    "start_time": "2023-04-13T13:43:54.393Z"
   },
   {
    "duration": 19,
    "start_time": "2023-04-13T13:43:54.405Z"
   },
   {
    "duration": 9,
    "start_time": "2023-04-13T13:43:54.426Z"
   },
   {
    "duration": 7,
    "start_time": "2023-04-13T13:43:54.437Z"
   },
   {
    "duration": 7,
    "start_time": "2023-04-13T13:43:54.446Z"
   },
   {
    "duration": 14,
    "start_time": "2023-04-13T13:43:54.455Z"
   },
   {
    "duration": 24,
    "start_time": "2023-04-13T13:43:54.471Z"
   },
   {
    "duration": 5,
    "start_time": "2023-04-13T13:43:54.497Z"
   },
   {
    "duration": 12,
    "start_time": "2023-04-13T13:43:54.503Z"
   },
   {
    "duration": 6,
    "start_time": "2023-04-13T13:43:54.517Z"
   },
   {
    "duration": 3,
    "start_time": "2023-04-13T13:43:54.525Z"
   },
   {
    "duration": 9,
    "start_time": "2023-04-13T13:43:54.530Z"
   },
   {
    "duration": 10,
    "start_time": "2023-04-13T13:43:54.540Z"
   },
   {
    "duration": 45,
    "start_time": "2023-04-13T13:43:54.552Z"
   },
   {
    "duration": 10,
    "start_time": "2023-04-13T13:43:54.598Z"
   },
   {
    "duration": 11,
    "start_time": "2023-04-13T13:43:54.612Z"
   },
   {
    "duration": 15,
    "start_time": "2023-04-13T13:43:54.624Z"
   },
   {
    "duration": 14,
    "start_time": "2023-04-13T13:43:54.641Z"
   },
   {
    "duration": 646,
    "start_time": "2023-04-13T13:43:54.657Z"
   },
   {
    "duration": 236,
    "start_time": "2023-04-13T13:43:55.305Z"
   },
   {
    "duration": 325,
    "start_time": "2023-04-13T13:43:55.544Z"
   },
   {
    "duration": 256,
    "start_time": "2023-04-13T13:43:55.870Z"
   },
   {
    "duration": 335,
    "start_time": "2023-04-13T13:43:56.128Z"
   },
   {
    "duration": 174,
    "start_time": "2023-04-13T13:43:56.465Z"
   },
   {
    "duration": 8,
    "start_time": "2023-04-13T13:43:56.641Z"
   },
   {
    "duration": 192,
    "start_time": "2023-04-13T13:43:56.651Z"
   },
   {
    "duration": 191,
    "start_time": "2023-04-13T13:43:56.845Z"
   },
   {
    "duration": 9,
    "start_time": "2023-04-13T13:43:57.038Z"
   },
   {
    "duration": 301,
    "start_time": "2023-04-13T13:43:57.049Z"
   },
   {
    "duration": 177,
    "start_time": "2023-04-13T13:43:57.352Z"
   },
   {
    "duration": 10,
    "start_time": "2023-04-13T13:43:57.530Z"
   },
   {
    "duration": 17,
    "start_time": "2023-04-13T13:43:57.542Z"
   },
   {
    "duration": 41,
    "start_time": "2023-04-13T13:43:57.561Z"
   },
   {
    "duration": 15,
    "start_time": "2023-04-13T13:43:57.603Z"
   },
   {
    "duration": 1427,
    "start_time": "2023-06-15T18:00:44.309Z"
   },
   {
    "duration": 209,
    "start_time": "2023-06-15T18:00:45.738Z"
   },
   {
    "duration": 12,
    "start_time": "2023-06-15T18:00:45.949Z"
   },
   {
    "duration": 15,
    "start_time": "2023-06-15T18:00:45.963Z"
   },
   {
    "duration": 39,
    "start_time": "2023-06-15T18:00:45.980Z"
   },
   {
    "duration": 24,
    "start_time": "2023-06-15T18:00:46.023Z"
   },
   {
    "duration": 15,
    "start_time": "2023-06-15T18:00:46.049Z"
   },
   {
    "duration": 57,
    "start_time": "2023-06-15T18:00:46.066Z"
   },
   {
    "duration": 19,
    "start_time": "2023-06-15T18:00:46.128Z"
   },
   {
    "duration": 28,
    "start_time": "2023-06-15T18:00:46.151Z"
   },
   {
    "duration": 29,
    "start_time": "2023-06-15T18:00:46.181Z"
   },
   {
    "duration": 28,
    "start_time": "2023-06-15T18:00:46.214Z"
   },
   {
    "duration": 37,
    "start_time": "2023-06-15T18:00:46.244Z"
   },
   {
    "duration": 8,
    "start_time": "2023-06-15T18:00:46.283Z"
   },
   {
    "duration": 12,
    "start_time": "2023-06-15T18:00:46.293Z"
   },
   {
    "duration": 19,
    "start_time": "2023-06-15T18:00:46.306Z"
   },
   {
    "duration": 9,
    "start_time": "2023-06-15T18:00:46.330Z"
   },
   {
    "duration": 16,
    "start_time": "2023-06-15T18:00:46.341Z"
   },
   {
    "duration": 23,
    "start_time": "2023-06-15T18:00:46.359Z"
   },
   {
    "duration": 23,
    "start_time": "2023-06-15T18:00:46.383Z"
   },
   {
    "duration": 6,
    "start_time": "2023-06-15T18:00:46.408Z"
   },
   {
    "duration": 31,
    "start_time": "2023-06-15T18:00:46.415Z"
   },
   {
    "duration": 10,
    "start_time": "2023-06-15T18:00:46.448Z"
   },
   {
    "duration": 22,
    "start_time": "2023-06-15T18:00:46.460Z"
   },
   {
    "duration": 11,
    "start_time": "2023-06-15T18:00:46.484Z"
   },
   {
    "duration": 22,
    "start_time": "2023-06-15T18:00:46.497Z"
   },
   {
    "duration": 46,
    "start_time": "2023-06-15T18:00:46.521Z"
   },
   {
    "duration": 18,
    "start_time": "2023-06-15T18:00:46.572Z"
   },
   {
    "duration": 26,
    "start_time": "2023-06-15T18:00:46.593Z"
   },
   {
    "duration": 36,
    "start_time": "2023-06-15T18:00:46.621Z"
   },
   {
    "duration": 44,
    "start_time": "2023-06-15T18:00:46.658Z"
   },
   {
    "duration": 627,
    "start_time": "2023-06-15T18:00:46.704Z"
   },
   {
    "duration": 265,
    "start_time": "2023-06-15T18:00:47.334Z"
   },
   {
    "duration": 396,
    "start_time": "2023-06-15T18:00:47.601Z"
   },
   {
    "duration": 248,
    "start_time": "2023-06-15T18:00:47.999Z"
   },
   {
    "duration": 292,
    "start_time": "2023-06-15T18:00:48.249Z"
   },
   {
    "duration": 169,
    "start_time": "2023-06-15T18:00:48.542Z"
   },
   {
    "duration": 14,
    "start_time": "2023-06-15T18:00:48.714Z"
   },
   {
    "duration": 221,
    "start_time": "2023-06-15T18:00:48.729Z"
   },
   {
    "duration": 195,
    "start_time": "2023-06-15T18:00:48.952Z"
   },
   {
    "duration": 9,
    "start_time": "2023-06-15T18:00:49.151Z"
   },
   {
    "duration": 312,
    "start_time": "2023-06-15T18:00:49.162Z"
   },
   {
    "duration": 161,
    "start_time": "2023-06-15T18:00:49.476Z"
   },
   {
    "duration": 11,
    "start_time": "2023-06-15T18:00:49.639Z"
   },
   {
    "duration": 12,
    "start_time": "2023-06-15T18:00:49.652Z"
   },
   {
    "duration": 52,
    "start_time": "2023-06-15T18:00:49.666Z"
   },
   {
    "duration": 18,
    "start_time": "2023-06-15T18:00:49.719Z"
   }
  ],
  "kernelspec": {
   "display_name": "Python 3 (ipykernel)",
   "language": "python",
   "name": "python3"
  },
  "language_info": {
   "codemirror_mode": {
    "name": "ipython",
    "version": 3
   },
   "file_extension": ".py",
   "mimetype": "text/x-python",
   "name": "python",
   "nbconvert_exporter": "python",
   "pygments_lexer": "ipython3",
   "version": "3.11.4"
  },
  "toc": {
   "base_numbering": 1,
   "nav_menu": {},
   "number_sections": true,
   "sideBar": true,
   "skip_h1_title": true,
   "title_cell": "Table of Contents",
   "title_sidebar": "Contents",
   "toc_cell": false,
   "toc_position": {},
   "toc_section_display": true,
   "toc_window_display": true
  }
 },
 "nbformat": 4,
 "nbformat_minor": 2
}
